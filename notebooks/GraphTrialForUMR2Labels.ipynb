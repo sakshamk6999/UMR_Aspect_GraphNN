{
  "nbformat": 4,
  "nbformat_minor": 0,
  "metadata": {
    "colab": {
      "provenance": [],
      "gpuType": "T4"
    },
    "kernelspec": {
      "name": "python3",
      "display_name": "Python 3"
    },
    "language_info": {
      "name": "python"
    },
    "widgets": {
      "application/vnd.jupyter.widget-state+json": {
        "0ff83769dd8f4289ab341afa1d41365b": {
          "model_module": "@jupyter-widgets/controls",
          "model_name": "HBoxModel",
          "model_module_version": "1.5.0",
          "state": {
            "_dom_classes": [],
            "_model_module": "@jupyter-widgets/controls",
            "_model_module_version": "1.5.0",
            "_model_name": "HBoxModel",
            "_view_count": null,
            "_view_module": "@jupyter-widgets/controls",
            "_view_module_version": "1.5.0",
            "_view_name": "HBoxView",
            "box_style": "",
            "children": [
              "IPY_MODEL_376effb51f124180ab781af226061003",
              "IPY_MODEL_e41785388b14441b8bfac6da0b92899f",
              "IPY_MODEL_ad90f62c7e5a49eb81d638670a32eb4e"
            ],
            "layout": "IPY_MODEL_0b5cdde731444e389996226ef0b1c14f"
          }
        },
        "376effb51f124180ab781af226061003": {
          "model_module": "@jupyter-widgets/controls",
          "model_name": "HTMLModel",
          "model_module_version": "1.5.0",
          "state": {
            "_dom_classes": [],
            "_model_module": "@jupyter-widgets/controls",
            "_model_module_version": "1.5.0",
            "_model_name": "HTMLModel",
            "_view_count": null,
            "_view_module": "@jupyter-widgets/controls",
            "_view_module_version": "1.5.0",
            "_view_name": "HTMLView",
            "description": "",
            "description_tooltip": null,
            "layout": "IPY_MODEL_2a5086f218fd40cfbf6ef0cf57907b8d",
            "placeholder": "​",
            "style": "IPY_MODEL_e1b5180ed041493a8bdae8b3e7f550fa",
            "value": "tokenizer_config.json: 100%"
          }
        },
        "e41785388b14441b8bfac6da0b92899f": {
          "model_module": "@jupyter-widgets/controls",
          "model_name": "FloatProgressModel",
          "model_module_version": "1.5.0",
          "state": {
            "_dom_classes": [],
            "_model_module": "@jupyter-widgets/controls",
            "_model_module_version": "1.5.0",
            "_model_name": "FloatProgressModel",
            "_view_count": null,
            "_view_module": "@jupyter-widgets/controls",
            "_view_module_version": "1.5.0",
            "_view_name": "ProgressView",
            "bar_style": "success",
            "description": "",
            "description_tooltip": null,
            "layout": "IPY_MODEL_1e3526c1fd5647cab8f2b2f388b8d24e",
            "max": 48,
            "min": 0,
            "orientation": "horizontal",
            "style": "IPY_MODEL_f30f7a6f17eb4ac3acda5474233352e3",
            "value": 48
          }
        },
        "ad90f62c7e5a49eb81d638670a32eb4e": {
          "model_module": "@jupyter-widgets/controls",
          "model_name": "HTMLModel",
          "model_module_version": "1.5.0",
          "state": {
            "_dom_classes": [],
            "_model_module": "@jupyter-widgets/controls",
            "_model_module_version": "1.5.0",
            "_model_name": "HTMLModel",
            "_view_count": null,
            "_view_module": "@jupyter-widgets/controls",
            "_view_module_version": "1.5.0",
            "_view_name": "HTMLView",
            "description": "",
            "description_tooltip": null,
            "layout": "IPY_MODEL_258b527b82d14b78ba3133f82b62e747",
            "placeholder": "​",
            "style": "IPY_MODEL_5187964c2b0f4424891140b3737c8ac6",
            "value": " 48.0/48.0 [00:00&lt;00:00, 915B/s]"
          }
        },
        "0b5cdde731444e389996226ef0b1c14f": {
          "model_module": "@jupyter-widgets/base",
          "model_name": "LayoutModel",
          "model_module_version": "1.2.0",
          "state": {
            "_model_module": "@jupyter-widgets/base",
            "_model_module_version": "1.2.0",
            "_model_name": "LayoutModel",
            "_view_count": null,
            "_view_module": "@jupyter-widgets/base",
            "_view_module_version": "1.2.0",
            "_view_name": "LayoutView",
            "align_content": null,
            "align_items": null,
            "align_self": null,
            "border": null,
            "bottom": null,
            "display": null,
            "flex": null,
            "flex_flow": null,
            "grid_area": null,
            "grid_auto_columns": null,
            "grid_auto_flow": null,
            "grid_auto_rows": null,
            "grid_column": null,
            "grid_gap": null,
            "grid_row": null,
            "grid_template_areas": null,
            "grid_template_columns": null,
            "grid_template_rows": null,
            "height": null,
            "justify_content": null,
            "justify_items": null,
            "left": null,
            "margin": null,
            "max_height": null,
            "max_width": null,
            "min_height": null,
            "min_width": null,
            "object_fit": null,
            "object_position": null,
            "order": null,
            "overflow": null,
            "overflow_x": null,
            "overflow_y": null,
            "padding": null,
            "right": null,
            "top": null,
            "visibility": null,
            "width": null
          }
        },
        "2a5086f218fd40cfbf6ef0cf57907b8d": {
          "model_module": "@jupyter-widgets/base",
          "model_name": "LayoutModel",
          "model_module_version": "1.2.0",
          "state": {
            "_model_module": "@jupyter-widgets/base",
            "_model_module_version": "1.2.0",
            "_model_name": "LayoutModel",
            "_view_count": null,
            "_view_module": "@jupyter-widgets/base",
            "_view_module_version": "1.2.0",
            "_view_name": "LayoutView",
            "align_content": null,
            "align_items": null,
            "align_self": null,
            "border": null,
            "bottom": null,
            "display": null,
            "flex": null,
            "flex_flow": null,
            "grid_area": null,
            "grid_auto_columns": null,
            "grid_auto_flow": null,
            "grid_auto_rows": null,
            "grid_column": null,
            "grid_gap": null,
            "grid_row": null,
            "grid_template_areas": null,
            "grid_template_columns": null,
            "grid_template_rows": null,
            "height": null,
            "justify_content": null,
            "justify_items": null,
            "left": null,
            "margin": null,
            "max_height": null,
            "max_width": null,
            "min_height": null,
            "min_width": null,
            "object_fit": null,
            "object_position": null,
            "order": null,
            "overflow": null,
            "overflow_x": null,
            "overflow_y": null,
            "padding": null,
            "right": null,
            "top": null,
            "visibility": null,
            "width": null
          }
        },
        "e1b5180ed041493a8bdae8b3e7f550fa": {
          "model_module": "@jupyter-widgets/controls",
          "model_name": "DescriptionStyleModel",
          "model_module_version": "1.5.0",
          "state": {
            "_model_module": "@jupyter-widgets/controls",
            "_model_module_version": "1.5.0",
            "_model_name": "DescriptionStyleModel",
            "_view_count": null,
            "_view_module": "@jupyter-widgets/base",
            "_view_module_version": "1.2.0",
            "_view_name": "StyleView",
            "description_width": ""
          }
        },
        "1e3526c1fd5647cab8f2b2f388b8d24e": {
          "model_module": "@jupyter-widgets/base",
          "model_name": "LayoutModel",
          "model_module_version": "1.2.0",
          "state": {
            "_model_module": "@jupyter-widgets/base",
            "_model_module_version": "1.2.0",
            "_model_name": "LayoutModel",
            "_view_count": null,
            "_view_module": "@jupyter-widgets/base",
            "_view_module_version": "1.2.0",
            "_view_name": "LayoutView",
            "align_content": null,
            "align_items": null,
            "align_self": null,
            "border": null,
            "bottom": null,
            "display": null,
            "flex": null,
            "flex_flow": null,
            "grid_area": null,
            "grid_auto_columns": null,
            "grid_auto_flow": null,
            "grid_auto_rows": null,
            "grid_column": null,
            "grid_gap": null,
            "grid_row": null,
            "grid_template_areas": null,
            "grid_template_columns": null,
            "grid_template_rows": null,
            "height": null,
            "justify_content": null,
            "justify_items": null,
            "left": null,
            "margin": null,
            "max_height": null,
            "max_width": null,
            "min_height": null,
            "min_width": null,
            "object_fit": null,
            "object_position": null,
            "order": null,
            "overflow": null,
            "overflow_x": null,
            "overflow_y": null,
            "padding": null,
            "right": null,
            "top": null,
            "visibility": null,
            "width": null
          }
        },
        "f30f7a6f17eb4ac3acda5474233352e3": {
          "model_module": "@jupyter-widgets/controls",
          "model_name": "ProgressStyleModel",
          "model_module_version": "1.5.0",
          "state": {
            "_model_module": "@jupyter-widgets/controls",
            "_model_module_version": "1.5.0",
            "_model_name": "ProgressStyleModel",
            "_view_count": null,
            "_view_module": "@jupyter-widgets/base",
            "_view_module_version": "1.2.0",
            "_view_name": "StyleView",
            "bar_color": null,
            "description_width": ""
          }
        },
        "258b527b82d14b78ba3133f82b62e747": {
          "model_module": "@jupyter-widgets/base",
          "model_name": "LayoutModel",
          "model_module_version": "1.2.0",
          "state": {
            "_model_module": "@jupyter-widgets/base",
            "_model_module_version": "1.2.0",
            "_model_name": "LayoutModel",
            "_view_count": null,
            "_view_module": "@jupyter-widgets/base",
            "_view_module_version": "1.2.0",
            "_view_name": "LayoutView",
            "align_content": null,
            "align_items": null,
            "align_self": null,
            "border": null,
            "bottom": null,
            "display": null,
            "flex": null,
            "flex_flow": null,
            "grid_area": null,
            "grid_auto_columns": null,
            "grid_auto_flow": null,
            "grid_auto_rows": null,
            "grid_column": null,
            "grid_gap": null,
            "grid_row": null,
            "grid_template_areas": null,
            "grid_template_columns": null,
            "grid_template_rows": null,
            "height": null,
            "justify_content": null,
            "justify_items": null,
            "left": null,
            "margin": null,
            "max_height": null,
            "max_width": null,
            "min_height": null,
            "min_width": null,
            "object_fit": null,
            "object_position": null,
            "order": null,
            "overflow": null,
            "overflow_x": null,
            "overflow_y": null,
            "padding": null,
            "right": null,
            "top": null,
            "visibility": null,
            "width": null
          }
        },
        "5187964c2b0f4424891140b3737c8ac6": {
          "model_module": "@jupyter-widgets/controls",
          "model_name": "DescriptionStyleModel",
          "model_module_version": "1.5.0",
          "state": {
            "_model_module": "@jupyter-widgets/controls",
            "_model_module_version": "1.5.0",
            "_model_name": "DescriptionStyleModel",
            "_view_count": null,
            "_view_module": "@jupyter-widgets/base",
            "_view_module_version": "1.2.0",
            "_view_name": "StyleView",
            "description_width": ""
          }
        },
        "3de069978a564681bf16ef9d9b8d1b51": {
          "model_module": "@jupyter-widgets/controls",
          "model_name": "HBoxModel",
          "model_module_version": "1.5.0",
          "state": {
            "_dom_classes": [],
            "_model_module": "@jupyter-widgets/controls",
            "_model_module_version": "1.5.0",
            "_model_name": "HBoxModel",
            "_view_count": null,
            "_view_module": "@jupyter-widgets/controls",
            "_view_module_version": "1.5.0",
            "_view_name": "HBoxView",
            "box_style": "",
            "children": [
              "IPY_MODEL_2aaca8a149d94589956ed200b08e10ea",
              "IPY_MODEL_31e408f760b94f77863e4c0d8c8ee0ba",
              "IPY_MODEL_2ca3f403ab9b4a4dbafec57915b9ab52"
            ],
            "layout": "IPY_MODEL_f409420d22f5411db3a68abce803c54c"
          }
        },
        "2aaca8a149d94589956ed200b08e10ea": {
          "model_module": "@jupyter-widgets/controls",
          "model_name": "HTMLModel",
          "model_module_version": "1.5.0",
          "state": {
            "_dom_classes": [],
            "_model_module": "@jupyter-widgets/controls",
            "_model_module_version": "1.5.0",
            "_model_name": "HTMLModel",
            "_view_count": null,
            "_view_module": "@jupyter-widgets/controls",
            "_view_module_version": "1.5.0",
            "_view_name": "HTMLView",
            "description": "",
            "description_tooltip": null,
            "layout": "IPY_MODEL_5d166d9f8ac240cb8c7dbb4a28cddb93",
            "placeholder": "​",
            "style": "IPY_MODEL_8fde77c31855477fb3768972138bf0d9",
            "value": "vocab.txt: 100%"
          }
        },
        "31e408f760b94f77863e4c0d8c8ee0ba": {
          "model_module": "@jupyter-widgets/controls",
          "model_name": "FloatProgressModel",
          "model_module_version": "1.5.0",
          "state": {
            "_dom_classes": [],
            "_model_module": "@jupyter-widgets/controls",
            "_model_module_version": "1.5.0",
            "_model_name": "FloatProgressModel",
            "_view_count": null,
            "_view_module": "@jupyter-widgets/controls",
            "_view_module_version": "1.5.0",
            "_view_name": "ProgressView",
            "bar_style": "success",
            "description": "",
            "description_tooltip": null,
            "layout": "IPY_MODEL_2bd966fc65994b63a48ea09edee07728",
            "max": 231508,
            "min": 0,
            "orientation": "horizontal",
            "style": "IPY_MODEL_66503d0b865341878961292a0496b276",
            "value": 231508
          }
        },
        "2ca3f403ab9b4a4dbafec57915b9ab52": {
          "model_module": "@jupyter-widgets/controls",
          "model_name": "HTMLModel",
          "model_module_version": "1.5.0",
          "state": {
            "_dom_classes": [],
            "_model_module": "@jupyter-widgets/controls",
            "_model_module_version": "1.5.0",
            "_model_name": "HTMLModel",
            "_view_count": null,
            "_view_module": "@jupyter-widgets/controls",
            "_view_module_version": "1.5.0",
            "_view_name": "HTMLView",
            "description": "",
            "description_tooltip": null,
            "layout": "IPY_MODEL_060272f6ca854ffb92ca5efc33b11973",
            "placeholder": "​",
            "style": "IPY_MODEL_d75a6c80e3f4470cb637c9b7c5c6f9c0",
            "value": " 232k/232k [00:00&lt;00:00, 1.67MB/s]"
          }
        },
        "f409420d22f5411db3a68abce803c54c": {
          "model_module": "@jupyter-widgets/base",
          "model_name": "LayoutModel",
          "model_module_version": "1.2.0",
          "state": {
            "_model_module": "@jupyter-widgets/base",
            "_model_module_version": "1.2.0",
            "_model_name": "LayoutModel",
            "_view_count": null,
            "_view_module": "@jupyter-widgets/base",
            "_view_module_version": "1.2.0",
            "_view_name": "LayoutView",
            "align_content": null,
            "align_items": null,
            "align_self": null,
            "border": null,
            "bottom": null,
            "display": null,
            "flex": null,
            "flex_flow": null,
            "grid_area": null,
            "grid_auto_columns": null,
            "grid_auto_flow": null,
            "grid_auto_rows": null,
            "grid_column": null,
            "grid_gap": null,
            "grid_row": null,
            "grid_template_areas": null,
            "grid_template_columns": null,
            "grid_template_rows": null,
            "height": null,
            "justify_content": null,
            "justify_items": null,
            "left": null,
            "margin": null,
            "max_height": null,
            "max_width": null,
            "min_height": null,
            "min_width": null,
            "object_fit": null,
            "object_position": null,
            "order": null,
            "overflow": null,
            "overflow_x": null,
            "overflow_y": null,
            "padding": null,
            "right": null,
            "top": null,
            "visibility": null,
            "width": null
          }
        },
        "5d166d9f8ac240cb8c7dbb4a28cddb93": {
          "model_module": "@jupyter-widgets/base",
          "model_name": "LayoutModel",
          "model_module_version": "1.2.0",
          "state": {
            "_model_module": "@jupyter-widgets/base",
            "_model_module_version": "1.2.0",
            "_model_name": "LayoutModel",
            "_view_count": null,
            "_view_module": "@jupyter-widgets/base",
            "_view_module_version": "1.2.0",
            "_view_name": "LayoutView",
            "align_content": null,
            "align_items": null,
            "align_self": null,
            "border": null,
            "bottom": null,
            "display": null,
            "flex": null,
            "flex_flow": null,
            "grid_area": null,
            "grid_auto_columns": null,
            "grid_auto_flow": null,
            "grid_auto_rows": null,
            "grid_column": null,
            "grid_gap": null,
            "grid_row": null,
            "grid_template_areas": null,
            "grid_template_columns": null,
            "grid_template_rows": null,
            "height": null,
            "justify_content": null,
            "justify_items": null,
            "left": null,
            "margin": null,
            "max_height": null,
            "max_width": null,
            "min_height": null,
            "min_width": null,
            "object_fit": null,
            "object_position": null,
            "order": null,
            "overflow": null,
            "overflow_x": null,
            "overflow_y": null,
            "padding": null,
            "right": null,
            "top": null,
            "visibility": null,
            "width": null
          }
        },
        "8fde77c31855477fb3768972138bf0d9": {
          "model_module": "@jupyter-widgets/controls",
          "model_name": "DescriptionStyleModel",
          "model_module_version": "1.5.0",
          "state": {
            "_model_module": "@jupyter-widgets/controls",
            "_model_module_version": "1.5.0",
            "_model_name": "DescriptionStyleModel",
            "_view_count": null,
            "_view_module": "@jupyter-widgets/base",
            "_view_module_version": "1.2.0",
            "_view_name": "StyleView",
            "description_width": ""
          }
        },
        "2bd966fc65994b63a48ea09edee07728": {
          "model_module": "@jupyter-widgets/base",
          "model_name": "LayoutModel",
          "model_module_version": "1.2.0",
          "state": {
            "_model_module": "@jupyter-widgets/base",
            "_model_module_version": "1.2.0",
            "_model_name": "LayoutModel",
            "_view_count": null,
            "_view_module": "@jupyter-widgets/base",
            "_view_module_version": "1.2.0",
            "_view_name": "LayoutView",
            "align_content": null,
            "align_items": null,
            "align_self": null,
            "border": null,
            "bottom": null,
            "display": null,
            "flex": null,
            "flex_flow": null,
            "grid_area": null,
            "grid_auto_columns": null,
            "grid_auto_flow": null,
            "grid_auto_rows": null,
            "grid_column": null,
            "grid_gap": null,
            "grid_row": null,
            "grid_template_areas": null,
            "grid_template_columns": null,
            "grid_template_rows": null,
            "height": null,
            "justify_content": null,
            "justify_items": null,
            "left": null,
            "margin": null,
            "max_height": null,
            "max_width": null,
            "min_height": null,
            "min_width": null,
            "object_fit": null,
            "object_position": null,
            "order": null,
            "overflow": null,
            "overflow_x": null,
            "overflow_y": null,
            "padding": null,
            "right": null,
            "top": null,
            "visibility": null,
            "width": null
          }
        },
        "66503d0b865341878961292a0496b276": {
          "model_module": "@jupyter-widgets/controls",
          "model_name": "ProgressStyleModel",
          "model_module_version": "1.5.0",
          "state": {
            "_model_module": "@jupyter-widgets/controls",
            "_model_module_version": "1.5.0",
            "_model_name": "ProgressStyleModel",
            "_view_count": null,
            "_view_module": "@jupyter-widgets/base",
            "_view_module_version": "1.2.0",
            "_view_name": "StyleView",
            "bar_color": null,
            "description_width": ""
          }
        },
        "060272f6ca854ffb92ca5efc33b11973": {
          "model_module": "@jupyter-widgets/base",
          "model_name": "LayoutModel",
          "model_module_version": "1.2.0",
          "state": {
            "_model_module": "@jupyter-widgets/base",
            "_model_module_version": "1.2.0",
            "_model_name": "LayoutModel",
            "_view_count": null,
            "_view_module": "@jupyter-widgets/base",
            "_view_module_version": "1.2.0",
            "_view_name": "LayoutView",
            "align_content": null,
            "align_items": null,
            "align_self": null,
            "border": null,
            "bottom": null,
            "display": null,
            "flex": null,
            "flex_flow": null,
            "grid_area": null,
            "grid_auto_columns": null,
            "grid_auto_flow": null,
            "grid_auto_rows": null,
            "grid_column": null,
            "grid_gap": null,
            "grid_row": null,
            "grid_template_areas": null,
            "grid_template_columns": null,
            "grid_template_rows": null,
            "height": null,
            "justify_content": null,
            "justify_items": null,
            "left": null,
            "margin": null,
            "max_height": null,
            "max_width": null,
            "min_height": null,
            "min_width": null,
            "object_fit": null,
            "object_position": null,
            "order": null,
            "overflow": null,
            "overflow_x": null,
            "overflow_y": null,
            "padding": null,
            "right": null,
            "top": null,
            "visibility": null,
            "width": null
          }
        },
        "d75a6c80e3f4470cb637c9b7c5c6f9c0": {
          "model_module": "@jupyter-widgets/controls",
          "model_name": "DescriptionStyleModel",
          "model_module_version": "1.5.0",
          "state": {
            "_model_module": "@jupyter-widgets/controls",
            "_model_module_version": "1.5.0",
            "_model_name": "DescriptionStyleModel",
            "_view_count": null,
            "_view_module": "@jupyter-widgets/base",
            "_view_module_version": "1.2.0",
            "_view_name": "StyleView",
            "description_width": ""
          }
        },
        "c066c9d7566a4403b1e14b8475ad62df": {
          "model_module": "@jupyter-widgets/controls",
          "model_name": "HBoxModel",
          "model_module_version": "1.5.0",
          "state": {
            "_dom_classes": [],
            "_model_module": "@jupyter-widgets/controls",
            "_model_module_version": "1.5.0",
            "_model_name": "HBoxModel",
            "_view_count": null,
            "_view_module": "@jupyter-widgets/controls",
            "_view_module_version": "1.5.0",
            "_view_name": "HBoxView",
            "box_style": "",
            "children": [
              "IPY_MODEL_1efe29029ddd49959f8a0b7596250486",
              "IPY_MODEL_75ed12fe4a274145b02698fc45308e78",
              "IPY_MODEL_4bae8add99a4400ab6507d0e5f3abde6"
            ],
            "layout": "IPY_MODEL_d52df6c83b7f4ee1a676f4025698839c"
          }
        },
        "1efe29029ddd49959f8a0b7596250486": {
          "model_module": "@jupyter-widgets/controls",
          "model_name": "HTMLModel",
          "model_module_version": "1.5.0",
          "state": {
            "_dom_classes": [],
            "_model_module": "@jupyter-widgets/controls",
            "_model_module_version": "1.5.0",
            "_model_name": "HTMLModel",
            "_view_count": null,
            "_view_module": "@jupyter-widgets/controls",
            "_view_module_version": "1.5.0",
            "_view_name": "HTMLView",
            "description": "",
            "description_tooltip": null,
            "layout": "IPY_MODEL_7f4eccbca3824a9fba8b9b132789aa40",
            "placeholder": "​",
            "style": "IPY_MODEL_7136dc315224433aa3e636e8fdbc3b4b",
            "value": "tokenizer.json: 100%"
          }
        },
        "75ed12fe4a274145b02698fc45308e78": {
          "model_module": "@jupyter-widgets/controls",
          "model_name": "FloatProgressModel",
          "model_module_version": "1.5.0",
          "state": {
            "_dom_classes": [],
            "_model_module": "@jupyter-widgets/controls",
            "_model_module_version": "1.5.0",
            "_model_name": "FloatProgressModel",
            "_view_count": null,
            "_view_module": "@jupyter-widgets/controls",
            "_view_module_version": "1.5.0",
            "_view_name": "ProgressView",
            "bar_style": "success",
            "description": "",
            "description_tooltip": null,
            "layout": "IPY_MODEL_f0ba8788b3584a0282b8f8b30239d16b",
            "max": 466062,
            "min": 0,
            "orientation": "horizontal",
            "style": "IPY_MODEL_cc5d84420dd94406aeef155ea99709cd",
            "value": 466062
          }
        },
        "4bae8add99a4400ab6507d0e5f3abde6": {
          "model_module": "@jupyter-widgets/controls",
          "model_name": "HTMLModel",
          "model_module_version": "1.5.0",
          "state": {
            "_dom_classes": [],
            "_model_module": "@jupyter-widgets/controls",
            "_model_module_version": "1.5.0",
            "_model_name": "HTMLModel",
            "_view_count": null,
            "_view_module": "@jupyter-widgets/controls",
            "_view_module_version": "1.5.0",
            "_view_name": "HTMLView",
            "description": "",
            "description_tooltip": null,
            "layout": "IPY_MODEL_fffddab106c243829a623d3cad177eaf",
            "placeholder": "​",
            "style": "IPY_MODEL_9cf5d4aaa5b842b88baf42f3470dea4d",
            "value": " 466k/466k [00:00&lt;00:00, 6.67MB/s]"
          }
        },
        "d52df6c83b7f4ee1a676f4025698839c": {
          "model_module": "@jupyter-widgets/base",
          "model_name": "LayoutModel",
          "model_module_version": "1.2.0",
          "state": {
            "_model_module": "@jupyter-widgets/base",
            "_model_module_version": "1.2.0",
            "_model_name": "LayoutModel",
            "_view_count": null,
            "_view_module": "@jupyter-widgets/base",
            "_view_module_version": "1.2.0",
            "_view_name": "LayoutView",
            "align_content": null,
            "align_items": null,
            "align_self": null,
            "border": null,
            "bottom": null,
            "display": null,
            "flex": null,
            "flex_flow": null,
            "grid_area": null,
            "grid_auto_columns": null,
            "grid_auto_flow": null,
            "grid_auto_rows": null,
            "grid_column": null,
            "grid_gap": null,
            "grid_row": null,
            "grid_template_areas": null,
            "grid_template_columns": null,
            "grid_template_rows": null,
            "height": null,
            "justify_content": null,
            "justify_items": null,
            "left": null,
            "margin": null,
            "max_height": null,
            "max_width": null,
            "min_height": null,
            "min_width": null,
            "object_fit": null,
            "object_position": null,
            "order": null,
            "overflow": null,
            "overflow_x": null,
            "overflow_y": null,
            "padding": null,
            "right": null,
            "top": null,
            "visibility": null,
            "width": null
          }
        },
        "7f4eccbca3824a9fba8b9b132789aa40": {
          "model_module": "@jupyter-widgets/base",
          "model_name": "LayoutModel",
          "model_module_version": "1.2.0",
          "state": {
            "_model_module": "@jupyter-widgets/base",
            "_model_module_version": "1.2.0",
            "_model_name": "LayoutModel",
            "_view_count": null,
            "_view_module": "@jupyter-widgets/base",
            "_view_module_version": "1.2.0",
            "_view_name": "LayoutView",
            "align_content": null,
            "align_items": null,
            "align_self": null,
            "border": null,
            "bottom": null,
            "display": null,
            "flex": null,
            "flex_flow": null,
            "grid_area": null,
            "grid_auto_columns": null,
            "grid_auto_flow": null,
            "grid_auto_rows": null,
            "grid_column": null,
            "grid_gap": null,
            "grid_row": null,
            "grid_template_areas": null,
            "grid_template_columns": null,
            "grid_template_rows": null,
            "height": null,
            "justify_content": null,
            "justify_items": null,
            "left": null,
            "margin": null,
            "max_height": null,
            "max_width": null,
            "min_height": null,
            "min_width": null,
            "object_fit": null,
            "object_position": null,
            "order": null,
            "overflow": null,
            "overflow_x": null,
            "overflow_y": null,
            "padding": null,
            "right": null,
            "top": null,
            "visibility": null,
            "width": null
          }
        },
        "7136dc315224433aa3e636e8fdbc3b4b": {
          "model_module": "@jupyter-widgets/controls",
          "model_name": "DescriptionStyleModel",
          "model_module_version": "1.5.0",
          "state": {
            "_model_module": "@jupyter-widgets/controls",
            "_model_module_version": "1.5.0",
            "_model_name": "DescriptionStyleModel",
            "_view_count": null,
            "_view_module": "@jupyter-widgets/base",
            "_view_module_version": "1.2.0",
            "_view_name": "StyleView",
            "description_width": ""
          }
        },
        "f0ba8788b3584a0282b8f8b30239d16b": {
          "model_module": "@jupyter-widgets/base",
          "model_name": "LayoutModel",
          "model_module_version": "1.2.0",
          "state": {
            "_model_module": "@jupyter-widgets/base",
            "_model_module_version": "1.2.0",
            "_model_name": "LayoutModel",
            "_view_count": null,
            "_view_module": "@jupyter-widgets/base",
            "_view_module_version": "1.2.0",
            "_view_name": "LayoutView",
            "align_content": null,
            "align_items": null,
            "align_self": null,
            "border": null,
            "bottom": null,
            "display": null,
            "flex": null,
            "flex_flow": null,
            "grid_area": null,
            "grid_auto_columns": null,
            "grid_auto_flow": null,
            "grid_auto_rows": null,
            "grid_column": null,
            "grid_gap": null,
            "grid_row": null,
            "grid_template_areas": null,
            "grid_template_columns": null,
            "grid_template_rows": null,
            "height": null,
            "justify_content": null,
            "justify_items": null,
            "left": null,
            "margin": null,
            "max_height": null,
            "max_width": null,
            "min_height": null,
            "min_width": null,
            "object_fit": null,
            "object_position": null,
            "order": null,
            "overflow": null,
            "overflow_x": null,
            "overflow_y": null,
            "padding": null,
            "right": null,
            "top": null,
            "visibility": null,
            "width": null
          }
        },
        "cc5d84420dd94406aeef155ea99709cd": {
          "model_module": "@jupyter-widgets/controls",
          "model_name": "ProgressStyleModel",
          "model_module_version": "1.5.0",
          "state": {
            "_model_module": "@jupyter-widgets/controls",
            "_model_module_version": "1.5.0",
            "_model_name": "ProgressStyleModel",
            "_view_count": null,
            "_view_module": "@jupyter-widgets/base",
            "_view_module_version": "1.2.0",
            "_view_name": "StyleView",
            "bar_color": null,
            "description_width": ""
          }
        },
        "fffddab106c243829a623d3cad177eaf": {
          "model_module": "@jupyter-widgets/base",
          "model_name": "LayoutModel",
          "model_module_version": "1.2.0",
          "state": {
            "_model_module": "@jupyter-widgets/base",
            "_model_module_version": "1.2.0",
            "_model_name": "LayoutModel",
            "_view_count": null,
            "_view_module": "@jupyter-widgets/base",
            "_view_module_version": "1.2.0",
            "_view_name": "LayoutView",
            "align_content": null,
            "align_items": null,
            "align_self": null,
            "border": null,
            "bottom": null,
            "display": null,
            "flex": null,
            "flex_flow": null,
            "grid_area": null,
            "grid_auto_columns": null,
            "grid_auto_flow": null,
            "grid_auto_rows": null,
            "grid_column": null,
            "grid_gap": null,
            "grid_row": null,
            "grid_template_areas": null,
            "grid_template_columns": null,
            "grid_template_rows": null,
            "height": null,
            "justify_content": null,
            "justify_items": null,
            "left": null,
            "margin": null,
            "max_height": null,
            "max_width": null,
            "min_height": null,
            "min_width": null,
            "object_fit": null,
            "object_position": null,
            "order": null,
            "overflow": null,
            "overflow_x": null,
            "overflow_y": null,
            "padding": null,
            "right": null,
            "top": null,
            "visibility": null,
            "width": null
          }
        },
        "9cf5d4aaa5b842b88baf42f3470dea4d": {
          "model_module": "@jupyter-widgets/controls",
          "model_name": "DescriptionStyleModel",
          "model_module_version": "1.5.0",
          "state": {
            "_model_module": "@jupyter-widgets/controls",
            "_model_module_version": "1.5.0",
            "_model_name": "DescriptionStyleModel",
            "_view_count": null,
            "_view_module": "@jupyter-widgets/base",
            "_view_module_version": "1.2.0",
            "_view_name": "StyleView",
            "description_width": ""
          }
        },
        "cf22f015bc074b5388f800bc626c4159": {
          "model_module": "@jupyter-widgets/controls",
          "model_name": "HBoxModel",
          "model_module_version": "1.5.0",
          "state": {
            "_dom_classes": [],
            "_model_module": "@jupyter-widgets/controls",
            "_model_module_version": "1.5.0",
            "_model_name": "HBoxModel",
            "_view_count": null,
            "_view_module": "@jupyter-widgets/controls",
            "_view_module_version": "1.5.0",
            "_view_name": "HBoxView",
            "box_style": "",
            "children": [
              "IPY_MODEL_91ba349fecd0437284fcdfa4d720a446",
              "IPY_MODEL_ab6e6f0e3db047d29f56d88a21f520a2",
              "IPY_MODEL_f5b5b2785a704fc78b26844bd6b8a320"
            ],
            "layout": "IPY_MODEL_e86d1bf30e414ddf9aa3221f201dbc9e"
          }
        },
        "91ba349fecd0437284fcdfa4d720a446": {
          "model_module": "@jupyter-widgets/controls",
          "model_name": "HTMLModel",
          "model_module_version": "1.5.0",
          "state": {
            "_dom_classes": [],
            "_model_module": "@jupyter-widgets/controls",
            "_model_module_version": "1.5.0",
            "_model_name": "HTMLModel",
            "_view_count": null,
            "_view_module": "@jupyter-widgets/controls",
            "_view_module_version": "1.5.0",
            "_view_name": "HTMLView",
            "description": "",
            "description_tooltip": null,
            "layout": "IPY_MODEL_7c15c52e84fb49eb879f95a3ced7c636",
            "placeholder": "​",
            "style": "IPY_MODEL_ee25014cd84f47cfa444bc4a82a0e41e",
            "value": "config.json: 100%"
          }
        },
        "ab6e6f0e3db047d29f56d88a21f520a2": {
          "model_module": "@jupyter-widgets/controls",
          "model_name": "FloatProgressModel",
          "model_module_version": "1.5.0",
          "state": {
            "_dom_classes": [],
            "_model_module": "@jupyter-widgets/controls",
            "_model_module_version": "1.5.0",
            "_model_name": "FloatProgressModel",
            "_view_count": null,
            "_view_module": "@jupyter-widgets/controls",
            "_view_module_version": "1.5.0",
            "_view_name": "ProgressView",
            "bar_style": "success",
            "description": "",
            "description_tooltip": null,
            "layout": "IPY_MODEL_2ae51ccbab374d6e9816e84ea061787f",
            "max": 570,
            "min": 0,
            "orientation": "horizontal",
            "style": "IPY_MODEL_f3e635f107a045d8981a7349585c640a",
            "value": 570
          }
        },
        "f5b5b2785a704fc78b26844bd6b8a320": {
          "model_module": "@jupyter-widgets/controls",
          "model_name": "HTMLModel",
          "model_module_version": "1.5.0",
          "state": {
            "_dom_classes": [],
            "_model_module": "@jupyter-widgets/controls",
            "_model_module_version": "1.5.0",
            "_model_name": "HTMLModel",
            "_view_count": null,
            "_view_module": "@jupyter-widgets/controls",
            "_view_module_version": "1.5.0",
            "_view_name": "HTMLView",
            "description": "",
            "description_tooltip": null,
            "layout": "IPY_MODEL_555a56fac4934e36acccb4a5828c93db",
            "placeholder": "​",
            "style": "IPY_MODEL_56557d72deeb41b09452f54ac16e7013",
            "value": " 570/570 [00:00&lt;00:00, 14.9kB/s]"
          }
        },
        "e86d1bf30e414ddf9aa3221f201dbc9e": {
          "model_module": "@jupyter-widgets/base",
          "model_name": "LayoutModel",
          "model_module_version": "1.2.0",
          "state": {
            "_model_module": "@jupyter-widgets/base",
            "_model_module_version": "1.2.0",
            "_model_name": "LayoutModel",
            "_view_count": null,
            "_view_module": "@jupyter-widgets/base",
            "_view_module_version": "1.2.0",
            "_view_name": "LayoutView",
            "align_content": null,
            "align_items": null,
            "align_self": null,
            "border": null,
            "bottom": null,
            "display": null,
            "flex": null,
            "flex_flow": null,
            "grid_area": null,
            "grid_auto_columns": null,
            "grid_auto_flow": null,
            "grid_auto_rows": null,
            "grid_column": null,
            "grid_gap": null,
            "grid_row": null,
            "grid_template_areas": null,
            "grid_template_columns": null,
            "grid_template_rows": null,
            "height": null,
            "justify_content": null,
            "justify_items": null,
            "left": null,
            "margin": null,
            "max_height": null,
            "max_width": null,
            "min_height": null,
            "min_width": null,
            "object_fit": null,
            "object_position": null,
            "order": null,
            "overflow": null,
            "overflow_x": null,
            "overflow_y": null,
            "padding": null,
            "right": null,
            "top": null,
            "visibility": null,
            "width": null
          }
        },
        "7c15c52e84fb49eb879f95a3ced7c636": {
          "model_module": "@jupyter-widgets/base",
          "model_name": "LayoutModel",
          "model_module_version": "1.2.0",
          "state": {
            "_model_module": "@jupyter-widgets/base",
            "_model_module_version": "1.2.0",
            "_model_name": "LayoutModel",
            "_view_count": null,
            "_view_module": "@jupyter-widgets/base",
            "_view_module_version": "1.2.0",
            "_view_name": "LayoutView",
            "align_content": null,
            "align_items": null,
            "align_self": null,
            "border": null,
            "bottom": null,
            "display": null,
            "flex": null,
            "flex_flow": null,
            "grid_area": null,
            "grid_auto_columns": null,
            "grid_auto_flow": null,
            "grid_auto_rows": null,
            "grid_column": null,
            "grid_gap": null,
            "grid_row": null,
            "grid_template_areas": null,
            "grid_template_columns": null,
            "grid_template_rows": null,
            "height": null,
            "justify_content": null,
            "justify_items": null,
            "left": null,
            "margin": null,
            "max_height": null,
            "max_width": null,
            "min_height": null,
            "min_width": null,
            "object_fit": null,
            "object_position": null,
            "order": null,
            "overflow": null,
            "overflow_x": null,
            "overflow_y": null,
            "padding": null,
            "right": null,
            "top": null,
            "visibility": null,
            "width": null
          }
        },
        "ee25014cd84f47cfa444bc4a82a0e41e": {
          "model_module": "@jupyter-widgets/controls",
          "model_name": "DescriptionStyleModel",
          "model_module_version": "1.5.0",
          "state": {
            "_model_module": "@jupyter-widgets/controls",
            "_model_module_version": "1.5.0",
            "_model_name": "DescriptionStyleModel",
            "_view_count": null,
            "_view_module": "@jupyter-widgets/base",
            "_view_module_version": "1.2.0",
            "_view_name": "StyleView",
            "description_width": ""
          }
        },
        "2ae51ccbab374d6e9816e84ea061787f": {
          "model_module": "@jupyter-widgets/base",
          "model_name": "LayoutModel",
          "model_module_version": "1.2.0",
          "state": {
            "_model_module": "@jupyter-widgets/base",
            "_model_module_version": "1.2.0",
            "_model_name": "LayoutModel",
            "_view_count": null,
            "_view_module": "@jupyter-widgets/base",
            "_view_module_version": "1.2.0",
            "_view_name": "LayoutView",
            "align_content": null,
            "align_items": null,
            "align_self": null,
            "border": null,
            "bottom": null,
            "display": null,
            "flex": null,
            "flex_flow": null,
            "grid_area": null,
            "grid_auto_columns": null,
            "grid_auto_flow": null,
            "grid_auto_rows": null,
            "grid_column": null,
            "grid_gap": null,
            "grid_row": null,
            "grid_template_areas": null,
            "grid_template_columns": null,
            "grid_template_rows": null,
            "height": null,
            "justify_content": null,
            "justify_items": null,
            "left": null,
            "margin": null,
            "max_height": null,
            "max_width": null,
            "min_height": null,
            "min_width": null,
            "object_fit": null,
            "object_position": null,
            "order": null,
            "overflow": null,
            "overflow_x": null,
            "overflow_y": null,
            "padding": null,
            "right": null,
            "top": null,
            "visibility": null,
            "width": null
          }
        },
        "f3e635f107a045d8981a7349585c640a": {
          "model_module": "@jupyter-widgets/controls",
          "model_name": "ProgressStyleModel",
          "model_module_version": "1.5.0",
          "state": {
            "_model_module": "@jupyter-widgets/controls",
            "_model_module_version": "1.5.0",
            "_model_name": "ProgressStyleModel",
            "_view_count": null,
            "_view_module": "@jupyter-widgets/base",
            "_view_module_version": "1.2.0",
            "_view_name": "StyleView",
            "bar_color": null,
            "description_width": ""
          }
        },
        "555a56fac4934e36acccb4a5828c93db": {
          "model_module": "@jupyter-widgets/base",
          "model_name": "LayoutModel",
          "model_module_version": "1.2.0",
          "state": {
            "_model_module": "@jupyter-widgets/base",
            "_model_module_version": "1.2.0",
            "_model_name": "LayoutModel",
            "_view_count": null,
            "_view_module": "@jupyter-widgets/base",
            "_view_module_version": "1.2.0",
            "_view_name": "LayoutView",
            "align_content": null,
            "align_items": null,
            "align_self": null,
            "border": null,
            "bottom": null,
            "display": null,
            "flex": null,
            "flex_flow": null,
            "grid_area": null,
            "grid_auto_columns": null,
            "grid_auto_flow": null,
            "grid_auto_rows": null,
            "grid_column": null,
            "grid_gap": null,
            "grid_row": null,
            "grid_template_areas": null,
            "grid_template_columns": null,
            "grid_template_rows": null,
            "height": null,
            "justify_content": null,
            "justify_items": null,
            "left": null,
            "margin": null,
            "max_height": null,
            "max_width": null,
            "min_height": null,
            "min_width": null,
            "object_fit": null,
            "object_position": null,
            "order": null,
            "overflow": null,
            "overflow_x": null,
            "overflow_y": null,
            "padding": null,
            "right": null,
            "top": null,
            "visibility": null,
            "width": null
          }
        },
        "56557d72deeb41b09452f54ac16e7013": {
          "model_module": "@jupyter-widgets/controls",
          "model_name": "DescriptionStyleModel",
          "model_module_version": "1.5.0",
          "state": {
            "_model_module": "@jupyter-widgets/controls",
            "_model_module_version": "1.5.0",
            "_model_name": "DescriptionStyleModel",
            "_view_count": null,
            "_view_module": "@jupyter-widgets/base",
            "_view_module_version": "1.2.0",
            "_view_name": "StyleView",
            "description_width": ""
          }
        },
        "1a142d5f78664dc59474d6782777c798": {
          "model_module": "@jupyter-widgets/controls",
          "model_name": "HBoxModel",
          "model_module_version": "1.5.0",
          "state": {
            "_dom_classes": [],
            "_model_module": "@jupyter-widgets/controls",
            "_model_module_version": "1.5.0",
            "_model_name": "HBoxModel",
            "_view_count": null,
            "_view_module": "@jupyter-widgets/controls",
            "_view_module_version": "1.5.0",
            "_view_name": "HBoxView",
            "box_style": "",
            "children": [
              "IPY_MODEL_78daa7692bcb4a3dab1c7fa978f2fc22",
              "IPY_MODEL_0fa56a1b8f714356b2ef080e2b6904f7",
              "IPY_MODEL_021592a3b4234e04b03e0f785bd85f82"
            ],
            "layout": "IPY_MODEL_48d7b0e4218746228d48add0f4cc36dd"
          }
        },
        "78daa7692bcb4a3dab1c7fa978f2fc22": {
          "model_module": "@jupyter-widgets/controls",
          "model_name": "HTMLModel",
          "model_module_version": "1.5.0",
          "state": {
            "_dom_classes": [],
            "_model_module": "@jupyter-widgets/controls",
            "_model_module_version": "1.5.0",
            "_model_name": "HTMLModel",
            "_view_count": null,
            "_view_module": "@jupyter-widgets/controls",
            "_view_module_version": "1.5.0",
            "_view_name": "HTMLView",
            "description": "",
            "description_tooltip": null,
            "layout": "IPY_MODEL_1b8726073a394451aaa028b87cc0d443",
            "placeholder": "​",
            "style": "IPY_MODEL_e54fc9abe621440c977fc269bd4f76ca",
            "value": "model.safetensors: 100%"
          }
        },
        "0fa56a1b8f714356b2ef080e2b6904f7": {
          "model_module": "@jupyter-widgets/controls",
          "model_name": "FloatProgressModel",
          "model_module_version": "1.5.0",
          "state": {
            "_dom_classes": [],
            "_model_module": "@jupyter-widgets/controls",
            "_model_module_version": "1.5.0",
            "_model_name": "FloatProgressModel",
            "_view_count": null,
            "_view_module": "@jupyter-widgets/controls",
            "_view_module_version": "1.5.0",
            "_view_name": "ProgressView",
            "bar_style": "success",
            "description": "",
            "description_tooltip": null,
            "layout": "IPY_MODEL_222f6ac5adb04c28b257c2aad75acc4e",
            "max": 440449768,
            "min": 0,
            "orientation": "horizontal",
            "style": "IPY_MODEL_03ba8a4c601b449fb4e7684d1e2af7bf",
            "value": 440449768
          }
        },
        "021592a3b4234e04b03e0f785bd85f82": {
          "model_module": "@jupyter-widgets/controls",
          "model_name": "HTMLModel",
          "model_module_version": "1.5.0",
          "state": {
            "_dom_classes": [],
            "_model_module": "@jupyter-widgets/controls",
            "_model_module_version": "1.5.0",
            "_model_name": "HTMLModel",
            "_view_count": null,
            "_view_module": "@jupyter-widgets/controls",
            "_view_module_version": "1.5.0",
            "_view_name": "HTMLView",
            "description": "",
            "description_tooltip": null,
            "layout": "IPY_MODEL_d991482c6fc24c3aae09325f40d008df",
            "placeholder": "​",
            "style": "IPY_MODEL_5236dc89ae5342b1ba6d60460a853ae0",
            "value": " 440M/440M [00:02&lt;00:00, 171MB/s]"
          }
        },
        "48d7b0e4218746228d48add0f4cc36dd": {
          "model_module": "@jupyter-widgets/base",
          "model_name": "LayoutModel",
          "model_module_version": "1.2.0",
          "state": {
            "_model_module": "@jupyter-widgets/base",
            "_model_module_version": "1.2.0",
            "_model_name": "LayoutModel",
            "_view_count": null,
            "_view_module": "@jupyter-widgets/base",
            "_view_module_version": "1.2.0",
            "_view_name": "LayoutView",
            "align_content": null,
            "align_items": null,
            "align_self": null,
            "border": null,
            "bottom": null,
            "display": null,
            "flex": null,
            "flex_flow": null,
            "grid_area": null,
            "grid_auto_columns": null,
            "grid_auto_flow": null,
            "grid_auto_rows": null,
            "grid_column": null,
            "grid_gap": null,
            "grid_row": null,
            "grid_template_areas": null,
            "grid_template_columns": null,
            "grid_template_rows": null,
            "height": null,
            "justify_content": null,
            "justify_items": null,
            "left": null,
            "margin": null,
            "max_height": null,
            "max_width": null,
            "min_height": null,
            "min_width": null,
            "object_fit": null,
            "object_position": null,
            "order": null,
            "overflow": null,
            "overflow_x": null,
            "overflow_y": null,
            "padding": null,
            "right": null,
            "top": null,
            "visibility": null,
            "width": null
          }
        },
        "1b8726073a394451aaa028b87cc0d443": {
          "model_module": "@jupyter-widgets/base",
          "model_name": "LayoutModel",
          "model_module_version": "1.2.0",
          "state": {
            "_model_module": "@jupyter-widgets/base",
            "_model_module_version": "1.2.0",
            "_model_name": "LayoutModel",
            "_view_count": null,
            "_view_module": "@jupyter-widgets/base",
            "_view_module_version": "1.2.0",
            "_view_name": "LayoutView",
            "align_content": null,
            "align_items": null,
            "align_self": null,
            "border": null,
            "bottom": null,
            "display": null,
            "flex": null,
            "flex_flow": null,
            "grid_area": null,
            "grid_auto_columns": null,
            "grid_auto_flow": null,
            "grid_auto_rows": null,
            "grid_column": null,
            "grid_gap": null,
            "grid_row": null,
            "grid_template_areas": null,
            "grid_template_columns": null,
            "grid_template_rows": null,
            "height": null,
            "justify_content": null,
            "justify_items": null,
            "left": null,
            "margin": null,
            "max_height": null,
            "max_width": null,
            "min_height": null,
            "min_width": null,
            "object_fit": null,
            "object_position": null,
            "order": null,
            "overflow": null,
            "overflow_x": null,
            "overflow_y": null,
            "padding": null,
            "right": null,
            "top": null,
            "visibility": null,
            "width": null
          }
        },
        "e54fc9abe621440c977fc269bd4f76ca": {
          "model_module": "@jupyter-widgets/controls",
          "model_name": "DescriptionStyleModel",
          "model_module_version": "1.5.0",
          "state": {
            "_model_module": "@jupyter-widgets/controls",
            "_model_module_version": "1.5.0",
            "_model_name": "DescriptionStyleModel",
            "_view_count": null,
            "_view_module": "@jupyter-widgets/base",
            "_view_module_version": "1.2.0",
            "_view_name": "StyleView",
            "description_width": ""
          }
        },
        "222f6ac5adb04c28b257c2aad75acc4e": {
          "model_module": "@jupyter-widgets/base",
          "model_name": "LayoutModel",
          "model_module_version": "1.2.0",
          "state": {
            "_model_module": "@jupyter-widgets/base",
            "_model_module_version": "1.2.0",
            "_model_name": "LayoutModel",
            "_view_count": null,
            "_view_module": "@jupyter-widgets/base",
            "_view_module_version": "1.2.0",
            "_view_name": "LayoutView",
            "align_content": null,
            "align_items": null,
            "align_self": null,
            "border": null,
            "bottom": null,
            "display": null,
            "flex": null,
            "flex_flow": null,
            "grid_area": null,
            "grid_auto_columns": null,
            "grid_auto_flow": null,
            "grid_auto_rows": null,
            "grid_column": null,
            "grid_gap": null,
            "grid_row": null,
            "grid_template_areas": null,
            "grid_template_columns": null,
            "grid_template_rows": null,
            "height": null,
            "justify_content": null,
            "justify_items": null,
            "left": null,
            "margin": null,
            "max_height": null,
            "max_width": null,
            "min_height": null,
            "min_width": null,
            "object_fit": null,
            "object_position": null,
            "order": null,
            "overflow": null,
            "overflow_x": null,
            "overflow_y": null,
            "padding": null,
            "right": null,
            "top": null,
            "visibility": null,
            "width": null
          }
        },
        "03ba8a4c601b449fb4e7684d1e2af7bf": {
          "model_module": "@jupyter-widgets/controls",
          "model_name": "ProgressStyleModel",
          "model_module_version": "1.5.0",
          "state": {
            "_model_module": "@jupyter-widgets/controls",
            "_model_module_version": "1.5.0",
            "_model_name": "ProgressStyleModel",
            "_view_count": null,
            "_view_module": "@jupyter-widgets/base",
            "_view_module_version": "1.2.0",
            "_view_name": "StyleView",
            "bar_color": null,
            "description_width": ""
          }
        },
        "d991482c6fc24c3aae09325f40d008df": {
          "model_module": "@jupyter-widgets/base",
          "model_name": "LayoutModel",
          "model_module_version": "1.2.0",
          "state": {
            "_model_module": "@jupyter-widgets/base",
            "_model_module_version": "1.2.0",
            "_model_name": "LayoutModel",
            "_view_count": null,
            "_view_module": "@jupyter-widgets/base",
            "_view_module_version": "1.2.0",
            "_view_name": "LayoutView",
            "align_content": null,
            "align_items": null,
            "align_self": null,
            "border": null,
            "bottom": null,
            "display": null,
            "flex": null,
            "flex_flow": null,
            "grid_area": null,
            "grid_auto_columns": null,
            "grid_auto_flow": null,
            "grid_auto_rows": null,
            "grid_column": null,
            "grid_gap": null,
            "grid_row": null,
            "grid_template_areas": null,
            "grid_template_columns": null,
            "grid_template_rows": null,
            "height": null,
            "justify_content": null,
            "justify_items": null,
            "left": null,
            "margin": null,
            "max_height": null,
            "max_width": null,
            "min_height": null,
            "min_width": null,
            "object_fit": null,
            "object_position": null,
            "order": null,
            "overflow": null,
            "overflow_x": null,
            "overflow_y": null,
            "padding": null,
            "right": null,
            "top": null,
            "visibility": null,
            "width": null
          }
        },
        "5236dc89ae5342b1ba6d60460a853ae0": {
          "model_module": "@jupyter-widgets/controls",
          "model_name": "DescriptionStyleModel",
          "model_module_version": "1.5.0",
          "state": {
            "_model_module": "@jupyter-widgets/controls",
            "_model_module_version": "1.5.0",
            "_model_name": "DescriptionStyleModel",
            "_view_count": null,
            "_view_module": "@jupyter-widgets/base",
            "_view_module_version": "1.2.0",
            "_view_name": "StyleView",
            "description_width": ""
          }
        }
      }
    },
    "accelerator": "GPU"
  },
  "cells": [
    {
      "cell_type": "code",
      "source": [
        "!pip install torch-geometric"
      ],
      "metadata": {
        "colab": {
          "base_uri": "https://localhost:8080/"
        },
        "id": "Hucx5WKhvMnV",
        "outputId": "16f2c8ed-e5fb-47e0-dfa2-04aaaa1b1ba5"
      },
      "execution_count": null,
      "outputs": [
        {
          "output_type": "stream",
          "name": "stdout",
          "text": [
            "Collecting torch-geometric\n",
            "  Downloading torch_geometric-2.6.1-py3-none-any.whl.metadata (63 kB)\n",
            "\u001b[?25l     \u001b[90m━━━━━━━━━━━━━━━━━━━━━━━━━━━━━━━━━━━━━━━━\u001b[0m \u001b[32m0.0/63.1 kB\u001b[0m \u001b[31m?\u001b[0m eta \u001b[36m-:--:--\u001b[0m\r\u001b[2K     \u001b[90m━━━━━━━━━━━━━━━━━━━━━━━━━━━━━━━━━━━━━━━━\u001b[0m \u001b[32m63.1/63.1 kB\u001b[0m \u001b[31m3.1 MB/s\u001b[0m eta \u001b[36m0:00:00\u001b[0m\n",
            "\u001b[?25hRequirement already satisfied: aiohttp in /usr/local/lib/python3.11/dist-packages (from torch-geometric) (3.11.15)\n",
            "Requirement already satisfied: fsspec in /usr/local/lib/python3.11/dist-packages (from torch-geometric) (2025.3.2)\n",
            "Requirement already satisfied: jinja2 in /usr/local/lib/python3.11/dist-packages (from torch-geometric) (3.1.6)\n",
            "Requirement already satisfied: numpy in /usr/local/lib/python3.11/dist-packages (from torch-geometric) (2.0.2)\n",
            "Requirement already satisfied: psutil>=5.8.0 in /usr/local/lib/python3.11/dist-packages (from torch-geometric) (5.9.5)\n",
            "Requirement already satisfied: pyparsing in /usr/local/lib/python3.11/dist-packages (from torch-geometric) (3.2.3)\n",
            "Requirement already satisfied: requests in /usr/local/lib/python3.11/dist-packages (from torch-geometric) (2.32.3)\n",
            "Requirement already satisfied: tqdm in /usr/local/lib/python3.11/dist-packages (from torch-geometric) (4.67.1)\n",
            "Requirement already satisfied: aiohappyeyeballs>=2.3.0 in /usr/local/lib/python3.11/dist-packages (from aiohttp->torch-geometric) (2.6.1)\n",
            "Requirement already satisfied: aiosignal>=1.1.2 in /usr/local/lib/python3.11/dist-packages (from aiohttp->torch-geometric) (1.3.2)\n",
            "Requirement already satisfied: attrs>=17.3.0 in /usr/local/lib/python3.11/dist-packages (from aiohttp->torch-geometric) (25.3.0)\n",
            "Requirement already satisfied: frozenlist>=1.1.1 in /usr/local/lib/python3.11/dist-packages (from aiohttp->torch-geometric) (1.5.0)\n",
            "Requirement already satisfied: multidict<7.0,>=4.5 in /usr/local/lib/python3.11/dist-packages (from aiohttp->torch-geometric) (6.4.2)\n",
            "Requirement already satisfied: propcache>=0.2.0 in /usr/local/lib/python3.11/dist-packages (from aiohttp->torch-geometric) (0.3.1)\n",
            "Requirement already satisfied: yarl<2.0,>=1.17.0 in /usr/local/lib/python3.11/dist-packages (from aiohttp->torch-geometric) (1.19.0)\n",
            "Requirement already satisfied: MarkupSafe>=2.0 in /usr/local/lib/python3.11/dist-packages (from jinja2->torch-geometric) (3.0.2)\n",
            "Requirement already satisfied: charset-normalizer<4,>=2 in /usr/local/lib/python3.11/dist-packages (from requests->torch-geometric) (3.4.1)\n",
            "Requirement already satisfied: idna<4,>=2.5 in /usr/local/lib/python3.11/dist-packages (from requests->torch-geometric) (3.10)\n",
            "Requirement already satisfied: urllib3<3,>=1.21.1 in /usr/local/lib/python3.11/dist-packages (from requests->torch-geometric) (2.3.0)\n",
            "Requirement already satisfied: certifi>=2017.4.17 in /usr/local/lib/python3.11/dist-packages (from requests->torch-geometric) (2025.1.31)\n",
            "Downloading torch_geometric-2.6.1-py3-none-any.whl (1.1 MB)\n",
            "\u001b[2K   \u001b[90m━━━━━━━━━━━━━━━━━━━━━━━━━━━━━━━━━━━━━━━━\u001b[0m \u001b[32m1.1/1.1 MB\u001b[0m \u001b[31m29.1 MB/s\u001b[0m eta \u001b[36m0:00:00\u001b[0m\n",
            "\u001b[?25hInstalling collected packages: torch-geometric\n",
            "Successfully installed torch-geometric-2.6.1\n"
          ]
        }
      ]
    },
    {
      "cell_type": "code",
      "source": [
        "!pip install torch==2.2.0"
      ],
      "metadata": {
        "colab": {
          "base_uri": "https://localhost:8080/"
        },
        "id": "Ef3TzzKM6wgd",
        "outputId": "845619f6-be46-43a0-8fbc-79440db067f8"
      },
      "execution_count": null,
      "outputs": [
        {
          "output_type": "stream",
          "name": "stdout",
          "text": [
            "Collecting torch==2.2.0\n",
            "  Downloading torch-2.2.0-cp311-cp311-manylinux1_x86_64.whl.metadata (25 kB)\n",
            "Requirement already satisfied: filelock in /usr/local/lib/python3.11/dist-packages (from torch==2.2.0) (3.18.0)\n",
            "Requirement already satisfied: typing-extensions>=4.8.0 in /usr/local/lib/python3.11/dist-packages (from torch==2.2.0) (4.13.1)\n",
            "Requirement already satisfied: sympy in /usr/local/lib/python3.11/dist-packages (from torch==2.2.0) (1.13.1)\n",
            "Requirement already satisfied: networkx in /usr/local/lib/python3.11/dist-packages (from torch==2.2.0) (3.4.2)\n",
            "Requirement already satisfied: jinja2 in /usr/local/lib/python3.11/dist-packages (from torch==2.2.0) (3.1.6)\n",
            "Requirement already satisfied: fsspec in /usr/local/lib/python3.11/dist-packages (from torch==2.2.0) (2025.3.2)\n",
            "Collecting nvidia-cuda-nvrtc-cu12==12.1.105 (from torch==2.2.0)\n",
            "  Downloading nvidia_cuda_nvrtc_cu12-12.1.105-py3-none-manylinux1_x86_64.whl.metadata (1.5 kB)\n",
            "Collecting nvidia-cuda-runtime-cu12==12.1.105 (from torch==2.2.0)\n",
            "  Downloading nvidia_cuda_runtime_cu12-12.1.105-py3-none-manylinux1_x86_64.whl.metadata (1.5 kB)\n",
            "Collecting nvidia-cuda-cupti-cu12==12.1.105 (from torch==2.2.0)\n",
            "  Downloading nvidia_cuda_cupti_cu12-12.1.105-py3-none-manylinux1_x86_64.whl.metadata (1.6 kB)\n",
            "Collecting nvidia-cudnn-cu12==8.9.2.26 (from torch==2.2.0)\n",
            "  Downloading nvidia_cudnn_cu12-8.9.2.26-py3-none-manylinux1_x86_64.whl.metadata (1.6 kB)\n",
            "Collecting nvidia-cublas-cu12==12.1.3.1 (from torch==2.2.0)\n",
            "  Downloading nvidia_cublas_cu12-12.1.3.1-py3-none-manylinux1_x86_64.whl.metadata (1.5 kB)\n",
            "Collecting nvidia-cufft-cu12==11.0.2.54 (from torch==2.2.0)\n",
            "  Downloading nvidia_cufft_cu12-11.0.2.54-py3-none-manylinux1_x86_64.whl.metadata (1.5 kB)\n",
            "Collecting nvidia-curand-cu12==10.3.2.106 (from torch==2.2.0)\n",
            "  Downloading nvidia_curand_cu12-10.3.2.106-py3-none-manylinux1_x86_64.whl.metadata (1.5 kB)\n",
            "Collecting nvidia-cusolver-cu12==11.4.5.107 (from torch==2.2.0)\n",
            "  Downloading nvidia_cusolver_cu12-11.4.5.107-py3-none-manylinux1_x86_64.whl.metadata (1.6 kB)\n",
            "Collecting nvidia-cusparse-cu12==12.1.0.106 (from torch==2.2.0)\n",
            "  Downloading nvidia_cusparse_cu12-12.1.0.106-py3-none-manylinux1_x86_64.whl.metadata (1.6 kB)\n",
            "Collecting nvidia-nccl-cu12==2.19.3 (from torch==2.2.0)\n",
            "  Downloading nvidia_nccl_cu12-2.19.3-py3-none-manylinux1_x86_64.whl.metadata (1.8 kB)\n",
            "Collecting nvidia-nvtx-cu12==12.1.105 (from torch==2.2.0)\n",
            "  Downloading nvidia_nvtx_cu12-12.1.105-py3-none-manylinux1_x86_64.whl.metadata (1.7 kB)\n",
            "Collecting triton==2.2.0 (from torch==2.2.0)\n",
            "  Downloading triton-2.2.0-cp311-cp311-manylinux_2_17_x86_64.manylinux2014_x86_64.whl.metadata (1.4 kB)\n",
            "Requirement already satisfied: nvidia-nvjitlink-cu12 in /usr/local/lib/python3.11/dist-packages (from nvidia-cusolver-cu12==11.4.5.107->torch==2.2.0) (12.5.82)\n",
            "Requirement already satisfied: MarkupSafe>=2.0 in /usr/local/lib/python3.11/dist-packages (from jinja2->torch==2.2.0) (3.0.2)\n",
            "Requirement already satisfied: mpmath<1.4,>=1.1.0 in /usr/local/lib/python3.11/dist-packages (from sympy->torch==2.2.0) (1.3.0)\n",
            "Downloading torch-2.2.0-cp311-cp311-manylinux1_x86_64.whl (755.5 MB)\n",
            "\u001b[2K   \u001b[90m━━━━━━━━━━━━━━━━━━━━━━━━━━━━━━━━━━━━━━━━\u001b[0m \u001b[32m755.5/755.5 MB\u001b[0m \u001b[31m1.5 MB/s\u001b[0m eta \u001b[36m0:00:00\u001b[0m\n",
            "\u001b[?25hDownloading nvidia_cublas_cu12-12.1.3.1-py3-none-manylinux1_x86_64.whl (410.6 MB)\n",
            "\u001b[2K   \u001b[90m━━━━━━━━━━━━━━━━━━━━━━━━━━━━━━━━━━━━━━━━\u001b[0m \u001b[32m410.6/410.6 MB\u001b[0m \u001b[31m4.3 MB/s\u001b[0m eta \u001b[36m0:00:00\u001b[0m\n",
            "\u001b[?25hDownloading nvidia_cuda_cupti_cu12-12.1.105-py3-none-manylinux1_x86_64.whl (14.1 MB)\n",
            "\u001b[2K   \u001b[90m━━━━━━━━━━━━━━━━━━━━━━━━━━━━━━━━━━━━━━━━\u001b[0m \u001b[32m14.1/14.1 MB\u001b[0m \u001b[31m84.6 MB/s\u001b[0m eta \u001b[36m0:00:00\u001b[0m\n",
            "\u001b[?25hDownloading nvidia_cuda_nvrtc_cu12-12.1.105-py3-none-manylinux1_x86_64.whl (23.7 MB)\n",
            "\u001b[2K   \u001b[90m━━━━━━━━━━━━━━━━━━━━━━━━━━━━━━━━━━━━━━━━\u001b[0m \u001b[32m23.7/23.7 MB\u001b[0m \u001b[31m74.9 MB/s\u001b[0m eta \u001b[36m0:00:00\u001b[0m\n",
            "\u001b[?25hDownloading nvidia_cuda_runtime_cu12-12.1.105-py3-none-manylinux1_x86_64.whl (823 kB)\n",
            "\u001b[2K   \u001b[90m━━━━━━━━━━━━━━━━━━━━━━━━━━━━━━━━━━━━━━━━\u001b[0m \u001b[32m823.6/823.6 kB\u001b[0m \u001b[31m44.5 MB/s\u001b[0m eta \u001b[36m0:00:00\u001b[0m\n",
            "\u001b[?25hDownloading nvidia_cudnn_cu12-8.9.2.26-py3-none-manylinux1_x86_64.whl (731.7 MB)\n",
            "\u001b[2K   \u001b[90m━━━━━━━━━━━━━━━━━━━━━━━━━━━━━━━━━━━━━━━━\u001b[0m \u001b[32m731.7/731.7 MB\u001b[0m \u001b[31m2.0 MB/s\u001b[0m eta \u001b[36m0:00:00\u001b[0m\n",
            "\u001b[?25hDownloading nvidia_cufft_cu12-11.0.2.54-py3-none-manylinux1_x86_64.whl (121.6 MB)\n",
            "\u001b[2K   \u001b[90m━━━━━━━━━━━━━━━━━━━━━━━━━━━━━━━━━━━━━━━━\u001b[0m \u001b[32m121.6/121.6 MB\u001b[0m \u001b[31m7.5 MB/s\u001b[0m eta \u001b[36m0:00:00\u001b[0m\n",
            "\u001b[?25hDownloading nvidia_curand_cu12-10.3.2.106-py3-none-manylinux1_x86_64.whl (56.5 MB)\n",
            "\u001b[2K   \u001b[90m━━━━━━━━━━━━━━━━━━━━━━━━━━━━━━━━━━━━━━━━\u001b[0m \u001b[32m56.5/56.5 MB\u001b[0m \u001b[31m12.5 MB/s\u001b[0m eta \u001b[36m0:00:00\u001b[0m\n",
            "\u001b[?25hDownloading nvidia_cusolver_cu12-11.4.5.107-py3-none-manylinux1_x86_64.whl (124.2 MB)\n",
            "\u001b[2K   \u001b[90m━━━━━━━━━━━━━━━━━━━━━━━━━━━━━━━━━━━━━━━━\u001b[0m \u001b[32m124.2/124.2 MB\u001b[0m \u001b[31m7.1 MB/s\u001b[0m eta \u001b[36m0:00:00\u001b[0m\n",
            "\u001b[?25hDownloading nvidia_cusparse_cu12-12.1.0.106-py3-none-manylinux1_x86_64.whl (196.0 MB)\n",
            "\u001b[2K   \u001b[90m━━━━━━━━━━━━━━━━━━━━━━━━━━━━━━━━━━━━━━━━\u001b[0m \u001b[32m196.0/196.0 MB\u001b[0m \u001b[31m6.1 MB/s\u001b[0m eta \u001b[36m0:00:00\u001b[0m\n",
            "\u001b[?25hDownloading nvidia_nccl_cu12-2.19.3-py3-none-manylinux1_x86_64.whl (166.0 MB)\n",
            "\u001b[2K   \u001b[90m━━━━━━━━━━━━━━━━━━━━━━━━━━━━━━━━━━━━━━━━\u001b[0m \u001b[32m166.0/166.0 MB\u001b[0m \u001b[31m6.6 MB/s\u001b[0m eta \u001b[36m0:00:00\u001b[0m\n",
            "\u001b[?25hDownloading nvidia_nvtx_cu12-12.1.105-py3-none-manylinux1_x86_64.whl (99 kB)\n",
            "\u001b[2K   \u001b[90m━━━━━━━━━━━━━━━━━━━━━━━━━━━━━━━━━━━━━━━━\u001b[0m \u001b[32m99.1/99.1 kB\u001b[0m \u001b[31m8.5 MB/s\u001b[0m eta \u001b[36m0:00:00\u001b[0m\n",
            "\u001b[?25hDownloading triton-2.2.0-cp311-cp311-manylinux_2_17_x86_64.manylinux2014_x86_64.whl (167.9 MB)\n",
            "\u001b[2K   \u001b[90m━━━━━━━━━━━━━━━━━━━━━━━━━━━━━━━━━━━━━━━━\u001b[0m \u001b[32m167.9/167.9 MB\u001b[0m \u001b[31m6.5 MB/s\u001b[0m eta \u001b[36m0:00:00\u001b[0m\n",
            "\u001b[?25hInstalling collected packages: triton, nvidia-nvtx-cu12, nvidia-nccl-cu12, nvidia-cusparse-cu12, nvidia-curand-cu12, nvidia-cufft-cu12, nvidia-cuda-runtime-cu12, nvidia-cuda-nvrtc-cu12, nvidia-cuda-cupti-cu12, nvidia-cublas-cu12, nvidia-cusolver-cu12, nvidia-cudnn-cu12, torch\n",
            "  Attempting uninstall: triton\n",
            "    Found existing installation: triton 3.2.0\n",
            "    Uninstalling triton-3.2.0:\n",
            "      Successfully uninstalled triton-3.2.0\n",
            "  Attempting uninstall: nvidia-nvtx-cu12\n",
            "    Found existing installation: nvidia-nvtx-cu12 12.4.127\n",
            "    Uninstalling nvidia-nvtx-cu12-12.4.127:\n",
            "      Successfully uninstalled nvidia-nvtx-cu12-12.4.127\n",
            "  Attempting uninstall: nvidia-nccl-cu12\n",
            "    Found existing installation: nvidia-nccl-cu12 2.21.5\n",
            "    Uninstalling nvidia-nccl-cu12-2.21.5:\n",
            "      Successfully uninstalled nvidia-nccl-cu12-2.21.5\n",
            "  Attempting uninstall: nvidia-cusparse-cu12\n",
            "    Found existing installation: nvidia-cusparse-cu12 12.5.1.3\n",
            "    Uninstalling nvidia-cusparse-cu12-12.5.1.3:\n",
            "      Successfully uninstalled nvidia-cusparse-cu12-12.5.1.3\n",
            "  Attempting uninstall: nvidia-curand-cu12\n",
            "    Found existing installation: nvidia-curand-cu12 10.3.6.82\n",
            "    Uninstalling nvidia-curand-cu12-10.3.6.82:\n",
            "      Successfully uninstalled nvidia-curand-cu12-10.3.6.82\n",
            "  Attempting uninstall: nvidia-cufft-cu12\n",
            "    Found existing installation: nvidia-cufft-cu12 11.2.3.61\n",
            "    Uninstalling nvidia-cufft-cu12-11.2.3.61:\n",
            "      Successfully uninstalled nvidia-cufft-cu12-11.2.3.61\n",
            "  Attempting uninstall: nvidia-cuda-runtime-cu12\n",
            "    Found existing installation: nvidia-cuda-runtime-cu12 12.5.82\n",
            "    Uninstalling nvidia-cuda-runtime-cu12-12.5.82:\n",
            "      Successfully uninstalled nvidia-cuda-runtime-cu12-12.5.82\n",
            "  Attempting uninstall: nvidia-cuda-nvrtc-cu12\n",
            "    Found existing installation: nvidia-cuda-nvrtc-cu12 12.5.82\n",
            "    Uninstalling nvidia-cuda-nvrtc-cu12-12.5.82:\n",
            "      Successfully uninstalled nvidia-cuda-nvrtc-cu12-12.5.82\n",
            "  Attempting uninstall: nvidia-cuda-cupti-cu12\n",
            "    Found existing installation: nvidia-cuda-cupti-cu12 12.5.82\n",
            "    Uninstalling nvidia-cuda-cupti-cu12-12.5.82:\n",
            "      Successfully uninstalled nvidia-cuda-cupti-cu12-12.5.82\n",
            "  Attempting uninstall: nvidia-cublas-cu12\n",
            "    Found existing installation: nvidia-cublas-cu12 12.5.3.2\n",
            "    Uninstalling nvidia-cublas-cu12-12.5.3.2:\n",
            "      Successfully uninstalled nvidia-cublas-cu12-12.5.3.2\n",
            "  Attempting uninstall: nvidia-cusolver-cu12\n",
            "    Found existing installation: nvidia-cusolver-cu12 11.6.3.83\n",
            "    Uninstalling nvidia-cusolver-cu12-11.6.3.83:\n",
            "      Successfully uninstalled nvidia-cusolver-cu12-11.6.3.83\n",
            "  Attempting uninstall: nvidia-cudnn-cu12\n",
            "    Found existing installation: nvidia-cudnn-cu12 9.3.0.75\n",
            "    Uninstalling nvidia-cudnn-cu12-9.3.0.75:\n",
            "      Successfully uninstalled nvidia-cudnn-cu12-9.3.0.75\n",
            "  Attempting uninstall: torch\n",
            "    Found existing installation: torch 2.6.0+cu124\n",
            "    Uninstalling torch-2.6.0+cu124:\n",
            "      Successfully uninstalled torch-2.6.0+cu124\n",
            "\u001b[31mERROR: pip's dependency resolver does not currently take into account all the packages that are installed. This behaviour is the source of the following dependency conflicts.\n",
            "torchaudio 2.6.0+cu124 requires torch==2.6.0, but you have torch 2.2.0 which is incompatible.\n",
            "torchvision 0.21.0+cu124 requires torch==2.6.0, but you have torch 2.2.0 which is incompatible.\u001b[0m\u001b[31m\n",
            "\u001b[0mSuccessfully installed nvidia-cublas-cu12-12.1.3.1 nvidia-cuda-cupti-cu12-12.1.105 nvidia-cuda-nvrtc-cu12-12.1.105 nvidia-cuda-runtime-cu12-12.1.105 nvidia-cudnn-cu12-8.9.2.26 nvidia-cufft-cu12-11.0.2.54 nvidia-curand-cu12-10.3.2.106 nvidia-cusolver-cu12-11.4.5.107 nvidia-cusparse-cu12-12.1.0.106 nvidia-nccl-cu12-2.19.3 nvidia-nvtx-cu12-12.1.105 torch-2.2.0 triton-2.2.0\n"
          ]
        }
      ]
    },
    {
      "cell_type": "code",
      "execution_count": null,
      "metadata": {
        "id": "phvBA68fjygo"
      },
      "outputs": [],
      "source": [
        "import torch\n",
        "from torch_geometric.data import Data"
      ]
    },
    {
      "cell_type": "code",
      "source": [
        "torch.__version__"
      ],
      "metadata": {
        "colab": {
          "base_uri": "https://localhost:8080/",
          "height": 35
        },
        "id": "2oyDHVTjRHof",
        "outputId": "baba5f75-985f-49c9-89bd-69372609e192"
      },
      "execution_count": null,
      "outputs": [
        {
          "output_type": "execute_result",
          "data": {
            "text/plain": [
              "'2.6.0+cu124'"
            ],
            "application/vnd.google.colaboratory.intrinsic+json": {
              "type": "string"
            }
          },
          "metadata": {},
          "execution_count": 3
        }
      ]
    },
    {
      "cell_type": "code",
      "source": [
        "import networkx as nx\n",
        "from sklearn.metrics.pairwise import cosine_similarity"
      ],
      "metadata": {
        "id": "GT4EgiJou0B0"
      },
      "execution_count": null,
      "outputs": []
    },
    {
      "cell_type": "code",
      "source": [
        "import networkx as nx\n",
        "import re\n",
        "import matplotlib.pyplot as plt\n",
        "from collections import defaultdict\n",
        "import torch\n",
        "from torch_geometric.data import Data\n",
        "from transformers import BertModel, BertTokenizer\n",
        "from torch_geometric.data import Dataset, download_url"
      ],
      "metadata": {
        "id": "7_7gCWXwa_Yh"
      },
      "execution_count": null,
      "outputs": []
    },
    {
      "cell_type": "code",
      "source": [
        "import jsonpickle\n",
        "import os"
      ],
      "metadata": {
        "id": "OI8DvTWW72E0"
      },
      "execution_count": null,
      "outputs": []
    },
    {
      "cell_type": "code",
      "source": [
        "from google.colab import drive\n",
        "drive.mount('/content/drive')"
      ],
      "metadata": {
        "colab": {
          "base_uri": "https://localhost:8080/"
        },
        "id": "Nxpm-rGU3owb",
        "outputId": "b9eb969a-1179-4dcb-c39c-c8922078b7c1"
      },
      "execution_count": null,
      "outputs": [
        {
          "output_type": "stream",
          "name": "stdout",
          "text": [
            "Mounted at /content/drive\n"
          ]
        }
      ]
    },
    {
      "cell_type": "code",
      "source": [
        "USE_CUDA = torch.cuda.is_available()\n",
        "device = torch.device(\"cuda\" if USE_CUDA else \"cpu\")"
      ],
      "metadata": {
        "id": "ZFUO1cAgRa0v"
      },
      "execution_count": null,
      "outputs": []
    },
    {
      "cell_type": "markdown",
      "source": [
        "(s1l / leave-02\\n     :ARG0 (s1p / person\\n                :name (s1n / name\\n                           :op1 \\\"Lindsay\\\"))\\n     :aspect performance\\n     :purpose (s1e / eat-01\\n                   :ARG0 s1p\\n                   :ARG1 (s1l2 / lunch)\\n                   :aspect performance))"
      ],
      "metadata": {
        "id": "lrhtXsircq7h"
      }
    },
    {
      "cell_type": "code",
      "source": [
        "print(\"(s1l / leave-02\\n     :ARG0 (s1p / person\\n                :name (s1n / name\\n                           :op1 \\\"Lindsay\\\"))\\n     :aspect performance\\n     :purpose (s1e / eat-01\\n                   :ARG0 s1p\\n                   :ARG1 (s1l2 / lunch)\\n                   :aspect performance))\")"
      ],
      "metadata": {
        "colab": {
          "base_uri": "https://localhost:8080/"
        },
        "id": "6wgDEZ9JcdQ2",
        "outputId": "aeeb254c-1b9d-4e90-f897-a3086e254faa"
      },
      "execution_count": null,
      "outputs": [
        {
          "output_type": "stream",
          "name": "stdout",
          "text": [
            "(s1l / leave-02\n",
            "     :ARG0 (s1p / person\n",
            "                :name (s1n / name\n",
            "                           :op1 \"Lindsay\"))\n",
            "     :aspect performance\n",
            "     :purpose (s1e / eat-01\n",
            "                   :ARG0 s1p\n",
            "                   :ARG1 (s1l2 / lunch)\n",
            "                   :aspect performance))\n"
          ]
        }
      ]
    },
    {
      "cell_type": "code",
      "source": [
        "print(\"(s1j / join-04\\n     :ARG0 (s1p / person\\n                :name (s1n / name\\n                           :op1 \\\"Pierre\\\"\\n                           :op2 \\\"Vinken\\\")\\n                :age (s1t / temporal-quantity\\n                          :unit (s1y / year)\\n                          :quant 61)\\n                :wiki -)\\n     :ARG1 (s1b / board)\\n     :ARG2 (s1h / have-org-role-92\\n                :ARG1 s1p\\n                :ARG2 s1b\\n                :ARG3 (s1d2 / director\\n                            :mod (s1e / executive\\n                                      :polarity -)))\\n     :temporal (s1d / date-entity\\n                    :month 11\\n                    :day 29)\\n     :aspect blank)\")"
      ],
      "metadata": {
        "colab": {
          "base_uri": "https://localhost:8080/"
        },
        "id": "cTxwRycfhsUj",
        "outputId": "273cb922-19fb-4b79-bf2f-000766b6df10"
      },
      "execution_count": null,
      "outputs": [
        {
          "output_type": "stream",
          "name": "stdout",
          "text": [
            "(s1j / join-04\n",
            "     :ARG0 (s1p / person\n",
            "                :name (s1n / name\n",
            "                           :op1 \"Pierre\"\n",
            "                           :op2 \"Vinken\")\n",
            "                :age (s1t / temporal-quantity\n",
            "                          :unit (s1y / year)\n",
            "                          :quant 61)\n",
            "                :wiki -)\n",
            "     :ARG1 (s1b / board)\n",
            "     :ARG2 (s1h / have-org-role-92\n",
            "                :ARG1 s1p\n",
            "                :ARG2 s1b\n",
            "                :ARG3 (s1d2 / director\n",
            "                            :mod (s1e / executive\n",
            "                                      :polarity -)))\n",
            "     :temporal (s1d / date-entity\n",
            "                    :month 11\n",
            "                    :day 29)\n",
            "     :aspect blank)\n"
          ]
        }
      ]
    },
    {
      "cell_type": "code",
      "source": [
        "def get_embeddings_with_pos(text):\n",
        "  model_name = 'bert-base-uncased'\n",
        "\n",
        "  tokenizer = BertTokenizer.from_pretrained(model_name)\n",
        "  model = BertModel.from_pretrained(model_name)\n",
        "\n",
        "  embeddings = []\n",
        "\n",
        "  num_tokens = []\n",
        "  tokens = []\n",
        "\n",
        "  # with torch.no_grad():\n",
        "\n",
        "  for word in text.split():\n",
        "    # print(word, end=' ')\n",
        "    num_tokens.append(len(tokenizer.tokenize(word)))\n",
        "    tokens.append(tokenizer.tokenize(word))\n",
        "  # print('\\n')\n",
        "\n",
        "  # print(\"num words\", len(text.split()), \"num tokens\", sum(num_tokens))\n",
        "  tokenized = tokenizer(text, truncation=True, return_tensors=\"pt\")\n",
        "  # print(\"tokenized shape\", tokenized['input_ids'].shape)\n",
        "  embedded_input = model(**tokenized)\n",
        "  # print(\"embedded shape\", embedded_input.last_hidden_state.shape)\n",
        "\n",
        "  curr = 1\n",
        "  for i in range(len(num_tokens)):\n",
        "    # print(tokens[i], num_tokens[i], curr, curr + num_tokens[i])\n",
        "    embeddings.append(torch.sum(embedded_input.last_hidden_state[0][curr:curr+num_tokens[i]], dim=0))\n",
        "    curr += num_tokens[i]\n",
        "\n",
        "  embeddings = torch.stack(embeddings)\n",
        "  # print(\"shape\", embeddings.shape)\n",
        "  return embeddings"
      ],
      "metadata": {
        "id": "mNHTtF-tLXUo"
      },
      "execution_count": null,
      "outputs": []
    },
    {
      "cell_type": "code",
      "source": [
        "def get_tokenized_with_pos(text):\n",
        "  model_name = 'bert-base-uncased'\n",
        "\n",
        "  tokenizer = BertTokenizer.from_pretrained(model_name)\n",
        "\n",
        "  tokenized = tokenizer(text, truncation=True, return_tensors=\"pt\", padding=True)\n",
        "\n",
        "  return tokenized"
      ],
      "metadata": {
        "id": "8qC0Xo9NwKrl"
      },
      "execution_count": null,
      "outputs": []
    },
    {
      "cell_type": "code",
      "source": [
        "tokens = get_tokenized_with_pos([\"[MASK] Neither Lorillard nor the researchers\", \"who studied the workers were aware of any research on smokers of the Kent cigarettes .\"])"
      ],
      "metadata": {
        "colab": {
          "base_uri": "https://localhost:8080/",
          "height": 269,
          "referenced_widgets": [
            "0ff83769dd8f4289ab341afa1d41365b",
            "376effb51f124180ab781af226061003",
            "e41785388b14441b8bfac6da0b92899f",
            "ad90f62c7e5a49eb81d638670a32eb4e",
            "0b5cdde731444e389996226ef0b1c14f",
            "2a5086f218fd40cfbf6ef0cf57907b8d",
            "e1b5180ed041493a8bdae8b3e7f550fa",
            "1e3526c1fd5647cab8f2b2f388b8d24e",
            "f30f7a6f17eb4ac3acda5474233352e3",
            "258b527b82d14b78ba3133f82b62e747",
            "5187964c2b0f4424891140b3737c8ac6",
            "3de069978a564681bf16ef9d9b8d1b51",
            "2aaca8a149d94589956ed200b08e10ea",
            "31e408f760b94f77863e4c0d8c8ee0ba",
            "2ca3f403ab9b4a4dbafec57915b9ab52",
            "f409420d22f5411db3a68abce803c54c",
            "5d166d9f8ac240cb8c7dbb4a28cddb93",
            "8fde77c31855477fb3768972138bf0d9",
            "2bd966fc65994b63a48ea09edee07728",
            "66503d0b865341878961292a0496b276",
            "060272f6ca854ffb92ca5efc33b11973",
            "d75a6c80e3f4470cb637c9b7c5c6f9c0",
            "c066c9d7566a4403b1e14b8475ad62df",
            "1efe29029ddd49959f8a0b7596250486",
            "75ed12fe4a274145b02698fc45308e78",
            "4bae8add99a4400ab6507d0e5f3abde6",
            "d52df6c83b7f4ee1a676f4025698839c",
            "7f4eccbca3824a9fba8b9b132789aa40",
            "7136dc315224433aa3e636e8fdbc3b4b",
            "f0ba8788b3584a0282b8f8b30239d16b",
            "cc5d84420dd94406aeef155ea99709cd",
            "fffddab106c243829a623d3cad177eaf",
            "9cf5d4aaa5b842b88baf42f3470dea4d",
            "cf22f015bc074b5388f800bc626c4159",
            "91ba349fecd0437284fcdfa4d720a446",
            "ab6e6f0e3db047d29f56d88a21f520a2",
            "f5b5b2785a704fc78b26844bd6b8a320",
            "e86d1bf30e414ddf9aa3221f201dbc9e",
            "7c15c52e84fb49eb879f95a3ced7c636",
            "ee25014cd84f47cfa444bc4a82a0e41e",
            "2ae51ccbab374d6e9816e84ea061787f",
            "f3e635f107a045d8981a7349585c640a",
            "555a56fac4934e36acccb4a5828c93db",
            "56557d72deeb41b09452f54ac16e7013"
          ]
        },
        "id": "BoOdmfN23l0T",
        "outputId": "aa449102-1b1c-4af6-c5e5-02fea908943c"
      },
      "execution_count": null,
      "outputs": [
        {
          "output_type": "stream",
          "name": "stderr",
          "text": [
            "/usr/local/lib/python3.11/dist-packages/huggingface_hub/utils/_auth.py:94: UserWarning: \n",
            "The secret `HF_TOKEN` does not exist in your Colab secrets.\n",
            "To authenticate with the Hugging Face Hub, create a token in your settings tab (https://huggingface.co/settings/tokens), set it as secret in your Google Colab and restart your session.\n",
            "You will be able to reuse this secret in all of your notebooks.\n",
            "Please note that authentication is recommended but still optional to access public models or datasets.\n",
            "  warnings.warn(\n"
          ]
        },
        {
          "output_type": "display_data",
          "data": {
            "text/plain": [
              "tokenizer_config.json:   0%|          | 0.00/48.0 [00:00<?, ?B/s]"
            ],
            "application/vnd.jupyter.widget-view+json": {
              "version_major": 2,
              "version_minor": 0,
              "model_id": "0ff83769dd8f4289ab341afa1d41365b"
            }
          },
          "metadata": {}
        },
        {
          "output_type": "display_data",
          "data": {
            "text/plain": [
              "vocab.txt:   0%|          | 0.00/232k [00:00<?, ?B/s]"
            ],
            "application/vnd.jupyter.widget-view+json": {
              "version_major": 2,
              "version_minor": 0,
              "model_id": "3de069978a564681bf16ef9d9b8d1b51"
            }
          },
          "metadata": {}
        },
        {
          "output_type": "display_data",
          "data": {
            "text/plain": [
              "tokenizer.json:   0%|          | 0.00/466k [00:00<?, ?B/s]"
            ],
            "application/vnd.jupyter.widget-view+json": {
              "version_major": 2,
              "version_minor": 0,
              "model_id": "c066c9d7566a4403b1e14b8475ad62df"
            }
          },
          "metadata": {}
        },
        {
          "output_type": "display_data",
          "data": {
            "text/plain": [
              "config.json:   0%|          | 0.00/570 [00:00<?, ?B/s]"
            ],
            "application/vnd.jupyter.widget-view+json": {
              "version_major": 2,
              "version_minor": 0,
              "model_id": "cf22f015bc074b5388f800bc626c4159"
            }
          },
          "metadata": {}
        }
      ]
    },
    {
      "cell_type": "code",
      "source": [
        "tokens['input_ids'].shape"
      ],
      "metadata": {
        "colab": {
          "base_uri": "https://localhost:8080/"
        },
        "id": "LVcJ1p_h3pty",
        "outputId": "e6764048-7466-4662-fb0f-94ac91873999"
      },
      "execution_count": null,
      "outputs": [
        {
          "output_type": "execute_result",
          "data": {
            "text/plain": [
              "torch.Size([2, 19])"
            ]
          },
          "metadata": {},
          "execution_count": 12
        }
      ]
    },
    {
      "cell_type": "code",
      "source": [
        "tokens['input_ids']"
      ],
      "metadata": {
        "colab": {
          "base_uri": "https://localhost:8080/"
        },
        "id": "RIEiWu0F4bNm",
        "outputId": "c7faf5df-8069-48ca-f119-d7ca26a81f63"
      },
      "execution_count": null,
      "outputs": [
        {
          "output_type": "execute_result",
          "data": {
            "text/plain": [
              "tensor([[  101,   103,  4445, 18669, 17305,  2094,  4496,  1996,  6950,   102,\n",
              "             0,     0,     0,     0,     0,     0,     0,     0,     0],\n",
              "        [  101,  2040,  3273,  1996,  3667,  2020,  5204,  1997,  2151,  2470,\n",
              "          2006,  5610,  2869,  1997,  1996,  5982, 15001,  1012,   102]])"
            ]
          },
          "metadata": {},
          "execution_count": 13
        }
      ]
    },
    {
      "cell_type": "code",
      "source": [
        "len(\"Neither Lorillard nor the researchers who studied the workers were aware of any research on smokers of the Kent cigarettes .\".split(\" \"))"
      ],
      "metadata": {
        "colab": {
          "base_uri": "https://localhost:8080/"
        },
        "id": "Dov0AUpb30AX",
        "outputId": "5717c229-b81a-4e7c-9946-ddf1b40087e1"
      },
      "execution_count": null,
      "outputs": [
        {
          "output_type": "execute_result",
          "data": {
            "text/plain": [
              "21"
            ]
          },
          "metadata": {},
          "execution_count": 14
        }
      ]
    },
    {
      "cell_type": "code",
      "source": [
        "get_embeddings_with_pos(\"Neither Lorillard nor the researchers who studied the workers were aware of any research on smokers of the Kent cigarettes .\")"
      ],
      "metadata": {
        "colab": {
          "base_uri": "https://localhost:8080/",
          "height": 242,
          "referenced_widgets": [
            "1a142d5f78664dc59474d6782777c798",
            "78daa7692bcb4a3dab1c7fa978f2fc22",
            "0fa56a1b8f714356b2ef080e2b6904f7",
            "021592a3b4234e04b03e0f785bd85f82",
            "48d7b0e4218746228d48add0f4cc36dd",
            "1b8726073a394451aaa028b87cc0d443",
            "e54fc9abe621440c977fc269bd4f76ca",
            "222f6ac5adb04c28b257c2aad75acc4e",
            "03ba8a4c601b449fb4e7684d1e2af7bf",
            "d991482c6fc24c3aae09325f40d008df",
            "5236dc89ae5342b1ba6d60460a853ae0"
          ]
        },
        "id": "UNbEFgBGNhya",
        "outputId": "e8b439cb-50e0-48d8-9e3f-7cebfa32011c"
      },
      "execution_count": null,
      "outputs": [
        {
          "output_type": "stream",
          "name": "stderr",
          "text": [
            "Xet Storage is enabled for this repo, but the 'hf_xet' package is not installed. Falling back to regular HTTP download. For better performance, install the package with: `pip install huggingface_hub[hf_xet]` or `pip install hf_xet`\n",
            "WARNING:huggingface_hub.file_download:Xet Storage is enabled for this repo, but the 'hf_xet' package is not installed. Falling back to regular HTTP download. For better performance, install the package with: `pip install huggingface_hub[hf_xet]` or `pip install hf_xet`\n"
          ]
        },
        {
          "output_type": "display_data",
          "data": {
            "text/plain": [
              "model.safetensors:   0%|          | 0.00/440M [00:00<?, ?B/s]"
            ],
            "application/vnd.jupyter.widget-view+json": {
              "version_major": 2,
              "version_minor": 0,
              "model_id": "1a142d5f78664dc59474d6782777c798"
            }
          },
          "metadata": {}
        },
        {
          "output_type": "execute_result",
          "data": {
            "text/plain": [
              "tensor([[-0.8479, -0.1994, -0.6967,  ..., -0.1064,  0.6077, -0.5594],\n",
              "        [-1.1238, -0.4466, -1.9049,  ...,  0.0384,  2.0657,  0.4265],\n",
              "        [ 0.4679,  0.4502, -0.4469,  ..., -0.2720, -0.1151,  0.5750],\n",
              "        ...,\n",
              "        [-0.4940,  0.1974, -0.6525,  ...,  0.0819,  0.0856,  0.0724],\n",
              "        [ 1.1339,  0.6515, -0.0427,  ...,  0.0563,  0.4599, -0.3127],\n",
              "        [ 0.4529,  0.3055, -0.2431,  ...,  0.2867, -0.2386, -0.0602]],\n",
              "       grad_fn=<StackBackward0>)"
            ]
          },
          "metadata": {},
          "execution_count": 15
        }
      ]
    },
    {
      "cell_type": "code",
      "source": [
        "def clean_graph(graph_str):\n",
        "    #1:clean graph takes in a string, strips the white space aroung it, makes consistent indentations\n",
        "    #2:changes all ': text' to start on its own line for the sake of graph making\n",
        "    graph_str = graph_str.rstrip()\n",
        "\n",
        "    indent = 4 #just pick an indentation level, will fix after everything is on a new line\n",
        "\n",
        "    #1. consistent indentation- everything will be 4 spaces\n",
        "    head_spaces = {}\n",
        "    spacings = []\n",
        "    all_lines = graph_str.splitlines()\n",
        "    #start by retrieving all spaces\n",
        "    for line in all_lines:\n",
        "        dist = len(line) - len(line.lstrip())\n",
        "        spacings.append(dist)\n",
        "    # print(spacings)\n",
        "    #Create new spacings\n",
        "    no_dupes = []\n",
        "    [no_dupes.append(x) for x in spacings if x not in no_dupes]\n",
        "    # print(no_dupes)\n",
        "    new_spacings = [sorted(no_dupes).index(x) * 4 for x in spacings]\n",
        "\n",
        "    #switch out the spacings\n",
        "    for line_i in range(len(all_lines)):\n",
        "        all_lines[line_i]=new_spacings[line_i] *' ' + all_lines[line_i].lstrip()\n",
        "    graph_str = '\\n'.join(all_lines)\n",
        "\n",
        "    #2: splits :x to be its own line\n",
        "    lines= re.findall(r'.*:.*:.*',graph_str)# find lines with multiple \":\"\n",
        "    for line in lines:\n",
        "        #actually does the replacement on new level\n",
        "        line = line.split(':')\n",
        "        for i in range(2,len(line)):\n",
        "            num_spaces = len(line[0]) - len(line[0].lstrip())\n",
        "            new_str = '\\n' + ' ' * num_spaces + indent * ' ' + \":\"\n",
        "            graph_str = re.sub(r'(?<=[^\\s]) :', new_str,graph_str,count = 1)\n",
        "\n",
        "    return graph_str"
      ],
      "metadata": {
        "id": "YZnLD0pV-Lc7"
      },
      "execution_count": null,
      "outputs": []
    },
    {
      "cell_type": "code",
      "source": [
        "print(\"(s1j / join-04\\n     :ARG0 (s1p / person\\n                :name (s1n / name\\n                           :op1 \\\"Pierre\\\"\\n                           :op2 \\\"Vinken\\\")\\n                :age (s1t / temporal-quantity\\n                          :unit (s1y / year)\\n                          :quant 61)\\n                :wiki -)\\n     :ARG1 (s1b / board)\\n     :ARG2 (s1h / have-org-role-92\\n                :ARG1 s1p\\n                :ARG2 s1b\\n                :ARG3 (s1d2 / director\\n                            :mod (s1e / executive\\n                                      :polarity -)))\\n     :temporal (s1d / date-entity\\n                    :month 11\\n                    :day 29)\\n     :aspect blank)\")"
      ],
      "metadata": {
        "colab": {
          "base_uri": "https://localhost:8080/"
        },
        "id": "CdP7lrGjgF6x",
        "outputId": "9eaa7a6c-1c58-489b-bdbd-8dfd28b9745f"
      },
      "execution_count": null,
      "outputs": [
        {
          "output_type": "stream",
          "name": "stdout",
          "text": [
            "(s1j / join-04\n",
            "     :ARG0 (s1p / person\n",
            "                :name (s1n / name\n",
            "                           :op1 \"Pierre\"\n",
            "                           :op2 \"Vinken\")\n",
            "                :age (s1t / temporal-quantity\n",
            "                          :unit (s1y / year)\n",
            "                          :quant 61)\n",
            "                :wiki -)\n",
            "     :ARG1 (s1b / board)\n",
            "     :ARG2 (s1h / have-org-role-92\n",
            "                :ARG1 s1p\n",
            "                :ARG2 s1b\n",
            "                :ARG3 (s1d2 / director\n",
            "                            :mod (s1e / executive\n",
            "                                      :polarity -)))\n",
            "     :temporal (s1d / date-entity\n",
            "                    :month 11\n",
            "                    :day 29)\n",
            "     :aspect blank)\n"
          ]
        }
      ]
    },
    {
      "cell_type": "code",
      "source": [
        "\"(s1j / join-04\\n\".split(\"(\")"
      ],
      "metadata": {
        "colab": {
          "base_uri": "https://localhost:8080/"
        },
        "id": "GHOwIBVBm9U7",
        "outputId": "b7b29be7-d521-4205-face-bac5df85802f"
      },
      "execution_count": null,
      "outputs": [
        {
          "output_type": "execute_result",
          "data": {
            "text/plain": [
              "['', 's1j / join-04\\n']"
            ]
          },
          "metadata": {},
          "execution_count": 14
        }
      ]
    },
    {
      "cell_type": "code",
      "source": [
        "# from functools import reduce\n",
        "\n",
        "\n",
        "# def draw_graph(G):\n",
        "#     #draws a graph, planar using attribute 'name' as the node label, and edge attribute 'label' as the edge labels\n",
        "#     pos = nx.planar_layout(G)\n",
        "#     plt.figure(1,figsize=(12,12))\n",
        "#     nx.draw(G,pos, with_labels = True,labels = nx.get_node_attributes(G, 'name'),node_size=60,font_size=8)\n",
        "#     nx.draw_networkx_edge_labels(G,pos,edge_labels=nx.get_edge_attributes(G,'label'),font_size=8)\n",
        "#     return\n",
        "\n",
        "\n",
        "# def get_head_spacing(curr_spacing, head_dict):\n",
        "#     #get the head of current line based on spacing\n",
        "#     all_spacings = list(head_dict.keys())\n",
        "#     all_spacings.sort()\n",
        "#     i = all_spacings.index(curr_spacing)\n",
        "#     head_spacing = all_spacings[i-1]\n",
        "#     return head_spacing\n",
        "\n",
        "# def extract_node(node_str,i):\n",
        "#     #get node, it's id and edge relation from the line (node_str)\n",
        "#     # i (the line the nodestr is on) will be used as a unique identifier\n",
        "\n",
        "#     node_str = node_str.strip()\n",
        "#     print(node_str)\n",
        "#     node_list = node_str.split(' / ')\n",
        "#     if len(node_list) == 1:\n",
        "#         #no name, just a reference to an id within the graph\n",
        "#         #print(node_list)\n",
        "#         #create new id for the graph so that we don't accidently duplicate the nodes when adding\n",
        "#         node_list= node_list[0].split(\" \")\n",
        "#         if len(node_list) <2:\n",
        "#             return None\n",
        "#         node = node_list[1]\n",
        "#         edge = node_list[0]\n",
        "#         node = node.strip(\" ()\")\n",
        "#         # g_id = node +\"_\"+ str(i)\n",
        "#         g_id = node\n",
        "\n",
        "#     else:\n",
        "#         node = node_list[-1].strip(')')\n",
        "\n",
        "#         if node_list[0][0] != \":\":\n",
        "#             edge = None\n",
        "#             g_id = node_list[0].strip(\" ()\")\n",
        "#             # g_id = g_id +\"_\" +str(i)\n",
        "#             g_id = g_id\n",
        "#         else:\n",
        "#             [edge,g_id] = node_list[0].split(\" (\")\n",
        "#             # g_id = g_id +\"_\" +str(i)\n",
        "#             g_id = g_id\n",
        "#     return node, g_id,edge\n",
        "\n",
        "# def create_graph(original_string, graph_str, var_mapping):\n",
        "#     embeddings_with_pos = get_embeddings_with_pos(original_string)\n",
        "\n",
        "#     head_dict = {}\n",
        "\n",
        "#     parent_child_dict = defaultdict(list)\n",
        "#     node_to_index_dict = {}\n",
        "#     index_to_node_dict = {}\n",
        "#     index_to_embedding = []\n",
        "#     is_leaf = {}\n",
        "\n",
        "#     numVal = 0\n",
        "\n",
        "#     found = 0\n",
        "\n",
        "#     graph_str = clean_graph(graph_str)\n",
        "#     for i in range(len(graph_str.splitlines())):\n",
        "#         #extact node and edge, get spacing to know what to attach it to\n",
        "#         curr_line = graph_str.splitlines()[i]\n",
        "#         result = extract_node(curr_line,i)\n",
        "\n",
        "#         if result != None:\n",
        "#             [curr_node, g_id, edge] = result\n",
        "\n",
        "#             if g_id == curr_node and g_id not in var_mapping.keys():\n",
        "#               if edge != \":aspect\" or g_id != \"blank\":\n",
        "#                 continue\n",
        "\n",
        "\n",
        "#             curr_spacing = len(curr_line) - len(curr_line.lstrip())\n",
        "#             head_dict[curr_spacing] = g_id #update thespacing level to point to this node\n",
        "\n",
        "#             # print(curr_node, g_id, curr_spacing)\n",
        "#             if g_id not in node_to_index_dict.keys():\n",
        "\n",
        "#               node_to_index_dict[g_id] = numVal\n",
        "\n",
        "#               index_to_node_dict[numVal] = g_id\n",
        "\n",
        "#               numVal += 1\n",
        "\n",
        "#               if g_id in var_mapping.keys():\n",
        "#                   left_end = var_mapping[g_id][0]\n",
        "#                   right_end = var_mapping[g_id][1]\n",
        "#                   index_to_embedding.append(torch.sum(embeddings_with_pos[left_end:right_end + 1], dim=0))\n",
        "#               else:\n",
        "#                   index_to_embedding.append(torch.zeros(768))\n",
        "\n",
        "#             if i != 0:\n",
        "#                 #add top  node to the graph\n",
        "#                 head_spacing = get_head_spacing(curr_spacing, head_dict)\n",
        "#                 head_node_id= head_dict[head_spacing]\n",
        "#                 parent_child_dict[node_to_index_dict[head_node_id]].append(node_to_index_dict[g_id])\n",
        "\n",
        "\n",
        "#     return parent_child_dict, node_to_index_dict, index_to_node_dict, torch.stack(index_to_embedding)\n",
        "\n",
        "# def create_data_graph(parent_child_dict, node_to_index_dict, index_to_node_dict, embeddings, label):\n",
        "#   node_data = torch.tensor([])\n",
        "#   edges = [[0 for i in range(embeddings.shape[0])] for i in range(embeddings.shape[0])]\n",
        "\n",
        "#   for k in sorted(index_to_node_dict.keys()):\n",
        "#     temp = embeddings[k]\n",
        "\n",
        "#     for child in parent_child_dict[k]:\n",
        "#       temp = temp + embeddings[child]\n",
        "#       edges[k][child] = 1\n",
        "#     # print(\"temp shape\", temp.shape)\n",
        "#     node_data = torch.cat((node_data, temp.unsqueeze(0)), dim=0)\n",
        "\n",
        "#   return Data(x=node_data, edge_index=torch.tensor(edges), y=torch.tensor(label))"
      ],
      "metadata": {
        "id": "ALyF0TvovmfD"
      },
      "execution_count": null,
      "outputs": []
    },
    {
      "cell_type": "code",
      "source": [
        "import string\n",
        "import re\n",
        "\n",
        "def extract_node_2(node_str, i):\n",
        "  node_str = re.sub(r'\\\"*_\\(.*\\)\"', '\"', node_str)\n",
        "  node_str = node_str.strip()\n",
        "  node_list = node_str.split('(')\n",
        "  # print(node_str)\n",
        "  if len(node_list) == 1:\n",
        "    #it can either end or not depending on )\n",
        "    if node_list[0][-1] == \")\":\n",
        "      # print(\"condition 1\")\n",
        "      edge = node_list[0].split(\")\")[0].split()[0].strip()\n",
        "      g_id = node_list[0].split(\")\")[0].split()[1].strip()\n",
        "      node = g_id\n",
        "\n",
        "      return node, g_id, edge, 'remove', node_list[0].count(\")\")\n",
        "\n",
        "    else:\n",
        "      # print(\"condition 2\", node_list[0])\n",
        "\n",
        "      edge = node_list[0].split()[0].strip()\n",
        "      g_id = node_list[0].split()[1].strip() if len(node_list[0].split()) > 1 else None\n",
        "      node = g_id\n",
        "\n",
        "      return node, g_id, edge, 'none', node_list[0].count(\")\")\n",
        "\n",
        "  else:\n",
        "    if node_list[0] == '':\n",
        "      # print(\"condition 3\")\n",
        "      g_id = node_list[1].split(\"/\")[0].strip()\n",
        "      node = node_list[1].split(\"/\")[1].strip()\n",
        "      edge = None\n",
        "\n",
        "      return node, g_id, edge, 'add', node_list[1].count(\")\") - 1\n",
        "\n",
        "    elif node_list[1][-1] == ')':\n",
        "      # print(\"condition 4\")\n",
        "      edge = node_list[0].strip()\n",
        "      g_id = node_list[1].split(\")\")[0].split(\"/\")[0].strip()\n",
        "      node = node_list[1].split(\")\")[0].split(\"/\")[1].strip()\n",
        "\n",
        "      return node, g_id, edge, 'none', node_list[1].count(\")\") - 1\n",
        "    else:\n",
        "      # print(\"condition 5\")\n",
        "      g_id = node_list[1].split(\"/\")[0].strip()\n",
        "      node = node_list[1].split(\"/\")[1].strip()\n",
        "      edge = node_list[0].strip()\n",
        "\n",
        "      return node, g_id, edge, 'add', node_list[1].count(\")\") - 1"
      ],
      "metadata": {
        "id": "FnuQ6uUVsB0d"
      },
      "execution_count": null,
      "outputs": []
    },
    {
      "cell_type": "code",
      "source": [
        "def add_node_to_graph(index_to_node_dict, node_to_index_dict, g_id):\n",
        "  if g_id not in node_to_index_dict.keys():\n",
        "    node_to_index_dict[g_id] = len(node_to_index_dict)\n",
        "    index_to_node_dict[len(index_to_node_dict)] = g_id\n",
        "\n",
        "def create_graph(original_string, graph_str, var_mapping, target):\n",
        "    # embeddings_with_pos = get_embeddings_with_pos(original_string)\n",
        "\n",
        "    head_dict = {}\n",
        "\n",
        "    parent_child_dict = defaultdict(list)\n",
        "    node_to_index_dict = {}\n",
        "    index_to_node_dict = {}\n",
        "    index_to_embedding = {}\n",
        "    is_leaf = {}\n",
        "\n",
        "    # model_name = 'bert-base-uncased'\n",
        "\n",
        "    # tokenizer = BertTokenizer.from_pretrained(model_name)\n",
        "\n",
        "    found = 0\n",
        "    train_mask_index = -1\n",
        "    graph_str = clean_graph(graph_str)\n",
        "\n",
        "    graph_stack = []\n",
        "\n",
        "    for i in range(len(graph_str.splitlines())):\n",
        "        #extact node and edge, get spacing to know what to attach it to\n",
        "        curr_line = graph_str.splitlines()[i]\n",
        "\n",
        "        node, g_id, edge, operation, num_remove = extract_node_2(curr_line,i)\n",
        "        # print(node, g_id, edge, operation, num_remove)\n",
        "        # print(graph_stack)\n",
        "        if g_id == None or g_id == '':\n",
        "          continue\n",
        "\n",
        "        if g_id != node and g_id not in var_mapping.keys():\n",
        "          var_mapping[g_id] = [0, 0]\n",
        "\n",
        "        if operation == 'add':\n",
        "          if edge == None:\n",
        "            add_node_to_graph(index_to_node_dict, node_to_index_dict, g_id)\n",
        "            graph_stack.append(g_id)\n",
        "\n",
        "          else:\n",
        "            if g_id in var_mapping.keys() or (edge == ':aspect' and node == 'blank' and graph_stack[-1] == target):\n",
        "              add_node_to_graph(index_to_node_dict, node_to_index_dict, g_id)\n",
        "\n",
        "              parent_child_dict[node_to_index_dict[graph_stack[-1]]].append(node_to_index_dict[g_id])\n",
        "              graph_stack.append(g_id)\n",
        "\n",
        "        elif operation == 'remove':\n",
        "          if g_id in var_mapping.keys() or (edge == ':aspect' and node == 'blank' and graph_stack[-1] == target):\n",
        "            add_node_to_graph(index_to_node_dict, node_to_index_dict, g_id)\n",
        "            parent_child_dict[node_to_index_dict[graph_stack[-1]]].append(node_to_index_dict[g_id])\n",
        "\n",
        "        else:\n",
        "          if g_id in var_mapping.keys() or (edge == ':aspect' and node == 'blank' and graph_stack[-1] == target):\n",
        "            add_node_to_graph(index_to_node_dict, node_to_index_dict, g_id)\n",
        "            parent_child_dict[node_to_index_dict[graph_stack[-1]]].append(node_to_index_dict[g_id])\n",
        "\n",
        "        if g_id in var_mapping.keys():\n",
        "          left_end = var_mapping[g_id][0]\n",
        "          right_end = var_mapping[g_id][1]\n",
        "\n",
        "          if left_end == 0:\n",
        "            # index_to_embedding[node_to_index_dict[g_id]] = torch.zeros(768)\n",
        "            # index_to_embedding[node_to_index_dict[g_id]] = {\"input_ids\": torch.tensor([101, 103, 102]).unsqueeze(0), \"attention_mask\": torch.tensor([1]).unsqueeze(0)}\n",
        "            # index_to_embedding[node_to_index_dict[g_id]] = tokenizer(\"[MASK]\", truncation=True, return_tensors=\"pt\", max_length=20, padding='max_length')\n",
        "            index_to_embedding[node_to_index_dict[g_id]] = \"[MASK]\"\n",
        "          else:\n",
        "            # index_to_embedding[node_to_index_dict[g_id]] = torch.sum(embeddings_with_pos[left_end - 1:right_end], dim=0)\n",
        "            # index_to_embedding[node_to_index_dict[g_id]] = tokenizer(original_string[left_end - 1:right_end], truncation=True, return_tensors=\"pt\", max_length=20, padding='max_length')\n",
        "            index_to_embedding[node_to_index_dict[g_id]] = original_string[left_end - 1:right_end]\n",
        "          var_mapping[g_id] = [0, 0]\n",
        "\n",
        "        if (edge == ':aspect' and node == 'blank' and graph_stack[-1] == target):\n",
        "          # index_to_embedding[node_to_index_dict[g_id]] = torch.zeros(768)\n",
        "          # index_to_embedding[node_to_index_dict[g_id]] = {\"input_ids\": torch.tensor([101, 103, 102]).unsqueeze(0), \"attention_mask\": torch.tensor([1]).unsqueeze(0)}\n",
        "          # index_to_embedding[node_to_index_dict[g_id]] = tokenizer(\"[MASK]\", truncation=True, return_tensors=\"pt\", max_length=20, padding='max_length')\n",
        "          index_to_embedding[node_to_index_dict[g_id]] = \"[MASK]\"\n",
        "          train_mask_index = node_to_index_dict[g_id]\n",
        "\n",
        "        for j in range(num_remove):\n",
        "          graph_stack.pop()\n",
        "\n",
        "    return parent_child_dict, node_to_index_dict, index_to_node_dict, index_to_embedding, train_mask_index\n",
        "\n",
        "def create_data_graph(parent_child_dict, node_to_index_dict, index_to_node_dict, train_mask_index, embeddings, label):\n",
        "\n",
        "  model_name = 'bert-base-uncased'\n",
        "\n",
        "  tokenizer = BertTokenizer.from_pretrained('bert-base-uncased')\n",
        "\n",
        "  node_data = torch.tensor([])\n",
        "  node_input_ids = torch.tensor([])\n",
        "  node_attention_mask = torch.tensor([])\n",
        "  # edges = [[0 for i in range(len(embeddings.keys()))] for i in range(len(embeddings.keys()))]\n",
        "  edges = []\n",
        "  train_mask = torch.zeros(len(embeddings))\n",
        "  train_mask[train_mask_index] = 1\n",
        "\n",
        "  for k in sorted(index_to_node_dict.keys()):\n",
        "    temp = embeddings[k]\n",
        "    node_tokens = torch.tensor([])\n",
        "    # for child in parent_child_dict[k]:\n",
        "    #   temp = temp + embeddings[child]\n",
        "    #   edges.append([k, child])\n",
        "\n",
        "    for child in parent_child_dict[k]:\n",
        "      # print()\n",
        "      # temp.append(embeddings[child])\n",
        "      temp = temp + '[SEP]' + embeddings[child]\n",
        "      edges.append([k, child])\n",
        "\n",
        "    node_tokens = tokenizer(temp, truncation=True, return_tensors=\"pt\", max_length=256, padding='max_length')\n",
        "    node_input_ids = torch.cat((node_input_ids, node_tokens['input_ids']), dim=0)\n",
        "    node_attention_mask = torch.cat((node_attention_mask, node_tokens['attention_mask']), dim=0)\n",
        "    # print(node_tokens)\n",
        "\n",
        "    # node_data = torch.cat((node_data, temp.unsqueeze(0)), dim=0)\n",
        "\n",
        "  return Data(x=node_input_ids, edge_index=torch.tensor(edges).t().contiguous(), y=torch.tensor(label), train_mask=train_mask, input_ids=node_input_ids, attention_mask=node_attention_mask)"
      ],
      "metadata": {
        "id": "lvuxHV8Os11m"
      },
      "execution_count": null,
      "outputs": []
    },
    {
      "cell_type": "code",
      "source": [
        "eg_graph = \"(s1r / report-01\\n     :ARG0 (s1p4 / person\\n                 :ARG0-of (s1r2 / research-01)\\n                 :refer-number plural)\\n     :ARG1 (s1c / cause-01\\n                :ARG0 (s1a2 / asbestos\\n                            :mod (s1f / form)\\n                            :ARG1-of (s1u / use-01\\n                                          :ARG2 (s1m / make-01\\n                                                     :ARG1 (s1t2 / thing\\n                                                                 :instrument-of (s1f2 / filter-02)\\n                                                                 :part-of (s1c2 / cigarette\\n                                                                                :mod (s1c3 / company\\n                                                                                           :name (s1n / name\\n                                                                                                      :op1 \\\"Kent\\\")\\n                                                                                           :wiki \\\"Kent_(cigarette)\\\")\\n                                                                                :refer-number plural)\\n                                                                 :refer-number plural)\\n                                                     :aspect blank)\\n                                          :temporal (s1o / once)\\n                                          :aspect blank))\\n                :ARG1 (s1p3 / percentage\\n                            :ARG3-of (s1i / include-91\\n                                          :ARG1 (s1p7 / person\\n                                                      :ARG1-of (s1d / die-01\\n                                                                    :cause (s1d2 / disease\\n                                                                                 :name (s1n3 / name\\n                                                                                             :op1 \\\"cancer\\\")\\n                                                                                 :wiki \\\"Cancer\\\")\\n                                                                    :aspect blank)\\n                                                      :refer-number plural)\\n                                          :ARG2 (s1p6 / person\\n                                                      :ARG0-of (s1w2 / work-01)\\n                                                      :ARG1-of (s1e / expose-01\\n                                                                    :ARG2 s1a2\\n                                                                    :temporal (s1b / before\\n                                                                                   :op1 (s1n2 / now)\\n                                                                                   :quant (s1m2 / more-than\\n                                                                                                :op1 (s1t / temporal-quantity\\n                                                                                                          :unit (s1y / year)\\n                                                                                                          :quant 30)))\\n                                                                    :aspect blank)\\n                                                      :refer-number plural))\\n                            :ARG1-of (s1h / high-02))\\n                :quote s1p4\\n                :aspect blank)\\n     :aspect blank)\"\n",
        "\n",
        "eg_mapping = {\n",
        "  \"s1r\": [35, 35],\n",
        "  \"s1p4\": [34, 34],\n",
        "  \"s1r2\": [34, 34],\n",
        "  \"s1c\": [13, 13],\n",
        "  \"s1a2\": [4, 4],\n",
        "  \"s1f\": [2, 2],\n",
        "  \"s1u\": [6, 6],\n",
        "  \"s1m\": [8, 8],\n",
        "  \"s1t2\": [11, 11],\n",
        "  \"s1f2\": [11, 11],\n",
        "  \"s1c2\": [10, 10],\n",
        "  \"s1c3\": [9, 9],\n",
        "  \"s1n\": [9, 9],\n",
        "  \"s1o\": [5, 5],\n",
        "  \"s1p3\": [16, 16],\n",
        "  \"s1i\": [0, 0],\n",
        "  \"s1p7\": [0, 0],\n",
        "  \"s1d\": [19, 19],\n",
        "  \"s1d2\": [18, 18],\n",
        "  \"s1n3\": [18, 18],\n",
        "  \"s1p6\": [24, 24],\n",
        "  \"s1w2\": [24, 24],\n",
        "  \"s1e\": [25, 25],\n",
        "  \"s1b\": [32, 32],\n",
        "  \"s1n2\": [32, 32],\n",
        "  \"s1m2\": [28, 29],\n",
        "  \"s1t\": [30, 30],\n",
        "  \"s1y\": [31, 31],\n",
        "  \"s1h\": [15, 15]\n",
        "}\n",
        "\n",
        "graph = create_graph(\" A form of asbestos once used to make Kent cigarette filters has caused a high percentage of cancer deaths among a group of workers exposed to it more than 30 years ago , researchers reported .\", eg_graph, eg_mapping, \"s1r\")"
      ],
      "metadata": {
        "id": "709xXgaa-sI1"
      },
      "execution_count": null,
      "outputs": []
    },
    {
      "cell_type": "code",
      "source": [
        "torch.cat((graph[3][0]['input_ids'], graph[3][0]['input_ids']), dim=0).shape"
      ],
      "metadata": {
        "colab": {
          "base_uri": "https://localhost:8080/"
        },
        "id": "jI4IL4Cc-6dO",
        "outputId": "be99fdfe-3119-47b2-c877-37bdf180186b"
      },
      "execution_count": null,
      "outputs": [
        {
          "output_type": "execute_result",
          "data": {
            "text/plain": [
              "torch.Size([2, 3])"
            ]
          },
          "metadata": {},
          "execution_count": 220
        }
      ]
    },
    {
      "cell_type": "code",
      "source": [
        "graph[3][0]['input_ids'].shape"
      ],
      "metadata": {
        "colab": {
          "base_uri": "https://localhost:8080/"
        },
        "id": "3ye6oyxE-G_6",
        "outputId": "3334197e-9d75-493f-8d33-73df643faf64"
      },
      "execution_count": null,
      "outputs": [
        {
          "output_type": "execute_result",
          "data": {
            "text/plain": [
              "torch.Size([1, 3])"
            ]
          },
          "metadata": {},
          "execution_count": 210
        }
      ]
    },
    {
      "cell_type": "code",
      "source": [
        "eg_graph = \"(s10l / lead-02\\n      :ARG0 (s10p / person\\n                  :wiki -\\n                  :name (s10n / name\\n                              :op1 \\\"Dr.\\\"\\n                              :op2 \\\"Talcott\\\"))\\n      :ARG1 (s10t3 / team\\n                   :group-of (s10a / and\\n                                   :op1 (s10p7 / person\\n                                               :refer-number plural\\n                                               :ARG1-of (s10h / have-rel-role-92\\n                                                              :ARG2 (s10a2 / academic-organization\\n                                                                           :wiki \\\"National_Cancer_Institute\\\"\\n                                                                           :name (s10n2 / name\\n                                                                                        :op1 \\\"National\\\"\\n                                                                                        :op2 \\\"Cancer\\\"\\n                                                                                        :op3 \\\"Institute\\\"))\\n                                                              :ARG3 (s10p2 / person\\n                                                                           :ARG0-of (s10r / research-01))))\\n                                   :op2 (s10p3 / person\\n                                               :refer-number plural\\n                                               :ARG1-of (s10h2 / have-rel-role-92\\n                                                               :ARG2 (s10s / school\\n                                                                           :mod (s10m / medicine)\\n                                                                           :part-of (s10a3 / academic-organization\\n                                                                                           :wiki \\\"Harvard_University\\\"\\n                                                                                           :name (s10n3 / name\\n                                                                                                        :op1 \\\"Harvard\\\"\\n                                                                                                        :op2 \\\"University\\\")))\\n                                                               :ARG3 (s10p4 / person\\n                                                                            :ARG0-of (s10r2 / research-01))))\\n                                   :op3 (s10p5 / person\\n                                               :refer-number plural\\n                                               :ARG1-of (s10h3 / have-rel-role-92\\n                                                               :ARG2 (s10s2 / school\\n                                                                            :mod (s10m2 / medicine)\\n                                                                            :part-of (s10a4 / academic-organization\\n                                                                                            :wiki \\\"Boston_University\\\"\\n                                                                                            :name (s10n4 / name\\n                                                                                                         :op1 \\\"Boston\\\"\\n                                                                                                         :op2 \\\"University\\\")))\\n                                                               :ARG3 (s10p6 / person\\n                                                                            :ARG0-of (s10r3 / research-01))))))\\n      :aspect activity)\"\n",
        "\n",
        "eg_mapping = {\n",
        "    \"s10l\": [3,3],\n",
        "    \"s10p\": [1,2],\n",
        "    \"s10t3\": [1,2],\n",
        "    \"s10a\": [0,0],\n",
        "    \"s10p7\": [7,7],\n",
        "    \"s10h\": [0,0],\n",
        "    \"s10a2\": [10,12],\n",
        "    \"s10n2\": [10,12],\n",
        "    \"s10p2\": [7,7],\n",
        "    \"s10r\": [7,7],\n",
        "    \"s10p3\": [7,7],\n",
        "    \"s10h2\": [0,0],\n",
        "    \"s10s\": [16,16],\n",
        "    \"s10m\": [15,15],\n",
        "    \"s10a3\": [18,19],\n",
        "    \"s10n3\": [18,19],\n",
        "    \"s10p4\": [7,7],\n",
        "    \"s10r2\": [7,7],\n",
        "    \"s10p5\": [7,7],\n",
        "    \"s10h3\": [0,0],\n",
        "    \"s10s2\": [16,16],\n",
        "    \"s10m2\": [15,15],\n",
        "    \"s10a4\": [21,22],\n",
        "    \"s10n4\": [21,22],\n",
        "    \"s10p6\": [7,7],\n",
        "    \"s10r3\": [7,7]\n",
        "    # \"s10n\": [0, 0]\n",
        "}\n",
        "graph = create_graph(\" Dr. Talcott led a team of researchers from the National Cancer Institute and the medical schools of Harvard University and Boston University .\", eg_graph, eg_mapping, \"s1r\")"
      ],
      "metadata": {
        "id": "Ep7tvEwEJrbW"
      },
      "execution_count": null,
      "outputs": []
    },
    {
      "cell_type": "code",
      "source": [
        "print(clean_graph(eg_graph))"
      ],
      "metadata": {
        "colab": {
          "base_uri": "https://localhost:8080/"
        },
        "id": "Rt2-uV9hKVmi",
        "outputId": "c79dacf0-4272-4a87-9758-d632f4650405"
      },
      "execution_count": null,
      "outputs": [
        {
          "output_type": "stream",
          "name": "stdout",
          "text": [
            "(s10l / lead-02\n",
            "    :ARG0 (s10p / person\n",
            "        :wiki -\n",
            "        :name (s10n / name\n",
            "                :op1 \"Dr.\"\n",
            "                :op2 \"Talcott\"))\n",
            "    :ARG1 (s10t3 / team\n",
            "            :group-of (s10a / and\n",
            "                    :op1 (s10p7 / person\n",
            "                        :refer-number plural\n",
            "                        :ARG1-of (s10h / have-rel-role-92\n",
            "                            :ARG2 (s10a2 / academic-organization\n",
            "                                    :wiki \"National_Cancer_Institute\"\n",
            "                                    :name (s10n2 / name\n",
            "                                            :op1 \"National\"\n",
            "                                            :op2 \"Cancer\"\n",
            "                                            :op3 \"Institute\"))\n",
            "                            :ARG3 (s10p2 / person\n",
            "                                    :ARG0-of (s10r / research-01))))\n",
            "                    :op2 (s10p3 / person\n",
            "                        :refer-number plural\n",
            "                        :ARG1-of (s10h2 / have-rel-role-92\n",
            "                                :ARG2 (s10s / school\n",
            "                                    :mod (s10m / medicine)\n",
            "                                    :part-of (s10a3 / academic-organization\n",
            "                                                :wiki \"Harvard_University\"\n",
            "                                                :name (s10n3 / name\n",
            "                                                        :op1 \"Harvard\"\n",
            "                                                        :op2 \"University\")))\n",
            "                                :ARG3 (s10p4 / person\n",
            "                                        :ARG0-of (s10r2 / research-01))))\n",
            "                    :op3 (s10p5 / person\n",
            "                        :refer-number plural\n",
            "                        :ARG1-of (s10h3 / have-rel-role-92\n",
            "                                :ARG2 (s10s2 / school\n",
            "                                        :mod (s10m2 / medicine)\n",
            "                                        :part-of (s10a4 / academic-organization\n",
            "                                                    :wiki \"Boston_University\"\n",
            "                                                    :name (s10n4 / name\n",
            "                                                            :op1 \"Boston\"\n",
            "                                                            :op2 \"University\")))\n",
            "                                :ARG3 (s10p6 / person\n",
            "                                        :ARG0-of (s10r3 / research-01))))))\n",
            "    :aspect activity)\n"
          ]
        }
      ]
    },
    {
      "cell_type": "code",
      "source": [
        "graph[0], graph[1], graph[2]"
      ],
      "metadata": {
        "colab": {
          "base_uri": "https://localhost:8080/"
        },
        "id": "mdo6gvi7JzJR",
        "outputId": "571a6687-475c-4771-e9c6-39a09586c448"
      },
      "execution_count": null,
      "outputs": [
        {
          "output_type": "execute_result",
          "data": {
            "text/plain": [
              "(defaultdict(list,\n",
              "             {0: [1, 3],\n",
              "              1: [2],\n",
              "              3: [4],\n",
              "              4: [5, 11, 19],\n",
              "              5: [6],\n",
              "              6: [7, 9],\n",
              "              7: [8],\n",
              "              9: [10],\n",
              "              11: [12],\n",
              "              12: [13, 17],\n",
              "              13: [14, 15],\n",
              "              15: [16],\n",
              "              17: [18],\n",
              "              19: [20],\n",
              "              20: [21, 25],\n",
              "              21: [22, 23],\n",
              "              23: [24],\n",
              "              25: [26]}),\n",
              " {'s10l': 0,\n",
              "  's10p': 1,\n",
              "  's10n': 2,\n",
              "  's10t3': 3,\n",
              "  's10a': 4,\n",
              "  's10p7': 5,\n",
              "  's10h': 6,\n",
              "  's10a2': 7,\n",
              "  's10n2': 8,\n",
              "  's10p2': 9,\n",
              "  's10r': 10,\n",
              "  's10p3': 11,\n",
              "  's10h2': 12,\n",
              "  's10s': 13,\n",
              "  's10m': 14,\n",
              "  's10a3': 15,\n",
              "  's10n3': 16,\n",
              "  's10p4': 17,\n",
              "  's10r2': 18,\n",
              "  's10p5': 19,\n",
              "  's10h3': 20,\n",
              "  's10s2': 21,\n",
              "  's10m2': 22,\n",
              "  's10a4': 23,\n",
              "  's10n4': 24,\n",
              "  's10p6': 25,\n",
              "  's10r3': 26},\n",
              " {0: 's10l',\n",
              "  1: 's10p',\n",
              "  2: 's10n',\n",
              "  3: 's10t3',\n",
              "  4: 's10a',\n",
              "  5: 's10p7',\n",
              "  6: 's10h',\n",
              "  7: 's10a2',\n",
              "  8: 's10n2',\n",
              "  9: 's10p2',\n",
              "  10: 's10r',\n",
              "  11: 's10p3',\n",
              "  12: 's10h2',\n",
              "  13: 's10s',\n",
              "  14: 's10m',\n",
              "  15: 's10a3',\n",
              "  16: 's10n3',\n",
              "  17: 's10p4',\n",
              "  18: 's10r2',\n",
              "  19: 's10p5',\n",
              "  20: 's10h3',\n",
              "  21: 's10s2',\n",
              "  22: 's10m2',\n",
              "  23: 's10a4',\n",
              "  24: 's10n4',\n",
              "  25: 's10p6',\n",
              "  26: 's10r3'})"
            ]
          },
          "metadata": {},
          "execution_count": 35
        }
      ]
    },
    {
      "cell_type": "markdown",
      "source": [
        "Make sure the aspect target has blank.\n",
        "Only one aspect label should be blank, others should be removed.\n",
        "\n",
        "All the variables should be in the mapping\n",
        "\n",
        "No :ARG should be without variable ?"
      ],
      "metadata": {
        "id": "rdydVCVSOXOA"
      }
    },
    {
      "cell_type": "code",
      "source": [
        "eg_graph = \"(s1j / join-04\\n     :ARG0 (s1p / person\\n                :name (s1n / name\\n                           :op1 \\\"Pierre\\\"\\n                           :op2 \\\"Vinken\\\")\\n                :age (s1t / temporal-quantity\\n                          :unit (s1y / year)\\n                          :quant 61)\\n                :wiki -)\\n     :ARG1 (s1b / board)\\n     :ARG2 (s1h / have-org-role-92\\n                :ARG1 s1p\\n                :ARG2 s1b\\n                :ARG3 (s1d2 / director\\n                            :mod (s1e / executive\\n                                      :polarity -)))\\n     :temporal (s1d / date-entity\\n                    :month 11\\n                    :day 29)\\n     :aspect blank)\""
      ],
      "metadata": {
        "id": "64h9AGVK9i-I"
      },
      "execution_count": null,
      "outputs": []
    },
    {
      "cell_type": "code",
      "source": [
        "eg_mapping = {\n",
        "  \"s1j\": [8, 8],\n",
        "  \"s1p\": [0, 1],\n",
        "  \"s1n\": [0, 1],\n",
        "  \"s1t\": [0, 1],\n",
        "  \"s1y\": [4, 4],\n",
        "  \"s1b\": [10, 10],\n",
        "  \"s1d2\": [14, 14],\n",
        "  \"s1e\": [13, 13],\n",
        "  \"s1d\": [15, 16],\n",
        "  \"s1h\": [-1, -1]\n",
        "}"
      ],
      "metadata": {
        "id": "C-3PCeM492xu"
      },
      "execution_count": null,
      "outputs": []
    },
    {
      "cell_type": "code",
      "source": [
        "graph = create_graph(\" Pierre Vinken , 61 years old , will join the board as a nonexecutive director Nov. 29 .\", eg_graph, eg_mapping, 's1j')"
      ],
      "metadata": {
        "id": "Sr7ceQdj7vxV"
      },
      "execution_count": null,
      "outputs": []
    },
    {
      "cell_type": "code",
      "source": [
        "print(clean_graph(eg_graph))"
      ],
      "metadata": {
        "colab": {
          "base_uri": "https://localhost:8080/"
        },
        "id": "UTqOsGkmeiE8",
        "outputId": "727c3cd0-27bf-4c02-eb85-37f7f8f0a586"
      },
      "execution_count": null,
      "outputs": [
        {
          "output_type": "stream",
          "name": "stdout",
          "text": [
            "(s1j / join-04\n",
            "    :ARG0 (s1p / person\n",
            "        :name (s1n / name\n",
            "                    :op1 \"Pierre\"\n",
            "                    :op2 \"Vinken\")\n",
            "        :age (s1t / temporal-quantity\n",
            "                :unit (s1y / year)\n",
            "                :quant 61)\n",
            "        :wiki -)\n",
            "    :ARG1 (s1b / board)\n",
            "    :ARG2 (s1h / have-org-role-92\n",
            "        :ARG1 s1p\n",
            "        :ARG2 s1b\n",
            "        :ARG3 (s1d2 / director\n",
            "                        :mod (s1e / executive\n",
            "                            :polarity -)))\n",
            "    :temporal (s1d / date-entity\n",
            "            :month 11\n",
            "            :day 29)\n",
            "    :aspect blank)\n"
          ]
        }
      ]
    },
    {
      "cell_type": "code",
      "source": [
        "graph[0], graph[1], graph[2], graph[4]"
      ],
      "metadata": {
        "colab": {
          "base_uri": "https://localhost:8080/"
        },
        "id": "OiW1rBnkGDec",
        "outputId": "3b5b624f-7236-4957-8f1c-84b407ea536d"
      },
      "execution_count": null,
      "outputs": [
        {
          "output_type": "execute_result",
          "data": {
            "text/plain": [
              "(defaultdict(list,\n",
              "             {0: [1, 5, 6, 9, 10], 1: [2, 3], 3: [4], 6: [1, 5, 7], 7: [8]}),\n",
              " {'s1j': 0,\n",
              "  's1p': 1,\n",
              "  's1n': 2,\n",
              "  's1t': 3,\n",
              "  's1y': 4,\n",
              "  's1b': 5,\n",
              "  's1h': 6,\n",
              "  's1d2': 7,\n",
              "  's1e': 8,\n",
              "  's1d': 9,\n",
              "  'blank': 10},\n",
              " {0: 's1j',\n",
              "  1: 's1p',\n",
              "  2: 's1n',\n",
              "  3: 's1t',\n",
              "  4: 's1y',\n",
              "  5: 's1b',\n",
              "  6: 's1h',\n",
              "  7: 's1d2',\n",
              "  8: 's1e',\n",
              "  9: 's1d',\n",
              "  10: 'blank'},\n",
              " 10)"
            ]
          },
          "metadata": {},
          "execution_count": 163
        }
      ]
    },
    {
      "cell_type": "code",
      "source": [
        "graph[4]"
      ],
      "metadata": {
        "colab": {
          "base_uri": "https://localhost:8080/"
        },
        "id": "i4VXANzWMJt9",
        "outputId": "b3088fe1-1e27-44c0-f5d0-e72277ab40e5"
      },
      "execution_count": null,
      "outputs": [
        {
          "output_type": "execute_result",
          "data": {
            "text/plain": [
              "10"
            ]
          },
          "metadata": {},
          "execution_count": 42
        }
      ]
    },
    {
      "cell_type": "code",
      "source": [
        "data = create_data_graph(graph[0], graph[1], graph[2], graph[4], graph[3], torch.tensor([0, 0, 0, 0, 0, 1]))"
      ],
      "metadata": {
        "colab": {
          "base_uri": "https://localhost:8080/"
        },
        "id": "xGqmwE58r6hM",
        "outputId": "616c4d21-36b1-4b7d-8992-c3bd22b5eb3e"
      },
      "execution_count": null,
      "outputs": [
        {
          "output_type": "stream",
          "name": "stderr",
          "text": [
            "<ipython-input-249-aba4fe3444a0>:123: UserWarning: To copy construct from a tensor, it is recommended to use sourceTensor.clone().detach() or sourceTensor.clone().detach().requires_grad_(True), rather than torch.tensor(sourceTensor).\n",
            "  return Data(x=node_data, edge_index=torch.tensor(edges).t().contiguous(), y=torch.tensor(label), train_mask=train_mask, input_ids=node_input_ids, attention_mask=node_attention_mask)\n"
          ]
        }
      ]
    },
    {
      "cell_type": "code",
      "source": [
        "data.x"
      ],
      "metadata": {
        "colab": {
          "base_uri": "https://localhost:8080/"
        },
        "id": "-XQi00PwRIhj",
        "outputId": "1edeade2-ceb6-4e50-975c-7a355df9029f"
      },
      "execution_count": null,
      "outputs": [
        {
          "output_type": "execute_result",
          "data": {
            "text/plain": [
              "tensor([])"
            ]
          },
          "metadata": {},
          "execution_count": 251
        }
      ]
    },
    {
      "cell_type": "code",
      "source": [
        "data.train_mask.shape"
      ],
      "metadata": {
        "colab": {
          "base_uri": "https://localhost:8080/"
        },
        "id": "uFhRJBoPMTGj",
        "outputId": "d503ae78-a036-4c82-a6c6-dde6b322294a"
      },
      "execution_count": null,
      "outputs": [
        {
          "output_type": "execute_result",
          "data": {
            "text/plain": [
              "torch.Size([30])"
            ]
          },
          "metadata": {},
          "execution_count": 252
        }
      ]
    },
    {
      "cell_type": "code",
      "source": [
        "data.input_ids.shape"
      ],
      "metadata": {
        "colab": {
          "base_uri": "https://localhost:8080/"
        },
        "id": "lolVfBv6JnS-",
        "outputId": "7c964ec8-b01d-4de8-d563-c54496bce09b"
      },
      "execution_count": null,
      "outputs": [
        {
          "output_type": "execute_result",
          "data": {
            "text/plain": [
              "torch.Size([30, 256])"
            ]
          },
          "metadata": {},
          "execution_count": 253
        }
      ]
    },
    {
      "cell_type": "code",
      "source": [
        "data.edge_index.shape"
      ],
      "metadata": {
        "colab": {
          "base_uri": "https://localhost:8080/"
        },
        "id": "_03FqWI9tDla",
        "outputId": "43fe48e7-7350-4bbc-bcb5-3dbd5b387735"
      },
      "execution_count": null,
      "outputs": [
        {
          "output_type": "execute_result",
          "data": {
            "text/plain": [
              "torch.Size([2, 31])"
            ]
          },
          "metadata": {},
          "execution_count": 254
        }
      ]
    },
    {
      "cell_type": "code",
      "source": [
        "data.edge_index"
      ],
      "metadata": {
        "colab": {
          "base_uri": "https://localhost:8080/"
        },
        "id": "TjflgTHpRLHs",
        "outputId": "5eb440f8-4957-4146-e5d8-94b1db96ee9b"
      },
      "execution_count": null,
      "outputs": [
        {
          "output_type": "execute_result",
          "data": {
            "text/plain": [
              "tensor([[ 0,  0,  0,  1,  3,  3,  3,  4,  4,  6,  6,  7,  8,  8, 10, 11, 14, 14,\n",
              "         15, 15, 16, 17, 18, 20, 20, 22, 22, 23, 23, 25, 26],\n",
              "        [ 1,  3, 29,  2,  4, 14,  1,  5,  6,  7, 13,  8,  9, 10, 11, 12, 15, 28,\n",
              "         16, 20, 17, 18, 19, 21, 22,  4, 23, 24, 25, 26, 27]])"
            ]
          },
          "metadata": {},
          "execution_count": 255
        }
      ]
    },
    {
      "cell_type": "code",
      "source": [
        "\" Dr. Talcott led a team of researchers from the National Cancer Institute and the medical schools of Harvard University and Boston University .\""
      ],
      "metadata": {
        "colab": {
          "base_uri": "https://localhost:8080/",
          "height": 35
        },
        "id": "6vGgoSvmCZDi",
        "outputId": "b03b2d35-86ee-45ac-b655-a44c6795d1d6"
      },
      "execution_count": null,
      "outputs": [
        {
          "output_type": "execute_result",
          "data": {
            "text/plain": [
              "' Dr. Talcott led a team of researchers from the National Cancer Institute and the medical schools of Harvard University and Boston University .'"
            ],
            "application/vnd.google.colaboratory.intrinsic+json": {
              "type": "string"
            }
          },
          "metadata": {},
          "execution_count": 48
        }
      ]
    },
    {
      "cell_type": "code",
      "source": [
        "eg_graph = \"(s10l / lead-02\\n      :ARG0 (s10p / person\\n                  :wiki -\\n                  :name (s10n / name\\n                              :op1 \\\"Dr.\\\"\\n                              :op2 \\\"Talcott\\\"))\\n      :ARG1 (s10t3 / team\\n                   :group-of (s10a / and\\n                                   :op1 (s10p7 / person\\n                                               :refer-number plural\\n                                               :ARG1-of (s10h / have-rel-role-92\\n                                                              :ARG2 (s10a2 / academic-organization\\n                                                                           :wiki \\\"National_Cancer_Institute\\\"\\n                                                                           :name (s10n2 / name\\n                                                                                        :op1 \\\"National\\\"\\n                                                                                        :op2 \\\"Cancer\\\"\\n                                                                                        :op3 \\\"Institute\\\"))\\n                                                              :ARG3 (s10p2 / person\\n                                                                           :ARG0-of (s10r / research-01))))\\n                                   :op2 (s10p3 / person\\n                                               :refer-number plural\\n                                               :ARG1-of (s10h2 / have-rel-role-92\\n                                                               :ARG2 (s10s / school\\n                                                                           :mod (s10m / medicine)\\n                                                                           :part-of (s10a3 / academic-organization\\n                                                                                           :wiki \\\"Harvard_University\\\"\\n                                                                                           :name (s10n3 / name\\n                                                                                                        :op1 \\\"Harvard\\\"\\n                                                                                                        :op2 \\\"University\\\")))\\n                                                               :ARG3 (s10p4 / person\\n                                                                            :ARG0-of (s10r2 / research-01))))\\n                                   :op3 (s10p5 / person\\n                                               :refer-number plural\\n                                               :ARG1-of (s10h3 / have-rel-role-92\\n                                                               :ARG2 (s10s2 / school\\n                                                                            :mod (s10m2 / medicine)\\n                                                                            :part-of (s10a4 / academic-organization\\n                                                                                            :wiki \\\"Boston_University\\\"\\n                                                                                            :name (s10n4 / name\\n                                                                                                         :op1 \\\"Boston\\\"\\n                                                                                                         :op2 \\\"University\\\")))\\n                                                               :ARG3 (s10p6 / person\\n                                                                            :ARG0-of (s10r3 / research-01))))))\\n      :aspect activity)\"\n",
        "\n",
        "eg_mapping = {\n",
        "    \"1\": \"Dr.\",\n",
        "    \"2\": \"Talcott\",\n",
        "    \"3\": \"led\",\n",
        "    \"4\": \"a\",\n",
        "    \"5\": \"team\",\n",
        "    \"6\": \"of\",\n",
        "    \"7\": \"researchers\",\n",
        "    \"8\": \"from\",\n",
        "    \"9\": \"the\",\n",
        "    \"10\": \"National\",\n",
        "    \"11\": \"Cancer\",\n",
        "    \"12\": \"Institute\",\n",
        "    \"13\": \"and\",\n",
        "    \"14\": \"the\",\n",
        "    \"15\": \"medical\",\n",
        "    \"16\": \"schools\",\n",
        "    \"17\": \"of\",\n",
        "    \"18\": \"Harvard\",\n",
        "    \"19\": \"University\",\n",
        "    \"20\": \"and\",\n",
        "    \"21\": \"Boston\",\n",
        "    \"22\": \"University\",\n",
        "    \"23\": \".\"\n",
        "}\n",
        "graph = create_graph(\" A form of asbestos once used to make Kent cigarette filters has caused a high percentage of cancer deaths among a group of workers exposed to it more than 30 years ago , researchers reported .\", eg_graph, eg_mapping, \"s1r\")"
      ],
      "metadata": {
        "id": "cr54nItzCd2z"
      },
      "execution_count": null,
      "outputs": []
    },
    {
      "cell_type": "code",
      "source": [
        "eg_graph = \"(s120h / have-91\\n       :ARG1 (s120p / person\\n                    :ARG1-of (s120i2 / include-91\\n                                     :ARG2 (s120p2 / person\\n                                                   :refer-person 3rd\\n                                                   :refer-number plural))\\n                    :refer-person 3rd\\n                    :quant 1)\\n       :ARG2 (s120p4 / paddleball\\n                     :ARG1-of (s120i / identity-91\\n                                     :ARG2 (s120u / umr-unknown\\n                                                  :ARG2-of (s120c / call-01\\n                                                                  :ARG0 (s120p3 / person\\n                                                                                :refer-person 2nd\\n                                                                                :refer-number singular)\\n                                                                  :ARG1 (s120t / thing\\n                                                                               :mod (s120t2 / that)\\n                                                                               :ARG1-of (s120l / little-01)\\n                                                                               :refer-number plural)\\n                                                                  :ARG2\\n                                                                  :mode interrogative\\n                                                                  :aspect blank)))\\n                     :refer-number singular)\\n       :aspect blank)\"\n",
        "\n",
        "eg_mapping = {\n",
        "    \"s120h\": [4, 4],\n",
        "    \"s120p\": [1, 1],\n",
        "    \"s120i2\": [2, 2],\n",
        "    \"s120p2\": [3, 3],\n",
        "    \"s120p4\": [16, 16],\n",
        "    \"s120i\": [0, 0],\n",
        "    \"s120c\": [11, 11],\n",
        "    \"s120p3\": [10, 10],\n",
        "    \"s120t\": [0, 0],\n",
        "    \"s120t2\": [12, 12],\n",
        "    \"s120l\": [13, 13],\n",
        "    \"s120u\": [8, 8]\n",
        "}\n",
        "graph = create_graph(\"one of them has a . . what do you call those little [l.l?] um paddleball?\", eg_graph, eg_mapping, \"s120h\")"
      ],
      "metadata": {
        "colab": {
          "base_uri": "https://localhost:8080/"
        },
        "id": "r7hpJR2VRAxB",
        "outputId": "bf36ff35-1f70-4611-d626-98c2f1a0ddda"
      },
      "execution_count": null,
      "outputs": [
        {
          "output_type": "stream",
          "name": "stdout",
          "text": [
            "(s120h / have-91\n",
            "have-91 s120h None add -1\n",
            "[]\n",
            ":ARG1 (s120p / person\n",
            "person s120p :ARG1 add -1\n",
            "['s120h']\n",
            ":ARG1-of (s120i2 / include-91\n",
            "include-91 s120i2 :ARG1-of add -1\n",
            "['s120h', 's120p']\n",
            ":ARG2 (s120p2 / person\n",
            "person s120p2 :ARG2 add -1\n",
            "['s120h', 's120p', 's120i2']\n",
            ":refer-person 3rd\n",
            "condition 2 :refer-person 3rd\n",
            "3rd 3rd :refer-person none 0\n",
            "['s120h', 's120p', 's120i2', 's120p2']\n",
            ":refer-number plural))\n",
            "plural plural :refer-number remove 2\n",
            "['s120h', 's120p', 's120i2', 's120p2']\n",
            ":refer-person 3rd\n",
            "condition 2 :refer-person 3rd\n",
            "3rd 3rd :refer-person none 0\n",
            "['s120h', 's120p']\n",
            ":quant 1)\n",
            "1 1 :quant remove 1\n",
            "['s120h', 's120p']\n",
            ":ARG2 (s120p4 / paddleball\n",
            "paddleball s120p4 :ARG2 add -1\n",
            "['s120h']\n",
            ":ARG1-of (s120i / identity-91\n",
            "identity-91 s120i :ARG1-of add -1\n",
            "['s120h', 's120p4']\n",
            ":ARG2 (s120u / umr-unknown\n",
            "umr-unknown s120u :ARG2 add -1\n",
            "['s120h', 's120p4', 's120i']\n",
            ":ARG2-of (s120c / call-01\n",
            "call-01 s120c :ARG2-of add -1\n",
            "['s120h', 's120p4', 's120i', 's120u']\n",
            ":ARG0 (s120p3 / person\n",
            "person s120p3 :ARG0 add -1\n",
            "['s120h', 's120p4', 's120i', 's120u', 's120c']\n",
            ":refer-person 2nd\n",
            "condition 2 :refer-person 2nd\n",
            "2nd 2nd :refer-person none 0\n",
            "['s120h', 's120p4', 's120i', 's120u', 's120c', 's120p3']\n",
            ":refer-number singular)\n",
            "singular singular :refer-number remove 1\n",
            "['s120h', 's120p4', 's120i', 's120u', 's120c', 's120p3']\n",
            ":ARG1 (s120t / thing\n",
            "thing s120t :ARG1 add -1\n",
            "['s120h', 's120p4', 's120i', 's120u', 's120c']\n",
            ":mod (s120t2 / that)\n",
            "that s120t2 :mod none 0\n",
            "['s120h', 's120p4', 's120i', 's120u', 's120c', 's120t']\n",
            ":ARG1-of (s120l / little-01)\n",
            "little-01 s120l :ARG1-of none 0\n",
            "['s120h', 's120p4', 's120i', 's120u', 's120c', 's120t']\n",
            ":refer-number plural)\n",
            "plural plural :refer-number remove 1\n",
            "['s120h', 's120p4', 's120i', 's120u', 's120c', 's120t']\n",
            ":ARG2\n",
            "condition 2 :ARG2\n",
            "None None :ARG2 none 0\n",
            "['s120h', 's120p4', 's120i', 's120u', 's120c']\n",
            ":mode interrogative\n",
            "condition 2 :mode interrogative\n",
            "interrogative interrogative :mode none 0\n",
            "['s120h', 's120p4', 's120i', 's120u', 's120c']\n",
            ":aspect blank)))\n",
            "blank blank :aspect remove 3\n",
            "['s120h', 's120p4', 's120i', 's120u', 's120c']\n",
            ":refer-number singular)\n",
            "singular singular :refer-number remove 1\n",
            "['s120h', 's120p4']\n",
            ":aspect blank)\n",
            "blank blank :aspect remove 1\n",
            "['s120h']\n"
          ]
        }
      ]
    },
    {
      "cell_type": "code",
      "source": [
        "print(\"(s120h / have-91\\n       :ARG1 (s120p / person\\n                    :ARG1-of (s120i2 / include-91\\n                                     :ARG2 (s120p2 / person\\n                                                   :refer-person 3rd\\n                                                   :refer-number plural))\\n                    :refer-person 3rd\\n                    :quant 1)\\n       :ARG2 (s120p4 / paddleball\\n                     :ARG1-of (s120i / identity-91\\n                                     :ARG2 (s120u / umr-unknown\\n                                                  :ARG2-of (s120c / call-01\\n                                                                  :ARG0 (s120p3 / person\\n                                                                                :refer-person 2nd\\n                                                                                :refer-number singular)\\n                                                                  :ARG1 (s120t / thing\\n                                                                               :mod (s120t2 / that)\\n                                                                               :ARG1-of (s120l / little-01)\\n                                                                               :refer-number plural)\\n                                                                  :ARG2\\n                                                                  :mode interrogative\\n                                                                  :aspect blank)))\\n                     :refer-number singular)\\n       :aspect blank)\")"
      ],
      "metadata": {
        "colab": {
          "base_uri": "https://localhost:8080/"
        },
        "id": "s7BcbGuFR6I7",
        "outputId": "1b9db213-4c9c-4f1b-b673-457fbbab316f"
      },
      "execution_count": null,
      "outputs": [
        {
          "output_type": "stream",
          "name": "stdout",
          "text": [
            "(s120h / have-91\n",
            "       :ARG1 (s120p / person\n",
            "                    :ARG1-of (s120i2 / include-91\n",
            "                                     :ARG2 (s120p2 / person\n",
            "                                                   :refer-person 3rd\n",
            "                                                   :refer-number plural))\n",
            "                    :refer-person 3rd\n",
            "                    :quant 1)\n",
            "       :ARG2 (s120p4 / paddleball\n",
            "                     :ARG1-of (s120i / identity-91\n",
            "                                     :ARG2 (s120u / umr-unknown\n",
            "                                                  :ARG2-of (s120c / call-01\n",
            "                                                                  :ARG0 (s120p3 / person\n",
            "                                                                                :refer-person 2nd\n",
            "                                                                                :refer-number singular)\n",
            "                                                                  :ARG1 (s120t / thing\n",
            "                                                                               :mod (s120t2 / that)\n",
            "                                                                               :ARG1-of (s120l / little-01)\n",
            "                                                                               :refer-number plural)\n",
            "                                                                  :ARG2\n",
            "                                                                  :mode interrogative\n",
            "                                                                  :aspect blank)))\n",
            "                     :refer-number singular)\n",
            "       :aspect blank)\n"
          ]
        }
      ]
    },
    {
      "cell_type": "code",
      "source": [
        "graph[0], graph[1], graph[2]"
      ],
      "metadata": {
        "colab": {
          "base_uri": "https://localhost:8080/"
        },
        "id": "FGgAXOuN-ASC",
        "outputId": "63f4a18d-863d-4818-993e-03de3bb9313b"
      },
      "execution_count": null,
      "outputs": [
        {
          "output_type": "execute_result",
          "data": {
            "text/plain": [
              "(defaultdict(list,\n",
              "             {0: [1, 4, 12],\n",
              "              1: [2],\n",
              "              2: [3],\n",
              "              4: [5],\n",
              "              5: [6],\n",
              "              6: [7],\n",
              "              7: [8, 9],\n",
              "              9: [10, 11]}),\n",
              " {'s120h': 0,\n",
              "  's120p': 1,\n",
              "  's120i2': 2,\n",
              "  's120p2': 3,\n",
              "  's120p4': 4,\n",
              "  's120i': 5,\n",
              "  's120u': 6,\n",
              "  's120c': 7,\n",
              "  's120p3': 8,\n",
              "  's120t': 9,\n",
              "  's120t2': 10,\n",
              "  's120l': 11,\n",
              "  'blank': 12},\n",
              " {0: 's120h',\n",
              "  1: 's120p',\n",
              "  2: 's120i2',\n",
              "  3: 's120p2',\n",
              "  4: 's120p4',\n",
              "  5: 's120i',\n",
              "  6: 's120u',\n",
              "  7: 's120c',\n",
              "  8: 's120p3',\n",
              "  9: 's120t',\n",
              "  10: 's120t2',\n",
              "  11: 's120l',\n",
              "  12: 'blank'})"
            ]
          },
          "metadata": {},
          "execution_count": 69
        }
      ]
    },
    {
      "cell_type": "code",
      "source": [
        "dataDir = \"drive/MyDrive/UMR_data_2/\""
      ],
      "metadata": {
        "id": "R3O0g6A543fz"
      },
      "execution_count": null,
      "outputs": []
    },
    {
      "cell_type": "code",
      "source": [
        "os.listdir(dataDir + \"/raw\")"
      ],
      "metadata": {
        "colab": {
          "base_uri": "https://localhost:8080/"
        },
        "id": "xTtjBqObIh2s",
        "outputId": "6f96201b-047f-4d1b-f464-fd1c9e08deff"
      },
      "execution_count": null,
      "outputs": [
        {
          "output_type": "execute_result",
          "data": {
            "text/plain": [
              "['doc_level_blanks_aligned.json', 'doc_aligned_with_joined_sentence.json']"
            ]
          },
          "metadata": {},
          "execution_count": 16
        }
      ]
    },
    {
      "cell_type": "code",
      "source": [
        "os.listdir(dataDir + '/processed')"
      ],
      "metadata": {
        "colab": {
          "base_uri": "https://localhost:8080/"
        },
        "id": "r0ndH9XvAo_B",
        "outputId": "c980c6d0-8588-475c-ec35-fa5dfcf9ee5e"
      },
      "execution_count": null,
      "outputs": [
        {
          "output_type": "execute_result",
          "data": {
            "text/plain": [
              "['data_2.pt',\n",
              " 'data_3.pt',\n",
              " 'data_4.pt',\n",
              " 'data_7.pt',\n",
              " 'data_5.pt',\n",
              " 'data_6.pt',\n",
              " 'data_1.pt',\n",
              " 'data_0.pt',\n",
              " 'data_8.pt',\n",
              " 'data_9.pt',\n",
              " 'data_10.pt',\n",
              " 'data_11.pt',\n",
              " 'data_12.pt',\n",
              " 'data_13.pt',\n",
              " 'data_14.pt',\n",
              " 'data_15.pt',\n",
              " 'data_16.pt',\n",
              " 'data_17.pt',\n",
              " 'data_18.pt',\n",
              " 'data_19.pt',\n",
              " 'data_20.pt',\n",
              " 'data_21.pt',\n",
              " 'data_22.pt',\n",
              " 'data_23.pt',\n",
              " 'data_24.pt',\n",
              " 'data_26.pt',\n",
              " 'data_25.pt',\n",
              " 'data_27.pt',\n",
              " 'data_29.pt',\n",
              " 'data_28.pt',\n",
              " 'data_30.pt',\n",
              " 'data_32.pt',\n",
              " 'data_31.pt',\n",
              " 'data_33.pt',\n",
              " 'data_34.pt',\n",
              " 'data_35.pt',\n",
              " 'data_36.pt',\n",
              " 'data_38.pt',\n",
              " 'data_37.pt',\n",
              " 'data_39.pt',\n",
              " 'data_40.pt',\n",
              " 'data_41.pt',\n",
              " 'data_45.pt',\n",
              " 'data_44.pt',\n",
              " 'data_42.pt',\n",
              " 'data_43.pt',\n",
              " 'data_51.pt',\n",
              " 'data_47.pt',\n",
              " 'data_46.pt',\n",
              " 'data_50.pt',\n",
              " 'data_49.pt',\n",
              " 'data_48.pt',\n",
              " 'data_53.pt',\n",
              " 'data_52.pt',\n",
              " 'data_54.pt',\n",
              " 'data_55.pt',\n",
              " 'data_57.pt',\n",
              " 'data_56.pt',\n",
              " 'data_58.pt',\n",
              " 'data_59.pt',\n",
              " 'data_60.pt',\n",
              " 'data_61.pt',\n",
              " 'data_62.pt',\n",
              " 'data_63.pt',\n",
              " 'data_64.pt',\n",
              " 'data_65.pt',\n",
              " 'data_66.pt',\n",
              " 'data_67.pt',\n",
              " 'data_68.pt',\n",
              " 'data_69.pt',\n",
              " 'data_71.pt',\n",
              " 'data_70.pt',\n",
              " 'data_72.pt',\n",
              " 'data_74.pt',\n",
              " 'data_73.pt',\n",
              " 'data_75.pt',\n",
              " 'data_76.pt',\n",
              " 'data_77.pt',\n",
              " 'data_78.pt',\n",
              " 'data_79.pt',\n",
              " 'data_80.pt',\n",
              " 'data_81.pt',\n",
              " 'data_82.pt',\n",
              " 'data_83.pt',\n",
              " 'data_84.pt',\n",
              " 'data_85.pt',\n",
              " 'data_86.pt',\n",
              " 'data_87.pt',\n",
              " 'data_88.pt',\n",
              " 'data_90.pt',\n",
              " 'data_89.pt',\n",
              " 'data_91.pt',\n",
              " 'data_92.pt',\n",
              " 'data_93.pt',\n",
              " 'data_94.pt',\n",
              " 'data_95.pt',\n",
              " 'data_96.pt',\n",
              " 'data_97.pt',\n",
              " 'data_98.pt',\n",
              " 'data_101.pt',\n",
              " 'data_103.pt',\n",
              " 'data_100.pt',\n",
              " 'data_102.pt',\n",
              " 'data_99.pt',\n",
              " 'data_104.pt',\n",
              " 'data_105.pt',\n",
              " 'data_106.pt',\n",
              " 'data_107.pt',\n",
              " 'data_108.pt',\n",
              " 'data_109.pt',\n",
              " 'data_110.pt',\n",
              " 'data_111.pt',\n",
              " 'data_112.pt',\n",
              " 'data_113.pt',\n",
              " 'data_114.pt',\n",
              " 'data_115.pt',\n",
              " 'data_116.pt',\n",
              " 'data_117.pt',\n",
              " 'data_118.pt',\n",
              " 'data_119.pt',\n",
              " 'data_120.pt',\n",
              " 'data_121.pt',\n",
              " 'data_122.pt',\n",
              " 'data_123.pt',\n",
              " 'data_124.pt',\n",
              " 'data_125.pt',\n",
              " 'data_126.pt',\n",
              " 'data_127.pt',\n",
              " 'data_128.pt',\n",
              " 'data_129.pt',\n",
              " 'data_130.pt',\n",
              " 'data_131.pt',\n",
              " 'data_132.pt',\n",
              " 'data_133.pt',\n",
              " 'data_134.pt',\n",
              " 'data_135.pt',\n",
              " 'data_137.pt',\n",
              " 'data_136.pt',\n",
              " 'data_138.pt',\n",
              " 'data_139.pt',\n",
              " 'data_140.pt',\n",
              " 'data_141.pt',\n",
              " 'data_142.pt',\n",
              " 'data_143.pt',\n",
              " 'data_144.pt',\n",
              " 'data_145.pt',\n",
              " 'data_146.pt',\n",
              " 'data_147.pt',\n",
              " 'data_148.pt',\n",
              " 'data_149.pt',\n",
              " 'data_150.pt',\n",
              " 'data_151.pt',\n",
              " 'data_152.pt',\n",
              " 'data_153.pt',\n",
              " 'data_154.pt',\n",
              " 'data_155.pt',\n",
              " 'data_157.pt',\n",
              " 'data_156.pt',\n",
              " 'data_158.pt',\n",
              " 'data_160.pt',\n",
              " 'data_162.pt',\n",
              " 'data_161.pt',\n",
              " 'data_159.pt',\n",
              " 'data_163.pt',\n",
              " 'data_164.pt',\n",
              " 'data_165.pt',\n",
              " 'data_166.pt',\n",
              " 'data_167.pt',\n",
              " 'data_168.pt',\n",
              " 'data_169.pt',\n",
              " 'data_171.pt',\n",
              " 'data_170.pt',\n",
              " 'data_172.pt',\n",
              " 'data_173.pt',\n",
              " 'data_174.pt',\n",
              " 'data_175.pt',\n",
              " 'data_176.pt',\n",
              " 'data_177.pt',\n",
              " 'data_179.pt',\n",
              " 'data_178.pt',\n",
              " 'data_181.pt',\n",
              " 'data_180.pt',\n",
              " 'data_182.pt',\n",
              " 'data_183.pt',\n",
              " 'data_185.pt',\n",
              " 'data_184.pt',\n",
              " 'data_186.pt',\n",
              " 'data_187.pt',\n",
              " 'data_188.pt',\n",
              " 'data_189.pt',\n",
              " 'data_190.pt',\n",
              " 'data_192.pt',\n",
              " 'data_191.pt',\n",
              " 'data_193.pt',\n",
              " 'data_194.pt',\n",
              " 'data_195.pt',\n",
              " 'data_196.pt',\n",
              " 'data_197.pt',\n",
              " 'data_199.pt',\n",
              " 'data_198.pt',\n",
              " 'data_200.pt',\n",
              " 'data_201.pt',\n",
              " 'data_202.pt',\n",
              " 'data_203.pt',\n",
              " 'data_205.pt',\n",
              " 'data_204.pt',\n",
              " 'data_206.pt',\n",
              " 'data_207.pt',\n",
              " 'data_208.pt',\n",
              " 'data_209.pt',\n",
              " 'data_210.pt',\n",
              " 'data_211.pt',\n",
              " 'data_213.pt',\n",
              " 'data_212.pt',\n",
              " 'data_214.pt',\n",
              " 'data_216.pt',\n",
              " 'data_215.pt',\n",
              " 'data_218.pt',\n",
              " 'data_217.pt',\n",
              " 'data_219.pt',\n",
              " 'data_220.pt',\n",
              " 'data_221.pt',\n",
              " 'data_222.pt',\n",
              " 'data_223.pt',\n",
              " 'data_224.pt',\n",
              " 'data_226.pt',\n",
              " 'data_225.pt',\n",
              " 'data_227.pt',\n",
              " 'data_228.pt',\n",
              " 'data_229.pt',\n",
              " 'data_231.pt',\n",
              " 'data_230.pt',\n",
              " 'data_233.pt',\n",
              " 'data_232.pt',\n",
              " 'data_234.pt',\n",
              " 'data_236.pt',\n",
              " 'data_235.pt',\n",
              " 'data_237.pt',\n",
              " 'data_238.pt',\n",
              " 'data_239.pt',\n",
              " 'data_240.pt',\n",
              " 'data_241.pt',\n",
              " 'data_242.pt',\n",
              " 'data_243.pt',\n",
              " 'data_245.pt',\n",
              " 'data_244.pt',\n",
              " 'data_247.pt',\n",
              " 'data_248.pt',\n",
              " 'data_250.pt',\n",
              " 'data_249.pt',\n",
              " 'data_246.pt',\n",
              " 'data_251.pt',\n",
              " 'data_252.pt',\n",
              " 'data_254.pt',\n",
              " 'data_253.pt',\n",
              " 'data_255.pt',\n",
              " 'data_257.pt',\n",
              " 'data_256.pt',\n",
              " 'data_259.pt',\n",
              " 'data_260.pt',\n",
              " 'data_258.pt',\n",
              " 'data_261.pt',\n",
              " 'data_262.pt',\n",
              " 'data_263.pt',\n",
              " 'data_264.pt',\n",
              " 'data_265.pt',\n",
              " 'data_266.pt',\n",
              " 'data_267.pt',\n",
              " 'data_268.pt',\n",
              " 'data_269.pt',\n",
              " 'data_270.pt',\n",
              " 'data_271.pt',\n",
              " 'data_272.pt',\n",
              " 'data_273.pt',\n",
              " 'data_274.pt',\n",
              " 'data_278.pt',\n",
              " 'data_276.pt',\n",
              " 'data_279.pt',\n",
              " 'data_277.pt',\n",
              " 'data_275.pt',\n",
              " 'data_280.pt',\n",
              " 'data_281.pt',\n",
              " 'data_282.pt',\n",
              " 'data_283.pt',\n",
              " 'data_284.pt',\n",
              " 'data_285.pt',\n",
              " 'data_286.pt',\n",
              " 'data_287.pt',\n",
              " 'data_288.pt',\n",
              " 'data_289.pt',\n",
              " 'data_290.pt',\n",
              " 'data_291.pt',\n",
              " 'data_292.pt',\n",
              " 'data_293.pt',\n",
              " 'data_294.pt',\n",
              " 'data_296.pt',\n",
              " 'data_295.pt',\n",
              " 'data_297.pt',\n",
              " 'data_299.pt',\n",
              " 'data_298.pt',\n",
              " 'data_300.pt',\n",
              " 'data_301.pt',\n",
              " 'data_302.pt',\n",
              " 'data_303.pt',\n",
              " 'data_305.pt',\n",
              " 'data_304.pt',\n",
              " 'data_306.pt',\n",
              " 'data_307.pt',\n",
              " 'data_308.pt',\n",
              " 'data_309.pt',\n",
              " 'data_310.pt',\n",
              " 'data_311.pt',\n",
              " 'data_312.pt',\n",
              " 'data_313.pt',\n",
              " 'data_314.pt',\n",
              " 'data_315.pt',\n",
              " 'data_316.pt',\n",
              " 'data_317.pt',\n",
              " 'data_318.pt',\n",
              " 'data_319.pt',\n",
              " 'data_320.pt',\n",
              " 'data_321.pt',\n",
              " 'data_322.pt',\n",
              " 'data_324.pt',\n",
              " 'data_323.pt',\n",
              " 'data_325.pt',\n",
              " 'data_326.pt',\n",
              " 'data_328.pt',\n",
              " 'data_327.pt',\n",
              " 'data_329.pt',\n",
              " 'data_330.pt',\n",
              " 'data_331.pt',\n",
              " 'data_332.pt',\n",
              " 'data_333.pt',\n",
              " 'data_334.pt',\n",
              " 'data_339.pt',\n",
              " 'data_336.pt',\n",
              " 'data_338.pt',\n",
              " 'data_337.pt',\n",
              " 'data_335.pt',\n",
              " 'data_340.pt',\n",
              " 'data_341.pt',\n",
              " 'data_342.pt',\n",
              " 'data_343.pt',\n",
              " 'data_344.pt',\n",
              " 'data_346.pt',\n",
              " 'data_345.pt',\n",
              " 'data_348.pt',\n",
              " 'data_347.pt',\n",
              " 'data_349.pt',\n",
              " 'data_352.pt',\n",
              " 'data_353.pt',\n",
              " 'data_354.pt',\n",
              " 'data_350.pt',\n",
              " 'data_351.pt',\n",
              " 'data_355.pt',\n",
              " 'data_356.pt',\n",
              " 'data_357.pt',\n",
              " 'data_358.pt',\n",
              " 'data_359.pt',\n",
              " 'data_360.pt',\n",
              " 'data_361.pt',\n",
              " 'data_363.pt',\n",
              " 'data_362.pt',\n",
              " 'data_364.pt',\n",
              " 'data_365.pt',\n",
              " 'data_366.pt',\n",
              " 'data_367.pt',\n",
              " 'data_368.pt',\n",
              " 'data_369.pt',\n",
              " 'data_370.pt',\n",
              " 'data_371.pt',\n",
              " 'data_372.pt',\n",
              " 'data_374.pt',\n",
              " 'data_373.pt',\n",
              " 'data_375.pt',\n",
              " 'data_376.pt',\n",
              " 'data_377.pt',\n",
              " 'data_378.pt',\n",
              " 'data_379.pt',\n",
              " 'data_380.pt',\n",
              " 'data_381.pt',\n",
              " 'data_382.pt',\n",
              " 'data_384.pt',\n",
              " 'data_383.pt',\n",
              " 'data_385.pt',\n",
              " 'data_386.pt',\n",
              " 'data_387.pt',\n",
              " 'data_388.pt',\n",
              " 'data_389.pt',\n",
              " 'data_390.pt',\n",
              " 'data_391.pt',\n",
              " 'data_392.pt',\n",
              " 'data_393.pt',\n",
              " 'data_394.pt',\n",
              " 'data_395.pt',\n",
              " 'data_396.pt',\n",
              " 'data_397.pt',\n",
              " 'data_398.pt',\n",
              " 'data_401.pt',\n",
              " 'data_402.pt',\n",
              " 'data_400.pt',\n",
              " 'data_399.pt',\n",
              " 'data_404.pt',\n",
              " 'data_403.pt',\n",
              " 'data_405.pt',\n",
              " 'data_406.pt',\n",
              " 'data_407.pt',\n",
              " 'data_408.pt',\n",
              " 'data_410.pt',\n",
              " 'data_409.pt',\n",
              " 'data_412.pt',\n",
              " 'data_411.pt',\n",
              " 'data_415.pt',\n",
              " 'data_417.pt',\n",
              " 'data_413.pt',\n",
              " 'data_418.pt',\n",
              " 'data_416.pt',\n",
              " 'data_419.pt',\n",
              " 'data_414.pt',\n",
              " 'data_420.pt',\n",
              " 'data_421.pt',\n",
              " 'data_423.pt',\n",
              " 'data_422.pt',\n",
              " 'data_425.pt',\n",
              " 'data_424.pt',\n",
              " 'data_426.pt',\n",
              " 'data_427.pt',\n",
              " 'data_429.pt',\n",
              " 'data_428.pt',\n",
              " 'data_430.pt',\n",
              " 'data_431.pt',\n",
              " 'data_433.pt',\n",
              " 'data_432.pt',\n",
              " 'data_434.pt',\n",
              " 'data_435.pt',\n",
              " 'data_436.pt',\n",
              " 'data_437.pt',\n",
              " 'data_438.pt',\n",
              " 'data_439.pt',\n",
              " 'data_440.pt',\n",
              " 'data_441.pt',\n",
              " 'data_442.pt',\n",
              " 'data_443.pt',\n",
              " 'data_445.pt',\n",
              " 'data_444.pt',\n",
              " 'data_447.pt',\n",
              " 'data_446.pt',\n",
              " 'data_448.pt',\n",
              " 'data_449.pt',\n",
              " 'data_450.pt',\n",
              " 'data_451.pt',\n",
              " 'data_452.pt',\n",
              " 'data_453.pt',\n",
              " 'data_454.pt',\n",
              " 'data_456.pt',\n",
              " 'data_455.pt',\n",
              " 'data_457.pt',\n",
              " 'data_458.pt',\n",
              " 'data_459.pt',\n",
              " 'data_460.pt',\n",
              " 'data_461.pt',\n",
              " 'data_462.pt',\n",
              " 'data_463.pt',\n",
              " 'data_464.pt',\n",
              " 'data_465.pt',\n",
              " 'data_466.pt',\n",
              " 'data_467.pt',\n",
              " 'data_469.pt',\n",
              " 'data_468.pt',\n",
              " 'data_470.pt',\n",
              " 'data_471.pt',\n",
              " 'data_472.pt',\n",
              " 'data_473.pt',\n",
              " 'data_474.pt',\n",
              " 'data_475.pt',\n",
              " 'data_476.pt',\n",
              " 'data_477.pt',\n",
              " 'data_478.pt',\n",
              " 'data_480.pt',\n",
              " 'data_479.pt',\n",
              " 'data_481.pt',\n",
              " 'data_483.pt',\n",
              " 'data_482.pt',\n",
              " 'data_484.pt',\n",
              " 'data_485.pt',\n",
              " 'data_486.pt',\n",
              " 'data_487.pt',\n",
              " 'data_488.pt',\n",
              " 'data_489.pt',\n",
              " 'data_490.pt',\n",
              " 'data_492.pt',\n",
              " 'data_491.pt',\n",
              " 'data_494.pt',\n",
              " 'data_493.pt',\n",
              " 'data_495.pt',\n",
              " 'data_496.pt',\n",
              " 'data_497.pt',\n",
              " 'data_498.pt',\n",
              " 'data_499.pt',\n",
              " 'data_500.pt',\n",
              " 'data_501.pt',\n",
              " 'data_503.pt',\n",
              " 'data_502.pt',\n",
              " 'data_504.pt',\n",
              " 'data_505.pt',\n",
              " 'data_506.pt',\n",
              " 'data_507.pt',\n",
              " 'data_508.pt',\n",
              " 'data_509.pt',\n",
              " 'data_510.pt',\n",
              " 'data_511.pt',\n",
              " 'data_512.pt',\n",
              " 'data_513.pt',\n",
              " 'data_514.pt',\n",
              " 'data_515.pt',\n",
              " 'data_517.pt',\n",
              " 'data_516.pt',\n",
              " 'data_518.pt',\n",
              " 'data_519.pt',\n",
              " 'data_521.pt',\n",
              " 'data_520.pt',\n",
              " 'data_523.pt',\n",
              " 'data_522.pt',\n",
              " 'data_524.pt',\n",
              " 'data_525.pt',\n",
              " 'data_526.pt',\n",
              " 'data_527.pt',\n",
              " 'data_529.pt',\n",
              " 'data_528.pt',\n",
              " 'data_531.pt',\n",
              " 'data_530.pt',\n",
              " 'data_533.pt',\n",
              " 'data_532.pt',\n",
              " 'data_534.pt',\n",
              " 'data_535.pt',\n",
              " 'data_536.pt',\n",
              " 'data_537.pt',\n",
              " 'data_538.pt',\n",
              " 'data_540.pt',\n",
              " 'data_539.pt',\n",
              " 'data_541.pt',\n",
              " 'data_542.pt',\n",
              " 'data_543.pt',\n",
              " 'data_545.pt',\n",
              " 'data_544.pt',\n",
              " 'data_546.pt',\n",
              " 'data_547.pt',\n",
              " 'data_549.pt',\n",
              " 'data_548.pt',\n",
              " 'data_551.pt',\n",
              " 'data_550.pt',\n",
              " 'data_552.pt',\n",
              " 'data_553.pt',\n",
              " 'data_554.pt',\n",
              " 'data_555.pt',\n",
              " 'data_557.pt',\n",
              " 'data_556.pt',\n",
              " 'data_558.pt',\n",
              " 'data_559.pt',\n",
              " 'data_560.pt',\n",
              " 'data_562.pt',\n",
              " 'data_561.pt',\n",
              " 'data_563.pt',\n",
              " 'data_564.pt',\n",
              " 'data_565.pt',\n",
              " 'data_567.pt',\n",
              " 'data_566.pt',\n",
              " 'data_568.pt',\n",
              " 'data_569.pt',\n",
              " 'data_570.pt',\n",
              " 'data_571.pt',\n",
              " 'data_572.pt',\n",
              " 'data_573.pt',\n",
              " 'data_574.pt',\n",
              " 'pre_filter.pt',\n",
              " 'pre_transform.pt',\n",
              " 'data_575.pt']"
            ]
          },
          "metadata": {},
          "execution_count": 23
        }
      ]
    },
    {
      "cell_type": "code",
      "source": [
        "doc_aligned_with_joined_sentence = open(dataDir + \"/raw/doc_aligned_with_joined_sentence.json\", 'w')\n",
        "\n",
        "with open(dataDir + \"/raw/doc_level_blanks_aligned.json\", 'r') as f:\n",
        "    data = jsonpickle.decode(f.read())\n",
        "\n",
        "    for i in range(len(data)):\n",
        "      data[i]['joined_sentence'] = ' '.join(data[i]['sentence'].values())\n",
        "      data[i]['mapping'] = {}\n",
        "\n",
        "      for item in data[i]['alignment']:\n",
        "        key = item.split(\":\")[0]\n",
        "        item = item.split(\":\")[1].strip().split('-')\n",
        "\n",
        "        data[i]['mapping'][key] = [int(item[0]), int(item[-1])]\n",
        "\n",
        "    doc_aligned_with_joined_sentence.write(jsonpickle.encode(data))\n",
        "\n",
        "doc_aligned_with_joined_sentence.close()"
      ],
      "metadata": {
        "id": "i8fFv7OgJJd7"
      },
      "execution_count": null,
      "outputs": []
    },
    {
      "cell_type": "code",
      "source": [
        "with open(dataDir + \"/raw/doc_aligned_with_joined_sentence.json\", 'r') as f:\n",
        "    data = jsonpickle.decode(f.read())\n",
        "\n",
        "    print(data[0])"
      ],
      "metadata": {
        "colab": {
          "base_uri": "https://localhost:8080/"
        },
        "id": "5dh7RXFQLAi9",
        "outputId": "e11642ad-9f18-4a65-c5c7-6505a57c996c"
      },
      "execution_count": null,
      "outputs": [
        {
          "output_type": "stream",
          "name": "stdout",
          "text": [
            "{'file': 'document_level_conversion/lrec-umr-modal-tool_2023-release', 'id': 'lrec-umr-modal-tool_2023-release.1', 'sentence': {'1': 'Lindsay', '2': 'left', '3': 'in', '4': 'order', '5': 'to', '6': 'eat', '7': 'lunch', '8': '.'}, 'graph': '(s1l / leave-02\\n     :ARG0 (s1p / person\\n                :name (s1n / name\\n                           :op1 \"Lindsay\"))\\n     :purpose (s1e / eat-01\\n                   :ARG0 s1p\\n                   :ARG1 (s1l2 / lunch)\\n                   :aspect blank)\\n     :aspect blank)', 'predicate': 'leave-02', 'variable': 's1l', 'aspect': 'performance', 'alignment': ['s1l: 2-2', 's1p: 1-1', 's1n: 0-0', 's1e: 6-6', 's1l2: 7-7'], 'joined_sentence': 'Lindsay left in order to eat lunch .', 'mapping': {'s1l': [2, 2], 's1p': [1, 1], 's1n': [0, 0], 's1e': [6, 6], 's1l2': [7, 7]}}\n"
          ]
        }
      ]
    },
    {
      "cell_type": "code",
      "source": [
        "import torch.nn.functional as F\n",
        "\n",
        "class MyOwnDataset(Dataset):\n",
        "    def __init__(self, root, transform=None, pre_transform=None, pre_filter=None):\n",
        "        super().__init__(root, transform, pre_transform, pre_filter)\n",
        "\n",
        "    @property\n",
        "    def raw_file_names(self):\n",
        "        return ['doc_aligned_with_joined_sentence.json']\n",
        "\n",
        "    @property\n",
        "    def processed_file_names(self):\n",
        "        return os.listdir(self.processed_dir)\n",
        "        # return \"no.pt\"\n",
        "\n",
        "    def download(self):\n",
        "        pass\n",
        "\n",
        "    def process(self):\n",
        "        labelMapping = {\n",
        "            \"process\": 0,\n",
        "            \"performance\": 1,\n",
        "            \"endeavor\": 2,\n",
        "            \"habitual\": 3,\n",
        "            \"state\": 4,\n",
        "            \"activity\": 5\n",
        "        }\n",
        "\n",
        "        idx = 0\n",
        "\n",
        "        for raw_path in self.raw_paths:\n",
        "\n",
        "            with open(raw_path, 'r') as f:\n",
        "                data = jsonpickle.decode(f.read())\n",
        "\n",
        "                for i in range(len(data)):\n",
        "                  # print(\"here\", i)\n",
        "                  # original_string, graph_str, var_mapping\n",
        "                  # print(\"data\", data[i])\n",
        "                  print(\"raw_path\", data[i])\n",
        "                  graph = create_graph(data[i]['joined_sentence'], data[i]['graph'], data[i]['mapping'], data[i]['variable'])\n",
        "                  # print(\"got graph\")\n",
        "                  labels = F.one_hot(torch.tensor(labelMapping[data[i]['aspect']] if data[i]['aspect'] in labelMapping.keys() else 0), num_classes=6)\n",
        "                  # labels[labelMapping[data[i]['aspect']] if data[i]['aspect'] in labelMapping.keys() else 0] = 1\n",
        "\n",
        "                  # 0 -> aspect\n",
        "                  # 1 -> ended\n",
        "                  # 2 -> complete\n",
        "\n",
        "                  # labels[0:6] = F.one_hot(labelMapping[data[i]['aspect']] if data[i]['aspect'] in labelMapping.keys() else 0, num_classes=6)\n",
        "                  labels = torch.cat((labels, torch.tensor([1 if data[i]['aspect'] == \"performance\" or data[i]['aspect'] == \"endeavor\" else 0])), dim=0)\n",
        "                  labels = torch.cat((labels, torch.tensor([1 if data[i]['aspect'] == \"performance\" else 0])), dim=0)\n",
        "\n",
        "                  dataGraph = create_data_graph(graph[0], graph[1], graph[2], graph[4], graph[3], labels)\n",
        "\n",
        "                  torch.save(dataGraph, os.path.join(self.processed_dir, f'data_{idx}.pt'))\n",
        "                  idx += 1\n",
        "\n",
        "    def len(self):\n",
        "        list_dir = list(filter(lambda l: l.startswith(\"data_\"), os.listdir(self.processed_dir)))\n",
        "\n",
        "        return len(list_dir)\n",
        "\n",
        "    def get(self, idx):\n",
        "        data = torch.load(os.path.join(self.processed_dir, f'data_{idx}.pt'), weights_only=False)\n",
        "        return data"
      ],
      "metadata": {
        "id": "cn0th-pCu79m"
      },
      "execution_count": null,
      "outputs": []
    },
    {
      "cell_type": "code",
      "source": [
        "dataset = MyOwnDataset(root=dataDir)"
      ],
      "metadata": {
        "id": "HwUPAkFl_l_K"
      },
      "execution_count": null,
      "outputs": []
    },
    {
      "cell_type": "code",
      "source": [
        "dataset.num_features"
      ],
      "metadata": {
        "colab": {
          "base_uri": "https://localhost:8080/"
        },
        "id": "UNnIl1VSBVX6",
        "outputId": "7414420f-800c-400b-d2ec-b7037e8b5bc0"
      },
      "execution_count": null,
      "outputs": [
        {
          "output_type": "execute_result",
          "data": {
            "text/plain": [
              "256"
            ]
          },
          "metadata": {},
          "execution_count": 16
        }
      ]
    },
    {
      "cell_type": "code",
      "source": [
        "len(dataset)"
      ],
      "metadata": {
        "colab": {
          "base_uri": "https://localhost:8080/"
        },
        "id": "nfkPChaqn1Wg",
        "outputId": "14bdb5e3-0105-4689-ce38-5139ba65ea84"
      },
      "execution_count": null,
      "outputs": [
        {
          "output_type": "execute_result",
          "data": {
            "text/plain": [
              "576"
            ]
          },
          "metadata": {},
          "execution_count": 17
        }
      ]
    },
    {
      "cell_type": "code",
      "source": [
        "dataset[0]"
      ],
      "metadata": {
        "colab": {
          "base_uri": "https://localhost:8080/"
        },
        "id": "NtJtSUrWBC9b",
        "outputId": "1ef9a115-8604-4af4-8281-6b5399816fbf"
      },
      "execution_count": null,
      "outputs": [
        {
          "output_type": "execute_result",
          "data": {
            "text/plain": [
              "Data(x=[6, 256], edge_index=[2, 6], y=[8], train_mask=[6], input_ids=[6, 256], attention_mask=[6, 256])"
            ]
          },
          "metadata": {},
          "execution_count": 18
        }
      ]
    },
    {
      "cell_type": "code",
      "source": [
        "from torch_geometric.loader import DataLoader\n",
        "\n",
        "dataloader = DataLoader(dataset, shuffle=True)"
      ],
      "metadata": {
        "id": "ntpeiMiCw_ny"
      },
      "execution_count": null,
      "outputs": []
    },
    {
      "cell_type": "code",
      "source": [
        "from torch_geometric.nn import GCNConv, GATConv\n",
        "import torch.nn.functional as F\n",
        "\n",
        "class GCN(torch.nn.Module):\n",
        "    def __init__(self, hidden_channels):\n",
        "        super().__init__()\n",
        "        torch.manual_seed(1234567)\n",
        "        self.bert = BertModel.from_pretrained(\"bert-base-uncased\")\n",
        "        self.conv1 = GCNConv(768, 64)\n",
        "        self.conv2 = GCNConv(64, 32)\n",
        "        # self.bert = BertModel.from_pretrained('bert-base-uncased')\n",
        "        self.linear2 = torch.nn.Linear(32, 2)\n",
        "\n",
        "    def forward(self, x, edge_index, token_index, input_ids, attention_mask):\n",
        "        attention_mask = attention_mask\n",
        "        # print(x.shape)\n",
        "        # print(input_ids.shape)\n",
        "        l = self.bert(input_ids=x, attention_mask=attention_mask)\n",
        "        l = l.last_hidden_state[:,token_index,:]\n",
        "        # print(x.shape)\n",
        "        l = self.conv1(l.squeeze(1), edge_index)\n",
        "        # print(x.shape)\n",
        "        l = l.relu()\n",
        "        l = F.dropout(l, p=0.3, training=self.training)\n",
        "        l = self.conv2(l, edge_index)\n",
        "        # print(x.shape)\n",
        "        l = l.relu()\n",
        "        # print(x.shape)\n",
        "        l = l[token_index]\n",
        "        # print(x.shape)\n",
        "        l = self.linear2(l)\n",
        "        return l"
      ],
      "metadata": {
        "id": "wRMuZn_2ngdg"
      },
      "execution_count": null,
      "outputs": []
    },
    {
      "cell_type": "code",
      "source": [
        "model = GCN(hidden_channels=16)\n",
        "print(model)"
      ],
      "metadata": {
        "colab": {
          "base_uri": "https://localhost:8080/"
        },
        "id": "lRmi3cRwyPRx",
        "outputId": "2e48f1dc-806a-4973-804c-8d4257f3d17f"
      },
      "execution_count": null,
      "outputs": [
        {
          "output_type": "stream",
          "name": "stdout",
          "text": [
            "GCN(\n",
            "  (bert): BertModel(\n",
            "    (embeddings): BertEmbeddings(\n",
            "      (word_embeddings): Embedding(30522, 768, padding_idx=0)\n",
            "      (position_embeddings): Embedding(512, 768)\n",
            "      (token_type_embeddings): Embedding(2, 768)\n",
            "      (LayerNorm): LayerNorm((768,), eps=1e-12, elementwise_affine=True)\n",
            "      (dropout): Dropout(p=0.1, inplace=False)\n",
            "    )\n",
            "    (encoder): BertEncoder(\n",
            "      (layer): ModuleList(\n",
            "        (0-11): 12 x BertLayer(\n",
            "          (attention): BertAttention(\n",
            "            (self): BertSdpaSelfAttention(\n",
            "              (query): Linear(in_features=768, out_features=768, bias=True)\n",
            "              (key): Linear(in_features=768, out_features=768, bias=True)\n",
            "              (value): Linear(in_features=768, out_features=768, bias=True)\n",
            "              (dropout): Dropout(p=0.1, inplace=False)\n",
            "            )\n",
            "            (output): BertSelfOutput(\n",
            "              (dense): Linear(in_features=768, out_features=768, bias=True)\n",
            "              (LayerNorm): LayerNorm((768,), eps=1e-12, elementwise_affine=True)\n",
            "              (dropout): Dropout(p=0.1, inplace=False)\n",
            "            )\n",
            "          )\n",
            "          (intermediate): BertIntermediate(\n",
            "            (dense): Linear(in_features=768, out_features=3072, bias=True)\n",
            "            (intermediate_act_fn): GELUActivation()\n",
            "          )\n",
            "          (output): BertOutput(\n",
            "            (dense): Linear(in_features=3072, out_features=768, bias=True)\n",
            "            (LayerNorm): LayerNorm((768,), eps=1e-12, elementwise_affine=True)\n",
            "            (dropout): Dropout(p=0.1, inplace=False)\n",
            "          )\n",
            "        )\n",
            "      )\n",
            "    )\n",
            "    (pooler): BertPooler(\n",
            "      (dense): Linear(in_features=768, out_features=768, bias=True)\n",
            "      (activation): Tanh()\n",
            "    )\n",
            "  )\n",
            "  (conv1): GCNConv(768, 64)\n",
            "  (conv2): GCNConv(64, 32)\n",
            "  (linear2): Linear(in_features=32, out_features=2, bias=True)\n",
            ")\n"
          ]
        }
      ]
    },
    {
      "cell_type": "code",
      "source": [
        "len(dataset)"
      ],
      "metadata": {
        "colab": {
          "base_uri": "https://localhost:8080/"
        },
        "id": "D3JeZqh8R6yI",
        "outputId": "826afa49-5ed4-47c7-9e96-ed6a7571e253"
      },
      "execution_count": null,
      "outputs": [
        {
          "output_type": "execute_result",
          "data": {
            "text/plain": [
              "576"
            ]
          },
          "metadata": {},
          "execution_count": 284
        }
      ]
    },
    {
      "cell_type": "code",
      "source": [
        "def one_hot_ce_loss(outputs, targets, criterion, should_print):\n",
        "    # criterion = nn.CrossEntropyLoss()\n",
        "    # print(\"shape\", outputs.shape)\n",
        "    _, outputLabels = torch.max(outputs, dim=0)\n",
        "    _, labels = torch.max(targets, dim=0)\n",
        "    if should_print:\n",
        "      print(outputLabels, labels)\n",
        "    return criterion(outputLabels.float(), labels.float())"
      ],
      "metadata": {
        "id": "JxsKVjYaWjFH"
      },
      "execution_count": null,
      "outputs": []
    },
    {
      "cell_type": "code",
      "source": [
        "import numpy as np\n",
        "from sklearn.metrics import f1_score\n",
        "\n",
        "model = GCN(hidden_channels=16).to(device)\n",
        "optimizer = torch.optim.AdamW(model.parameters(), lr=3e-6)\n",
        "cross_entropy = torch.nn.CrossEntropyLoss().to(device)\n",
        "criterion1 = torch.nn.BCEWithLogitsLoss().to(device)\n",
        "criterion2 = torch.nn.BCEWithLogitsLoss().to(device)\n",
        "\n",
        "def train():\n",
        "  training_predictions = []\n",
        "  training_values = []\n",
        "  n = 0\n",
        "  for data in dataloader:\n",
        "    data = data.to(device)\n",
        "    model.train()\n",
        "    optimizer.zero_grad()  # Clear gradients.\n",
        "    tensor_index = torch.where(data.train_mask > 0)\n",
        "    # print(data.input_ids)\n",
        "    out = model(data.x.long(), data.edge_index, tensor_index, data.input_ids.long(), data.attention_mask.long())  # Perform a single forward pass.\n",
        "    # print(\"data shape\", data.x.shape,\"out shape\", out.shape, \"data y shape\", data.y.shape)\n",
        "    # print(\"output shape\", out, data.y.float())\n",
        "    # loss = criterion1(out[:, 6].squeeze(0), data.y[6].float()) + criterion2(out[:, 7].squeeze(0), data.y[7].float())\n",
        "    # cross_entropy(out[:, :6].squeeze(0), data.y[:6].float()) +  + criterion2(out[:, 7].squeeze(0), data.y[7].float())\n",
        "    # loss = cross_entropy(out[:, :6].squeeze(0), data.y[:6].float())\n",
        "    # print(out.squeeze(0).shape, data.y[6:].shape)\n",
        "    # print(\"data\",out.squeeze(0), data.y[6:].float())\n",
        "    loss = criterion1(out.squeeze(0), data.y[6:].float())\n",
        "    training_predictions.append(out.squeeze(0))\n",
        "    training_values.append(data.y[6:].float())\n",
        "    # print(\"loss\", loss)\n",
        "    loss.backward()  # Derive gradients.\n",
        "    optimizer.step()  # Update parameters based on gradients.\n",
        "\n",
        "    if n % 100 == 0:\n",
        "      print(\"\\tloss\", loss.item())\n",
        "      # break\n",
        "    n += 1\n",
        "\n",
        "  # print(\"training_values shape\", torch.stack(training_values).shape, torch.stack(training_predictions).shape)\n",
        "  training_predictions = torch.sigmoid(torch.stack(training_predictions))\n",
        "  training_predictions = torch.where(training_predictions > 0.5, 1, 0).cpu().numpy()\n",
        "  training_values = torch.stack(training_values).cpu().numpy()\n",
        "\n",
        "\n",
        "  f1_macro = f1_score(training_values, training_predictions, average='macro')\n",
        "  f1_micro = f1_score(training_values, training_predictions, average='micro')\n",
        "  print(\"macro_f1\", f1_macro)\n",
        "  print(\"micro_f1\", f1_micro)\n",
        "  # print(f'Epoch: {epoch:03d}, Loss: {loss:.4f}')\n",
        "    # return loss\n",
        "\n",
        "for epoch in range(1, 10):\n",
        "    print(\"Epoch\", epoch)\n",
        "    train()\n",
        "    # print(f'Epoch: {epoch:03d}, Loss: {loss:.4f}')"
      ],
      "metadata": {
        "id": "O09dQ-NHtPN0",
        "colab": {
          "base_uri": "https://localhost:8080/"
        },
        "outputId": "b2580c7c-d5aa-4b45-c54e-5e1629cb0250"
      },
      "execution_count": null,
      "outputs": [
        {
          "output_type": "stream",
          "name": "stdout",
          "text": [
            "Epoch 1\n",
            "\tloss 0.6983944177627563\n",
            "\tloss 0.6179443597793579\n",
            "\tloss 0.761359691619873\n",
            "\tloss 0.5601934194564819\n",
            "\tloss 0.5289684534072876\n",
            "\tloss 0.5443546175956726\n",
            "macro_f1 0.21480681902776744\n",
            "micro_f1 0.23582089552238805\n",
            "Epoch 2\n",
            "\tloss 0.7805282473564148\n",
            "\tloss 0.5462696552276611\n",
            "\tloss 0.7772070169448853\n",
            "\tloss 0.8038341999053955\n",
            "\tloss 0.48933547735214233\n",
            "\tloss 0.7171294689178467\n",
            "macro_f1 0.07131365531733264\n",
            "micro_f1 0.07272727272727272\n",
            "Epoch 3\n",
            "\tloss 0.5174875259399414\n",
            "\tloss 0.5008063316345215\n",
            "\tloss 0.6393994092941284\n",
            "\tloss 0.5369535684585571\n",
            "\tloss 0.5767947435379028\n",
            "\tloss 0.5665438771247864\n",
            "macro_f1 0.024771929824561403\n",
            "micro_f1 0.02510460251046025\n",
            "Epoch 4\n",
            "\tloss 0.5086058378219604\n",
            "\tloss 0.5051569938659668\n",
            "\tloss 0.4522247612476349\n",
            "\tloss 0.5203818082809448\n",
            "\tloss 0.8867872953414917\n",
            "\tloss 0.8298136591911316\n",
            "macro_f1 0.05315483638732238\n",
            "micro_f1 0.05371900826446281\n",
            "Epoch 5\n",
            "\tloss 0.5478367209434509\n",
            "\tloss 0.5341653823852539\n",
            "\tloss 0.5782413482666016\n",
            "\tloss 0.6618101000785828\n",
            "\tloss 0.7870182991027832\n",
            "\tloss 1.0224658250808716\n",
            "macro_f1 0.08651830349943558\n",
            "micro_f1 0.08817635270541083\n",
            "Epoch 6\n",
            "\tloss 0.4608805477619171\n",
            "\tloss 0.8784879446029663\n",
            "\tloss 0.911144495010376\n",
            "\tloss 0.4690210819244385\n",
            "\tloss 0.7899227142333984\n",
            "\tloss 0.9425274133682251\n",
            "macro_f1 0.16629016579729194\n",
            "micro_f1 0.16974169741697417\n",
            "Epoch 7\n",
            "\tloss 0.7127219438552856\n",
            "\tloss 0.39807671308517456\n",
            "\tloss 0.4661044478416443\n",
            "\tloss 0.6367995738983154\n",
            "\tloss 0.8260709643363953\n",
            "\tloss 0.4057568311691284\n",
            "macro_f1 0.3226499902286496\n",
            "micro_f1 0.3244929797191888\n",
            "Epoch 8\n",
            "\tloss 0.7048073410987854\n",
            "\tloss 0.7556228637695312\n",
            "\tloss 0.3890679180622101\n",
            "\tloss 0.4106830656528473\n",
            "\tloss 0.4183449447154999\n",
            "\tloss 0.41674351692199707\n",
            "macro_f1 0.34488783005757395\n",
            "micro_f1 0.34850863422291994\n",
            "Epoch 9\n",
            "\tloss 1.0700359344482422\n",
            "\tloss 0.3202359974384308\n",
            "\tloss 0.6362221240997314\n",
            "\tloss 0.6554152965545654\n",
            "\tloss 0.5311427712440491\n",
            "\tloss 1.29861581325531\n",
            "macro_f1 0.4288356852174832\n",
            "micro_f1 0.42962962962962964\n"
          ]
        }
      ]
    },
    {
      "cell_type": "code",
      "source": [
        "for epoch in range(1, 10):\n",
        "    print(\"Epoch\", epoch)\n",
        "    train()"
      ],
      "metadata": {
        "colab": {
          "base_uri": "https://localhost:8080/"
        },
        "id": "vifoVuyuHWhI",
        "outputId": "630bc4d3-2e74-4865-d0ce-6bb08dbed2f0"
      },
      "execution_count": null,
      "outputs": [
        {
          "output_type": "stream",
          "name": "stdout",
          "text": [
            "Epoch 1\n",
            "\tloss 0.9178164005279541\n",
            "\tloss 0.35632210969924927\n",
            "\tloss 0.9071388244628906\n",
            "\tloss 0.4765847325325012\n",
            "\tloss 1.1826884746551514\n",
            "\tloss 1.2749755382537842\n",
            "macro_f1 0.5014424618014746\n",
            "micro_f1 0.5020689655172413\n",
            "Epoch 2\n",
            "\tloss 0.8085924386978149\n",
            "\tloss 0.38732120394706726\n",
            "\tloss 1.2048532962799072\n",
            "\tloss 0.5315617322921753\n",
            "\tloss 0.28416648507118225\n",
            "\tloss 0.2841554880142212\n",
            "macro_f1 0.5460287168302436\n",
            "micro_f1 0.5486968449931413\n",
            "Epoch 3\n",
            "\tloss 1.4042102098464966\n",
            "\tloss 0.4464082717895508\n",
            "\tloss 0.610145092010498\n",
            "\tloss 0.570894181728363\n",
            "\tloss 0.6862615346908569\n",
            "\tloss 0.4158470034599304\n",
            "macro_f1 0.5965829145728643\n",
            "micro_f1 0.5989304812834224\n",
            "Epoch 4\n",
            "\tloss 0.8447322845458984\n",
            "\tloss 1.3185458183288574\n",
            "\tloss 0.7626651525497437\n",
            "\tloss 0.20575743913650513\n",
            "\tloss 0.4691917598247528\n",
            "\tloss 1.00748610496521\n",
            "macro_f1 0.6243631017262794\n",
            "micro_f1 0.6238993710691824\n",
            "Epoch 5\n",
            "\tloss 0.5421382784843445\n",
            "\tloss 0.41913264989852905\n",
            "\tloss 0.30947014689445496\n",
            "\tloss 0.185907781124115\n",
            "\tloss 0.23492252826690674\n",
            "\tloss 0.7429108619689941\n",
            "macro_f1 0.62825311942959\n",
            "micro_f1 0.6285018270401949\n",
            "Epoch 6\n",
            "\tloss 0.780925989151001\n",
            "\tloss 0.5095021724700928\n",
            "\tloss 0.7814339399337769\n",
            "\tloss 0.30665692687034607\n",
            "\tloss 0.29518014192581177\n",
            "\tloss 0.131771981716156\n",
            "macro_f1 0.6700926206339592\n",
            "micro_f1 0.6700125470514429\n",
            "Epoch 7\n",
            "\tloss 0.22356843948364258\n",
            "\tloss 0.3382496237754822\n",
            "\tloss 0.1328519582748413\n",
            "\tloss 0.06948083639144897\n",
            "\tloss 0.3432601988315582\n",
            "\tloss 0.3219350576400757\n",
            "macro_f1 0.7070960047704233\n",
            "micro_f1 0.7073170731707317\n",
            "Epoch 8\n",
            "\tloss 0.2456405758857727\n",
            "\tloss 0.2939278483390808\n",
            "\tloss 0.23454558849334717\n",
            "\tloss 0.13151957094669342\n",
            "\tloss 0.36406975984573364\n",
            "\tloss 0.09622597694396973\n",
            "macro_f1 0.700153709725096\n",
            "micro_f1 0.6998784933171325\n",
            "Epoch 9\n",
            "\tloss 0.3624134659767151\n",
            "\tloss 0.22058826684951782\n",
            "\tloss 0.2734818458557129\n",
            "\tloss 0.2838699221611023\n",
            "\tloss 0.24988067150115967\n",
            "\tloss 0.3025323450565338\n",
            "macro_f1 0.7307116084009557\n",
            "micro_f1 0.7311320754716981\n"
          ]
        }
      ]
    },
    {
      "cell_type": "code",
      "source": [
        "torch.save(model.state_dict(), 'drive/MyDrive/UMR_data_2/model_state_dict_end_result2.pth')"
      ],
      "metadata": {
        "id": "4OzQ02Qjryg5"
      },
      "execution_count": null,
      "outputs": []
    },
    {
      "cell_type": "code",
      "source": [
        "# Calculate the number of parameters\n",
        "total_params = sum(p.numel() for p in model.parameters())\n",
        "print(f\"Total number of parameters: {total_params}\")"
      ],
      "metadata": {
        "colab": {
          "base_uri": "https://localhost:8080/"
        },
        "id": "kK4ZOW2zDKd_",
        "outputId": "53e06d08-148c-4a51-8d4f-87e25c409ce6"
      },
      "execution_count": null,
      "outputs": [
        {
          "output_type": "stream",
          "name": "stdout",
          "text": [
            "Total number of parameters: 109507410\n"
          ]
        }
      ]
    },
    {
      "cell_type": "code",
      "source": [],
      "metadata": {
        "id": "3FrNarxbulFD"
      },
      "execution_count": null,
      "outputs": []
    }
  ]
}